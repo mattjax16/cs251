{
 "cells": [
  {
   "cell_type": "markdown",
   "metadata": {
    "collapsed": true,
    "pycharm": {
     "name": "#%% md\n"
    }
   },
   "source": [
    "This is a data exploration and analysis of UCI Worldcup Downhill racing stats. With most of the data comming from pro\n",
    "mountian bike rider Elliot Jacksons's site http://worldcup.eliotjackson.com/\n",
    "\n",
    "The intial goal of my data exploration and analysis of these races is to try and determine what factors lead to someone\n",
    "winning a race and in the end I hope to build a prediction model for who will win race results based off of my findings\n",
    "To do all this work I will use all the tools I have build through-out CS251"
   ]
  },
  {
   "cell_type": "code",
   "execution_count": 1,
   "outputs": [],
   "source": [
    "# importing all needed librarys and setting intial parameters afor the notebook\n",
    "import os\n",
    "import random\n",
    "import numpy as np\n",
    "import cupy as cp\n",
    "import matplotlib.pyplot as plt\n",
    "import pandas as pd\n",
    "\n",
    "#imports for the tools I created\n",
    "import rbf_net\n",
    "import knn_P7 as knn\n",
    "import kmeansGPU as kmeans\n",
    "import linear_regression_gpu as lineaer_regeression\n",
    "import naive_bayes_multinomial_P7 as naive_bayes\n",
    "\n",
    "# importing libraries for scrapping webdata\n",
    "import requests\n",
    "from bs4 import BeautifulSoup , NavigableString\n",
    "import json\n",
    "from requests_html import HTMLSession,AsyncHTMLSession\n",
    "\n",
    "\n",
    "plt.style.use(['seaborn-colorblind', 'seaborn-darkgrid'])\n",
    "plt.rcParams.update({'font.size': 20})\n",
    "\n",
    "np.set_printoptions(suppress=True, precision=5)\n",
    "\n",
    "# Automatically reload external modules\n",
    "%load_ext autoreload\n",
    "%autoreload 2\n"
   ],
   "metadata": {
    "collapsed": false,
    "pycharm": {
     "name": "#%%\n"
    }
   }
  },
  {
   "cell_type": "markdown",
   "source": [
    "To start I need to gather the data and clean it before I can do the data analysis.\n",
    " (From: http://worldcup.eliotjackson.com)\n",
    "\n",
    "I am going to collect all the data from the site. This turned out to be quite a process so I will run though\n",
    "how I gathered the data and structured it below\n",
    "\n",
    "To start I use the chrome developer window and help from friends to learn that I needed to eb searhing for the jsons in\n",
    "the api calls for the site (using the requests package to make calls to the different urls and read in the data from them as a json file)\n",
    "Also when the url call returned only a single json file (and not nested json Files) I was able to use pandas.read_json()\n",
    "\n",
    "Creating a pandas database of all the riders\n"
   ],
   "metadata": {
    "collapsed": false,
    "pycharm": {
     "name": "#%% md\n"
    }
   }
  },
  {
   "cell_type": "code",
   "execution_count": 2,
   "outputs": [],
   "source": [
    "riders_df = pd.read_json('http://worldcup.eliotjackson.com/api/riders')\n",
    "#TODO make ride names the index of the data frame\n",
    "\n"
   ],
   "metadata": {
    "collapsed": false,
    "pycharm": {
     "name": "#%%\n"
    }
   }
  },
  {
   "cell_type": "markdown",
   "source": [
    "Collecting all the data from the races category"
   ],
   "metadata": {
    "collapsed": false,
    "pycharm": {
     "name": "#%% md\n"
    }
   }
  },
  {
   "cell_type": "code",
   "execution_count": 3,
   "outputs": [
    {
     "data": {
      "text/plain": "          date  qualy_date practice_date  year               event  \\\n0   2020-09-07  2020/09/06    2019/09/05  2020  World Championship   \n1   2020-10-16  2020/10/15          None  2020           World Cup   \n2   2020-10-18  2020/10/17          None  2020           World Cup   \n3   2019-08-31  2019/08/30          None  2019  World Championship   \n4   2019-04-28  2019/04/27    2019/04/26  2019           World Cup   \n..         ...         ...           ...   ...                 ...   \n187 1995-09-23  1995/09/22          None  1995  World Championship   \n188 1994-09-18  1994/09/17          None  1994  World Championship   \n189 1993-09-19  1993/09/18          None  1993  World Championship   \n190 1992-09-20  1992/09/19          None  1992  World Championship   \n191 1991-10-06  1991/10/05          None  1991  World Championship   \n\n                                                  link  \\\n0    https://www.rootsandrain.com/race6987/2019-sep...   \n1    https://www.rootsandrain.com/race6987/2019-sep...   \n2    https://www.rootsandrain.com/race6987/2019-sep...   \n3    https://www.rootsandrain.com/race6988/2019-sep...   \n4    https://www.rootsandrain.com/race6980/2019-apr...   \n..                                                 ...   \n187  https://www.rootsandrain.com/race1459/1995-sep...   \n188  https://www.rootsandrain.com/race2263/1994-sep...   \n189  https://www.rootsandrain.com/race2264/1993-sep...   \n190  https://www.rootsandrain.com/race2265/1992-sep...   \n191  https://www.rootsandrain.com/race2973/1991-oct...   \n\n                                              uci_link       location  \\\n0                                                 None        Austria   \n1    https://prod.chronorace.be/api/results/uci/dh/...       Slovenia   \n2    https://prod.chronorace.be/api/results/uci/dh/...       Slovenia   \n3    http://prod.chronorace.be/api/results/uci/dh/r...         Canada   \n4    http://prod.chronorace.be/api/results/uci/dh/r...       Slovenia   \n..                                                 ...            ...   \n187                                               None        Germany   \n188                                               None  United States   \n189                                               None         France   \n190                                               None         Canada   \n191                                               None          Italy   \n\n    country_code           round_num  ...         juniorwomen_qualy_racetime  \\\n0            AUT  World Championship  ...  2020-09-06 10:15~2020-09-06 10:30   \n1            SLO                   1  ...  2020-10-15 10:15~2020-10-15 10:30   \n2            SLO                   2  ...  2020-10-17 10:15~2020-10-17 10:30   \n3            CAN  World Championship  ...  2019-08-30 14:45~2019-08-30 15:00   \n4            SLO                   1  ...  2019-04-27 10:15~2019-04-27 10:30   \n..           ...                 ...  ...                                ...   \n187          GER  World Championship  ...                               None   \n188          USA  World Championship  ...                               None   \n189          FRA  World Championship  ...                               None   \n190          CAN  World Championship  ...                               None   \n191          ITA  World Championship  ...                               None   \n\n               elitemen_final_racetime          elitewomen_final_racetime  \\\n0    2020-09-07 11:30~2020-09-07 15:00  2020-09-07 10:30~2020-09-07 11:30   \n1    2020-10-16 11:30~2020-10-16 15:00  2020-10-16 10:30~2020-10-16 11:30   \n2    2020-10-18 11:30~2020-10-18 15:00  2020-10-18 10:30~2020-10-18 11:30   \n3    2019-08-31 16:00~2019-08-31 19:30  2019-08-31 15:00~2019-08-31 16:00   \n4    2019-04-28 11:30~2019-04-28 15:00  2019-04-28 10:30~2019-04-28 11:30   \n..                                 ...                                ...   \n187                               None                               None   \n188                               None                               None   \n189                               None                               None   \n190                               None                               None   \n191                               None                               None   \n\n              juniormen_final_racetime         juniorwomen_final_racetime  \\\n0    2020-09-07 08:15~2020-09-07 09:00  2020-09-07 07:45~2020-09-07 08:15   \n1    2020-10-16 08:15~2020-10-16 09:00  2020-10-16 07:45~2020-10-16 08:15   \n2    2020-10-18 08:15~2020-10-18 09:00  2020-10-18 07:45~2020-10-18 08:15   \n3    2019-08-31 12:45~2019-08-31 13:30  2019-08-31 12:15~2019-08-31 12:45   \n4    2019-04-28 08:15~2019-04-28 09:00  2019-04-28 07:45~2019-04-28 08:15   \n..                                 ...                                ...   \n187                               None                               None   \n188                               None                               None   \n189                               None                               None   \n190                               None                               None   \n191                               None                               None   \n\n     utc_practice_date  utc_final_date  redbull_link  rounds  current_round  \n0           2019/09/05      2020/09/07          None     2.0            1.0  \n1           2019/09/05      2020/10/16          None     2.0            1.0  \n2           2019/09/05      2020/10/18          None     2.0            1.0  \n3                 None      2019/08/31          None     8.0            8.0  \n4           2019/04/26      2019/04/28          None     8.0            8.0  \n..                 ...             ...           ...     ...            ...  \n187               None            None          None     NaN            NaN  \n188               None            None          None     NaN            NaN  \n189               None            None          None     NaN            NaN  \n190               None            None          None     NaN            NaN  \n191               None            None          None     NaN            NaN  \n\n[192 rows x 60 columns]",
      "text/html": "<div>\n<style scoped>\n    .dataframe tbody tr th:only-of-type {\n        vertical-align: middle;\n    }\n\n    .dataframe tbody tr th {\n        vertical-align: top;\n    }\n\n    .dataframe thead th {\n        text-align: right;\n    }\n</style>\n<table border=\"1\" class=\"dataframe\">\n  <thead>\n    <tr style=\"text-align: right;\">\n      <th></th>\n      <th>date</th>\n      <th>qualy_date</th>\n      <th>practice_date</th>\n      <th>year</th>\n      <th>event</th>\n      <th>link</th>\n      <th>uci_link</th>\n      <th>location</th>\n      <th>country_code</th>\n      <th>round_num</th>\n      <th>...</th>\n      <th>juniorwomen_qualy_racetime</th>\n      <th>elitemen_final_racetime</th>\n      <th>elitewomen_final_racetime</th>\n      <th>juniormen_final_racetime</th>\n      <th>juniorwomen_final_racetime</th>\n      <th>utc_practice_date</th>\n      <th>utc_final_date</th>\n      <th>redbull_link</th>\n      <th>rounds</th>\n      <th>current_round</th>\n    </tr>\n  </thead>\n  <tbody>\n    <tr>\n      <th>0</th>\n      <td>2020-09-07</td>\n      <td>2020/09/06</td>\n      <td>2019/09/05</td>\n      <td>2020</td>\n      <td>World Championship</td>\n      <td>https://www.rootsandrain.com/race6987/2019-sep...</td>\n      <td>None</td>\n      <td>Austria</td>\n      <td>AUT</td>\n      <td>World Championship</td>\n      <td>...</td>\n      <td>2020-09-06 10:15~2020-09-06 10:30</td>\n      <td>2020-09-07 11:30~2020-09-07 15:00</td>\n      <td>2020-09-07 10:30~2020-09-07 11:30</td>\n      <td>2020-09-07 08:15~2020-09-07 09:00</td>\n      <td>2020-09-07 07:45~2020-09-07 08:15</td>\n      <td>2019/09/05</td>\n      <td>2020/09/07</td>\n      <td>None</td>\n      <td>2.0</td>\n      <td>1.0</td>\n    </tr>\n    <tr>\n      <th>1</th>\n      <td>2020-10-16</td>\n      <td>2020/10/15</td>\n      <td>None</td>\n      <td>2020</td>\n      <td>World Cup</td>\n      <td>https://www.rootsandrain.com/race6987/2019-sep...</td>\n      <td>https://prod.chronorace.be/api/results/uci/dh/...</td>\n      <td>Slovenia</td>\n      <td>SLO</td>\n      <td>1</td>\n      <td>...</td>\n      <td>2020-10-15 10:15~2020-10-15 10:30</td>\n      <td>2020-10-16 11:30~2020-10-16 15:00</td>\n      <td>2020-10-16 10:30~2020-10-16 11:30</td>\n      <td>2020-10-16 08:15~2020-10-16 09:00</td>\n      <td>2020-10-16 07:45~2020-10-16 08:15</td>\n      <td>2019/09/05</td>\n      <td>2020/10/16</td>\n      <td>None</td>\n      <td>2.0</td>\n      <td>1.0</td>\n    </tr>\n    <tr>\n      <th>2</th>\n      <td>2020-10-18</td>\n      <td>2020/10/17</td>\n      <td>None</td>\n      <td>2020</td>\n      <td>World Cup</td>\n      <td>https://www.rootsandrain.com/race6987/2019-sep...</td>\n      <td>https://prod.chronorace.be/api/results/uci/dh/...</td>\n      <td>Slovenia</td>\n      <td>SLO</td>\n      <td>2</td>\n      <td>...</td>\n      <td>2020-10-17 10:15~2020-10-17 10:30</td>\n      <td>2020-10-18 11:30~2020-10-18 15:00</td>\n      <td>2020-10-18 10:30~2020-10-18 11:30</td>\n      <td>2020-10-18 08:15~2020-10-18 09:00</td>\n      <td>2020-10-18 07:45~2020-10-18 08:15</td>\n      <td>2019/09/05</td>\n      <td>2020/10/18</td>\n      <td>None</td>\n      <td>2.0</td>\n      <td>1.0</td>\n    </tr>\n    <tr>\n      <th>3</th>\n      <td>2019-08-31</td>\n      <td>2019/08/30</td>\n      <td>None</td>\n      <td>2019</td>\n      <td>World Championship</td>\n      <td>https://www.rootsandrain.com/race6988/2019-sep...</td>\n      <td>http://prod.chronorace.be/api/results/uci/dh/r...</td>\n      <td>Canada</td>\n      <td>CAN</td>\n      <td>World Championship</td>\n      <td>...</td>\n      <td>2019-08-30 14:45~2019-08-30 15:00</td>\n      <td>2019-08-31 16:00~2019-08-31 19:30</td>\n      <td>2019-08-31 15:00~2019-08-31 16:00</td>\n      <td>2019-08-31 12:45~2019-08-31 13:30</td>\n      <td>2019-08-31 12:15~2019-08-31 12:45</td>\n      <td>None</td>\n      <td>2019/08/31</td>\n      <td>None</td>\n      <td>8.0</td>\n      <td>8.0</td>\n    </tr>\n    <tr>\n      <th>4</th>\n      <td>2019-04-28</td>\n      <td>2019/04/27</td>\n      <td>2019/04/26</td>\n      <td>2019</td>\n      <td>World Cup</td>\n      <td>https://www.rootsandrain.com/race6980/2019-apr...</td>\n      <td>http://prod.chronorace.be/api/results/uci/dh/r...</td>\n      <td>Slovenia</td>\n      <td>SLO</td>\n      <td>1</td>\n      <td>...</td>\n      <td>2019-04-27 10:15~2019-04-27 10:30</td>\n      <td>2019-04-28 11:30~2019-04-28 15:00</td>\n      <td>2019-04-28 10:30~2019-04-28 11:30</td>\n      <td>2019-04-28 08:15~2019-04-28 09:00</td>\n      <td>2019-04-28 07:45~2019-04-28 08:15</td>\n      <td>2019/04/26</td>\n      <td>2019/04/28</td>\n      <td>None</td>\n      <td>8.0</td>\n      <td>8.0</td>\n    </tr>\n    <tr>\n      <th>...</th>\n      <td>...</td>\n      <td>...</td>\n      <td>...</td>\n      <td>...</td>\n      <td>...</td>\n      <td>...</td>\n      <td>...</td>\n      <td>...</td>\n      <td>...</td>\n      <td>...</td>\n      <td>...</td>\n      <td>...</td>\n      <td>...</td>\n      <td>...</td>\n      <td>...</td>\n      <td>...</td>\n      <td>...</td>\n      <td>...</td>\n      <td>...</td>\n      <td>...</td>\n      <td>...</td>\n    </tr>\n    <tr>\n      <th>187</th>\n      <td>1995-09-23</td>\n      <td>1995/09/22</td>\n      <td>None</td>\n      <td>1995</td>\n      <td>World Championship</td>\n      <td>https://www.rootsandrain.com/race1459/1995-sep...</td>\n      <td>None</td>\n      <td>Germany</td>\n      <td>GER</td>\n      <td>World Championship</td>\n      <td>...</td>\n      <td>None</td>\n      <td>None</td>\n      <td>None</td>\n      <td>None</td>\n      <td>None</td>\n      <td>None</td>\n      <td>None</td>\n      <td>None</td>\n      <td>NaN</td>\n      <td>NaN</td>\n    </tr>\n    <tr>\n      <th>188</th>\n      <td>1994-09-18</td>\n      <td>1994/09/17</td>\n      <td>None</td>\n      <td>1994</td>\n      <td>World Championship</td>\n      <td>https://www.rootsandrain.com/race2263/1994-sep...</td>\n      <td>None</td>\n      <td>United States</td>\n      <td>USA</td>\n      <td>World Championship</td>\n      <td>...</td>\n      <td>None</td>\n      <td>None</td>\n      <td>None</td>\n      <td>None</td>\n      <td>None</td>\n      <td>None</td>\n      <td>None</td>\n      <td>None</td>\n      <td>NaN</td>\n      <td>NaN</td>\n    </tr>\n    <tr>\n      <th>189</th>\n      <td>1993-09-19</td>\n      <td>1993/09/18</td>\n      <td>None</td>\n      <td>1993</td>\n      <td>World Championship</td>\n      <td>https://www.rootsandrain.com/race2264/1993-sep...</td>\n      <td>None</td>\n      <td>France</td>\n      <td>FRA</td>\n      <td>World Championship</td>\n      <td>...</td>\n      <td>None</td>\n      <td>None</td>\n      <td>None</td>\n      <td>None</td>\n      <td>None</td>\n      <td>None</td>\n      <td>None</td>\n      <td>None</td>\n      <td>NaN</td>\n      <td>NaN</td>\n    </tr>\n    <tr>\n      <th>190</th>\n      <td>1992-09-20</td>\n      <td>1992/09/19</td>\n      <td>None</td>\n      <td>1992</td>\n      <td>World Championship</td>\n      <td>https://www.rootsandrain.com/race2265/1992-sep...</td>\n      <td>None</td>\n      <td>Canada</td>\n      <td>CAN</td>\n      <td>World Championship</td>\n      <td>...</td>\n      <td>None</td>\n      <td>None</td>\n      <td>None</td>\n      <td>None</td>\n      <td>None</td>\n      <td>None</td>\n      <td>None</td>\n      <td>None</td>\n      <td>NaN</td>\n      <td>NaN</td>\n    </tr>\n    <tr>\n      <th>191</th>\n      <td>1991-10-06</td>\n      <td>1991/10/05</td>\n      <td>None</td>\n      <td>1991</td>\n      <td>World Championship</td>\n      <td>https://www.rootsandrain.com/race2973/1991-oct...</td>\n      <td>None</td>\n      <td>Italy</td>\n      <td>ITA</td>\n      <td>World Championship</td>\n      <td>...</td>\n      <td>None</td>\n      <td>None</td>\n      <td>None</td>\n      <td>None</td>\n      <td>None</td>\n      <td>None</td>\n      <td>None</td>\n      <td>None</td>\n      <td>NaN</td>\n      <td>NaN</td>\n    </tr>\n  </tbody>\n</table>\n<p>192 rows × 60 columns</p>\n</div>"
     },
     "execution_count": 3,
     "metadata": {},
     "output_type": "execute_result"
    }
   ],
   "source": [
    "venues_df = pd.read_json('http://worldcup.eliotjackson.com/api/races/venues')\n",
    "venues_df"
   ],
   "metadata": {
    "collapsed": false,
    "pycharm": {
     "name": "#%%\n"
    }
   }
  },
  {
   "cell_type": "markdown",
   "source": [
    "From here I am going to run this script below to loop collect every json file holding the results of each race"
   ],
   "metadata": {
    "collapsed": false,
    "pycharm": {
     "name": "#%% md\n"
    }
   }
  },
  {
   "cell_type": "code",
   "execution_count": 4,
   "outputs": [],
   "source": [
    "#TODO make a check to see if files have already been grabbed\n",
    "# for venue , year in zip(venues_df.venue,venues_df.year):\n",
    "#     with open(f'data/results_jsons/{year}_{venue}_results.json','w') as f:\n",
    "#         result_request = requests.get(url=f'http://mworldcup.eliotjackson.com/api/races/results?year={year}&venue={venue}')\n",
    "#         result_json = result_request.json()\n",
    "#         json.dump(result_json,f)\n",
    "#         print(f'Finished getting: {year}_{venue}_results')"
   ],
   "metadata": {
    "collapsed": false,
    "pycharm": {
     "name": "#%%\n"
    }
   }
  },
  {
   "cell_type": "code",
   "execution_count": 5,
   "outputs": [],
   "source": [
    "# Now I am going to save the riders json file in data/riders\n",
    "# wc_api_riders_request = requests.get('http://mworldcup.eliotjackson.com/api/riders')\n",
    "# wc_api_riders_json = wc_api_riders_request.json()\n",
    "# with open('data/riders/wc_riders.json','w') as f:\n",
    "#     json.dump(wc_api_riders_json, f)\n",
    "\n",
    "\n"
   ],
   "metadata": {
    "collapsed": false,
    "pycharm": {
     "name": "#%%\n"
    }
   }
  },
  {
   "cell_type": "markdown",
   "source": [
    "Now I am going to look at the results from the elite mens category during the 2019 Snowshoe WC\n",
    "\n"
   ],
   "metadata": {
    "collapsed": false,
    "pycharm": {
     "name": "#%% md\n"
    }
   },
   "outputs": [
    {
     "ename": "SyntaxError",
     "evalue": "invalid syntax (<ipython-input-11-933965b35ab5>, line 1)",
     "output_type": "error",
     "traceback": [
      "\u001B[0;36m  File \u001B[0;32m\"<ipython-input-11-933965b35ab5>\"\u001B[0;36m, line \u001B[0;32m1\u001B[0m\n\u001B[0;31m    Now I am going to look at the results from the elite mens category during the 2019 Snowshoe WC\u001B[0m\n\u001B[0m        ^\u001B[0m\n\u001B[0;31mSyntaxError\u001B[0m\u001B[0;31m:\u001B[0m invalid syntax\n"
     ]
    }
   ],
   "execution_count": 11
  },
  {
   "cell_type": "code",
   "execution_count": 12,
   "outputs": [
    {
     "ename": "KeyboardInterrupt",
     "evalue": "",
     "output_type": "error",
     "traceback": [
      "\u001B[0;31m---------------------------------------------------------------------------\u001B[0m",
      "\u001B[0;31mKeyboardInterrupt\u001B[0m                         Traceback (most recent call last)",
      "\u001B[0;32m<ipython-input-12-c27f4326e637>\u001B[0m in \u001B[0;36m<module>\u001B[0;34m\u001B[0m\n\u001B[1;32m    127\u001B[0m \u001B[0;34m\u001B[0m\u001B[0m\n\u001B[1;32m    128\u001B[0m \u001B[0;34m\u001B[0m\u001B[0m\n\u001B[0;32m--> 129\u001B[0;31m \u001B[0msnow_2019_df\u001B[0m \u001B[0;34m=\u001B[0m \u001B[0mload_race_result_json_to_df\u001B[0m\u001B[0;34m(\u001B[0m\u001B[0msnow_2019_file_path\u001B[0m\u001B[0;34m)\u001B[0m\u001B[0;34m\u001B[0m\u001B[0;34m\u001B[0m\u001B[0m\n\u001B[0m\u001B[1;32m    130\u001B[0m \u001B[0;34m\u001B[0m\u001B[0m\n",
      "\u001B[0;32m<ipython-input-12-c27f4326e637>\u001B[0m in \u001B[0;36mload_race_result_json_to_df\u001B[0;34m(file_path)\u001B[0m\n\u001B[1;32m    117\u001B[0m         \u001B[0;31m#TODO multiprocess/thread later\u001B[0m\u001B[0;34m\u001B[0m\u001B[0;34m\u001B[0m\u001B[0;34m\u001B[0m\u001B[0m\n\u001B[1;32m    118\u001B[0m         \u001B[0;32mfor\u001B[0m \u001B[0mrace_cat\u001B[0m \u001B[0;32min\u001B[0m \u001B[0mrace_categories\u001B[0m\u001B[0;34m:\u001B[0m\u001B[0;34m\u001B[0m\u001B[0;34m\u001B[0m\u001B[0m\n\u001B[0;32m--> 119\u001B[0;31m             \u001B[0mrace_cat_df\u001B[0m \u001B[0;34m=\u001B[0m \u001B[0mget_race_cat_results_df\u001B[0m\u001B[0;34m(\u001B[0m\u001B[0mrace_cat\u001B[0m\u001B[0;34m,\u001B[0m\u001B[0mrace_result_json\u001B[0m\u001B[0;34m)\u001B[0m\u001B[0;34m\u001B[0m\u001B[0;34m\u001B[0m\u001B[0m\n\u001B[0m\u001B[1;32m    120\u001B[0m \u001B[0;34m\u001B[0m\u001B[0m\n\u001B[1;32m    121\u001B[0m \u001B[0;34m\u001B[0m\u001B[0m\n",
      "\u001B[0;32m<ipython-input-12-c27f4326e637>\u001B[0m in \u001B[0;36mget_race_cat_results_df\u001B[0;34m(race_cat, race_results_json)\u001B[0m\n\u001B[1;32m    103\u001B[0m     \u001B[0mrace_cat_qualy_df\u001B[0m\u001B[0;34m.\u001B[0m\u001B[0mrename\u001B[0m\u001B[0;34m(\u001B[0m\u001B[0mcolumns\u001B[0m \u001B[0;34m=\u001B[0m \u001B[0mprocessed_labels_dicts_list\u001B[0m\u001B[0;34m[\u001B[0m\u001B[0;36m1\u001B[0m\u001B[0;34m]\u001B[0m\u001B[0;34m,\u001B[0m\u001B[0minplace\u001B[0m\u001B[0;34m=\u001B[0m\u001B[0;32mTrue\u001B[0m\u001B[0;34m)\u001B[0m\u001B[0;34m\u001B[0m\u001B[0;34m\u001B[0m\u001B[0m\n\u001B[1;32m    104\u001B[0m     \u001B[0mrace_cat_final_df\u001B[0m\u001B[0;34m.\u001B[0m\u001B[0mrename\u001B[0m\u001B[0;34m(\u001B[0m\u001B[0mcolumns\u001B[0m \u001B[0;34m=\u001B[0m \u001B[0mprocessed_labels_dicts_list\u001B[0m\u001B[0;34m[\u001B[0m\u001B[0;36m2\u001B[0m\u001B[0;34m]\u001B[0m\u001B[0;34m,\u001B[0m\u001B[0minplace\u001B[0m\u001B[0;34m=\u001B[0m\u001B[0;32mTrue\u001B[0m\u001B[0;34m)\u001B[0m\u001B[0;34m\u001B[0m\u001B[0;34m\u001B[0m\u001B[0m\n\u001B[0;32m--> 105\u001B[0;31m     \u001B[0mprint\u001B[0m\u001B[0;34m(\u001B[0m\u001B[0;34mf'Done Testing Race Cat Function'\u001B[0m\u001B[0;34m)\u001B[0m\u001B[0;34m\u001B[0m\u001B[0;34m\u001B[0m\u001B[0m\n\u001B[0m\u001B[1;32m    106\u001B[0m \u001B[0;34m\u001B[0m\u001B[0m\n\u001B[1;32m    107\u001B[0m \u001B[0;31m# Main function to load in the race results data (employs helper functions above)\u001B[0m\u001B[0;34m\u001B[0m\u001B[0;34m\u001B[0m\u001B[0;34m\u001B[0m\u001B[0m\n",
      "\u001B[0;32m<ipython-input-12-c27f4326e637>\u001B[0m in \u001B[0;36mget_race_cat_results_df\u001B[0;34m(race_cat, race_results_json)\u001B[0m\n\u001B[1;32m    103\u001B[0m     \u001B[0mrace_cat_qualy_df\u001B[0m\u001B[0;34m.\u001B[0m\u001B[0mrename\u001B[0m\u001B[0;34m(\u001B[0m\u001B[0mcolumns\u001B[0m \u001B[0;34m=\u001B[0m \u001B[0mprocessed_labels_dicts_list\u001B[0m\u001B[0;34m[\u001B[0m\u001B[0;36m1\u001B[0m\u001B[0;34m]\u001B[0m\u001B[0;34m,\u001B[0m\u001B[0minplace\u001B[0m\u001B[0;34m=\u001B[0m\u001B[0;32mTrue\u001B[0m\u001B[0;34m)\u001B[0m\u001B[0;34m\u001B[0m\u001B[0;34m\u001B[0m\u001B[0m\n\u001B[1;32m    104\u001B[0m     \u001B[0mrace_cat_final_df\u001B[0m\u001B[0;34m.\u001B[0m\u001B[0mrename\u001B[0m\u001B[0;34m(\u001B[0m\u001B[0mcolumns\u001B[0m \u001B[0;34m=\u001B[0m \u001B[0mprocessed_labels_dicts_list\u001B[0m\u001B[0;34m[\u001B[0m\u001B[0;36m2\u001B[0m\u001B[0;34m]\u001B[0m\u001B[0;34m,\u001B[0m\u001B[0minplace\u001B[0m\u001B[0;34m=\u001B[0m\u001B[0;32mTrue\u001B[0m\u001B[0;34m)\u001B[0m\u001B[0;34m\u001B[0m\u001B[0;34m\u001B[0m\u001B[0m\n\u001B[0;32m--> 105\u001B[0;31m     \u001B[0mprint\u001B[0m\u001B[0;34m(\u001B[0m\u001B[0;34mf'Done Testing Race Cat Function'\u001B[0m\u001B[0;34m)\u001B[0m\u001B[0;34m\u001B[0m\u001B[0;34m\u001B[0m\u001B[0m\n\u001B[0m\u001B[1;32m    106\u001B[0m \u001B[0;34m\u001B[0m\u001B[0m\n\u001B[1;32m    107\u001B[0m \u001B[0;31m# Main function to load in the race results data (employs helper functions above)\u001B[0m\u001B[0;34m\u001B[0m\u001B[0;34m\u001B[0m\u001B[0;34m\u001B[0m\u001B[0m\n",
      "\u001B[0;32m/snap/pycharm-professional/242/plugins/python/helpers/pydev/_pydevd_bundle/pydevd_frame.py\u001B[0m in \u001B[0;36mtrace_dispatch\u001B[0;34m(self, frame, event, arg)\u001B[0m\n\u001B[1;32m    745\u001B[0m                 \u001B[0;31m# if thread has a suspend flag, we suspend with a busy wait\u001B[0m\u001B[0;34m\u001B[0m\u001B[0;34m\u001B[0m\u001B[0;34m\u001B[0m\u001B[0m\n\u001B[1;32m    746\u001B[0m                 \u001B[0;32mif\u001B[0m \u001B[0minfo\u001B[0m\u001B[0;34m.\u001B[0m\u001B[0mpydev_state\u001B[0m \u001B[0;34m==\u001B[0m \u001B[0mSTATE_SUSPEND\u001B[0m\u001B[0;34m:\u001B[0m\u001B[0;34m\u001B[0m\u001B[0;34m\u001B[0m\u001B[0m\n\u001B[0;32m--> 747\u001B[0;31m                     \u001B[0mself\u001B[0m\u001B[0;34m.\u001B[0m\u001B[0mdo_wait_suspend\u001B[0m\u001B[0;34m(\u001B[0m\u001B[0mthread\u001B[0m\u001B[0;34m,\u001B[0m \u001B[0mframe\u001B[0m\u001B[0;34m,\u001B[0m \u001B[0mevent\u001B[0m\u001B[0;34m,\u001B[0m \u001B[0marg\u001B[0m\u001B[0;34m)\u001B[0m\u001B[0;34m\u001B[0m\u001B[0;34m\u001B[0m\u001B[0m\n\u001B[0m\u001B[1;32m    748\u001B[0m                     \u001B[0;31m# No need to reset frame.f_trace to keep the same trace function.\u001B[0m\u001B[0;34m\u001B[0m\u001B[0;34m\u001B[0m\u001B[0;34m\u001B[0m\u001B[0m\n\u001B[1;32m    749\u001B[0m                     \u001B[0;32mreturn\u001B[0m \u001B[0mself\u001B[0m\u001B[0;34m.\u001B[0m\u001B[0mtrace_dispatch\u001B[0m\u001B[0;34m\u001B[0m\u001B[0;34m\u001B[0m\u001B[0m\n",
      "\u001B[0;32m/snap/pycharm-professional/242/plugins/python/helpers/pydev/_pydevd_bundle/pydevd_frame.py\u001B[0m in \u001B[0;36mdo_wait_suspend\u001B[0;34m(self, *args, **kwargs)\u001B[0m\n\u001B[1;32m    142\u001B[0m \u001B[0;34m\u001B[0m\u001B[0m\n\u001B[1;32m    143\u001B[0m     \u001B[0;32mdef\u001B[0m \u001B[0mdo_wait_suspend\u001B[0m\u001B[0;34m(\u001B[0m\u001B[0mself\u001B[0m\u001B[0;34m,\u001B[0m \u001B[0;34m*\u001B[0m\u001B[0margs\u001B[0m\u001B[0;34m,\u001B[0m \u001B[0;34m**\u001B[0m\u001B[0mkwargs\u001B[0m\u001B[0;34m)\u001B[0m\u001B[0;34m:\u001B[0m\u001B[0;34m\u001B[0m\u001B[0;34m\u001B[0m\u001B[0m\n\u001B[0;32m--> 144\u001B[0;31m         \u001B[0mself\u001B[0m\u001B[0;34m.\u001B[0m\u001B[0m_args\u001B[0m\u001B[0;34m[\u001B[0m\u001B[0;36m0\u001B[0m\u001B[0;34m]\u001B[0m\u001B[0;34m.\u001B[0m\u001B[0mdo_wait_suspend\u001B[0m\u001B[0;34m(\u001B[0m\u001B[0;34m*\u001B[0m\u001B[0margs\u001B[0m\u001B[0;34m,\u001B[0m \u001B[0;34m**\u001B[0m\u001B[0mkwargs\u001B[0m\u001B[0;34m)\u001B[0m\u001B[0;34m\u001B[0m\u001B[0;34m\u001B[0m\u001B[0m\n\u001B[0m\u001B[1;32m    145\u001B[0m \u001B[0;34m\u001B[0m\u001B[0m\n\u001B[1;32m    146\u001B[0m     \u001B[0;31m# IFDEF CYTHON\u001B[0m\u001B[0;34m\u001B[0m\u001B[0;34m\u001B[0m\u001B[0;34m\u001B[0m\u001B[0m\n",
      "\u001B[0;32m/snap/pycharm-professional/242/plugins/python/helpers/pydev/pydevd.py\u001B[0m in \u001B[0;36mdo_wait_suspend\u001B[0;34m(self, thread, frame, event, arg, send_suspend_message, is_unhandled_exception)\u001B[0m\n\u001B[1;32m   1145\u001B[0m \u001B[0;34m\u001B[0m\u001B[0m\n\u001B[1;32m   1146\u001B[0m         \u001B[0;32mwith\u001B[0m \u001B[0mself\u001B[0m\u001B[0;34m.\u001B[0m\u001B[0m_threads_suspended_single_notification\u001B[0m\u001B[0;34m.\u001B[0m\u001B[0mnotify_thread_suspended\u001B[0m\u001B[0;34m(\u001B[0m\u001B[0mthread_id\u001B[0m\u001B[0;34m,\u001B[0m \u001B[0mstop_reason\u001B[0m\u001B[0;34m)\u001B[0m\u001B[0;34m:\u001B[0m\u001B[0;34m\u001B[0m\u001B[0;34m\u001B[0m\u001B[0m\n\u001B[0;32m-> 1147\u001B[0;31m             \u001B[0mself\u001B[0m\u001B[0;34m.\u001B[0m\u001B[0m_do_wait_suspend\u001B[0m\u001B[0;34m(\u001B[0m\u001B[0mthread\u001B[0m\u001B[0;34m,\u001B[0m \u001B[0mframe\u001B[0m\u001B[0;34m,\u001B[0m \u001B[0mevent\u001B[0m\u001B[0;34m,\u001B[0m \u001B[0marg\u001B[0m\u001B[0;34m,\u001B[0m \u001B[0msuspend_type\u001B[0m\u001B[0;34m,\u001B[0m \u001B[0mfrom_this_thread\u001B[0m\u001B[0;34m)\u001B[0m\u001B[0;34m\u001B[0m\u001B[0;34m\u001B[0m\u001B[0m\n\u001B[0m\u001B[1;32m   1148\u001B[0m \u001B[0;34m\u001B[0m\u001B[0m\n\u001B[1;32m   1149\u001B[0m     \u001B[0;32mdef\u001B[0m \u001B[0m_do_wait_suspend\u001B[0m\u001B[0;34m(\u001B[0m\u001B[0mself\u001B[0m\u001B[0;34m,\u001B[0m \u001B[0mthread\u001B[0m\u001B[0;34m,\u001B[0m \u001B[0mframe\u001B[0m\u001B[0;34m,\u001B[0m \u001B[0mevent\u001B[0m\u001B[0;34m,\u001B[0m \u001B[0marg\u001B[0m\u001B[0;34m,\u001B[0m \u001B[0msuspend_type\u001B[0m\u001B[0;34m,\u001B[0m \u001B[0mfrom_this_thread\u001B[0m\u001B[0;34m)\u001B[0m\u001B[0;34m:\u001B[0m\u001B[0;34m\u001B[0m\u001B[0;34m\u001B[0m\u001B[0m\n",
      "\u001B[0;32m/snap/pycharm-professional/242/plugins/python/helpers/pydev/pydevd.py\u001B[0m in \u001B[0;36m_do_wait_suspend\u001B[0;34m(self, thread, frame, event, arg, suspend_type, from_this_thread)\u001B[0m\n\u001B[1;32m   1160\u001B[0m \u001B[0;34m\u001B[0m\u001B[0m\n\u001B[1;32m   1161\u001B[0m                 \u001B[0mself\u001B[0m\u001B[0;34m.\u001B[0m\u001B[0mprocess_internal_commands\u001B[0m\u001B[0;34m(\u001B[0m\u001B[0;34m)\u001B[0m\u001B[0;34m\u001B[0m\u001B[0;34m\u001B[0m\u001B[0m\n\u001B[0;32m-> 1162\u001B[0;31m                 \u001B[0mtime\u001B[0m\u001B[0;34m.\u001B[0m\u001B[0msleep\u001B[0m\u001B[0;34m(\u001B[0m\u001B[0;36m0.01\u001B[0m\u001B[0;34m)\u001B[0m\u001B[0;34m\u001B[0m\u001B[0;34m\u001B[0m\u001B[0m\n\u001B[0m\u001B[1;32m   1163\u001B[0m \u001B[0;34m\u001B[0m\u001B[0m\n\u001B[1;32m   1164\u001B[0m         \u001B[0mself\u001B[0m\u001B[0;34m.\u001B[0m\u001B[0mcancel_async_evaluation\u001B[0m\u001B[0;34m(\u001B[0m\u001B[0mget_current_thread_id\u001B[0m\u001B[0;34m(\u001B[0m\u001B[0mthread\u001B[0m\u001B[0;34m)\u001B[0m\u001B[0;34m,\u001B[0m \u001B[0mstr\u001B[0m\u001B[0;34m(\u001B[0m\u001B[0mid\u001B[0m\u001B[0;34m(\u001B[0m\u001B[0mframe\u001B[0m\u001B[0;34m)\u001B[0m\u001B[0;34m)\u001B[0m\u001B[0;34m)\u001B[0m\u001B[0;34m\u001B[0m\u001B[0;34m\u001B[0m\u001B[0m\n",
      "\u001B[0;31mKeyboardInterrupt\u001B[0m: "
     ]
    }
   ],
   "source": [
    "#Helper function for load_race_result_json_to_df to get each categories data\n",
    "def get_race_cat_results_df(race_cat,race_results_json):\n",
    "    #initial conditions\n",
    "    race_days = ['timed','qualy','final']\n",
    "\n",
    "    race_cat_timed_df = pd.json_normalize(race_results_json[race_cat]['timed'])\n",
    "    race_cat_qualy_df = pd.json_normalize(race_results_json[race_cat]['qualy'])\n",
    "    race_cat_final_df = pd.json_normalize(race_results_json[race_cat]['final'])\n",
    "\n",
    "    # #put all race cat dfs in a list\n",
    "    # race_cats_df_list = [race_cat_timed_df,race_cat_qualy_df,race_cat_final_df]\n",
    "    # race_cats_df_list = list(map(lambda df : df['uci_id'].astype('int'),iter(race_cats_df_list)))\n",
    "    # race_cats_df_list = list(map(lambda df : df.set_index(['uci_id'],inplace=True),iter(race_cats_df_list)))\n",
    "    # variables to drop for all data sets\n",
    "\n",
    "    #set all dataframes idexs to races unique uci_id number and make uci_id an int\n",
    "    race_cat_timed_df['uci_id'].astype('int')\n",
    "    race_cat_qualy_df['uci_id'].astype('int')\n",
    "    race_cat_final_df['uci_id'].astype('int')\n",
    "\n",
    "    race_cat_timed_df.set_index(['uci_id'],inplace=True)\n",
    "    race_cat_qualy_df.set_index(['uci_id'],inplace=True)\n",
    "    race_cat_final_df.set_index(['uci_id'],inplace=True)\n",
    "\n",
    "    #hold variables that are for the whole race event in a dict\n",
    "    race_event_dict = {}\n",
    "\n",
    "    #get the date of each day\n",
    "    timed_date = race_cat_timed_df.pop('date').unique()\n",
    "    qualy_date = race_cat_qualy_df.pop('date').unique()\n",
    "    final_date = race_cat_final_df.pop('date').unique()\n",
    "\n",
    "    timed_date = timed_date[0]\n",
    "    qualy_date = qualy_date[0]\n",
    "    final_date = final_date[0]\n",
    "\n",
    "    race_event_dict['race_dates'] = [timed_date,qualy_date,final_date]\n",
    "\n",
    "    #get round number and venue\n",
    "    race_venue = race_cat_final_df.pop('venue')\n",
    "    race_year = race_cat_final_df.pop('year') # maybe just drop not store since have race dates\n",
    "    race_round_num = race_cat_final_df.pop('round_num')\n",
    "\n",
    "    race_event_dict['race_venue'] = race_venue\n",
    "    race_event_dict['race_year'] = race_year\n",
    "    race_event_dict['race_round_num'] = race_round_num\n",
    "\n",
    "    #drop variables that repeat and are same in all DFs for timed and qualy\n",
    "    race_cat_timed_df.drop(columns = ['round_num','venue','year','uci_code'],inplace=True)\n",
    "    race_cat_qualy_df.drop(columns = ['round_num','venue','year','uci_code'],inplace=True)\n",
    "    race_cat_final_df.drop(columns = 'uci_code',inplace=True)\n",
    "\n",
    "    #rearange the columns in the dataframes\n",
    "    #t_l is the labels for timed df\n",
    "    t_l = race_cat_timed_df.columns.values.tolist()\n",
    "    #changing timed df cols to name, yob,country,junior,bike,team,event,protect,overal,pos,points\n",
    "    timed_cols_final = [t_l[4]]+[t_l[9]]+[t_l[7]]+[t_l[0]]+[t_l[6]]+[t_l[5]]+[t_l[11]] +t_l[2:4]+[t_l[1]]+[t_l[8]]+[t_l[10]]+t_l[12:]\n",
    "    race_cat_timed_df = race_cat_timed_df.reindex(columns = timed_cols_final)\n",
    "\n",
    "    #f_l is final labels and q_l is qualy labels for cols\n",
    "    q_l = race_cat_qualy_df.columns.values.tolist()\n",
    "    f_l = race_cat_final_df.columns.values.tolist()\n",
    "\n",
    "    qualy_cols_final = [q_l[5]]+[q_l[4]]+[q_l[8]]+[q_l[0]]+[q_l[7]]+[q_l[6]]+[q_l[13]]+[q_l[2]]+[q_l[3]]+q_l[9:13]+q_l[14:]\n",
    "    final_cols_final = [f_l[5]]+[f_l[4]]+[f_l[8]]+[f_l[0]]+[f_l[7]]+[f_l[6]]+[f_l[13]]+[f_l[2]]+[f_l[3]]+f_l[9:13]+f_l[14:]\n",
    "\n",
    "    race_cat_qualy_df = race_cat_qualy_df.reindex(columns = qualy_cols_final)\n",
    "    race_cat_final_df = race_cat_final_df.reindex(columns = final_cols_final)\n",
    "\n",
    "    #list of expected event types\n",
    "    expected_events_list = ['WC-_timed','WC-_qualy_result','WC-_final_result']\n",
    "\n",
    "    #pop event series from each dataframe\n",
    "    events_list = []\n",
    "    events_list.append(race_cat_timed_df.pop('event').unique().astype('str')[0])\n",
    "    events_list.append(race_cat_qualy_df.pop('event').unique().astype('str')[0])\n",
    "    events_list.append(race_cat_final_df.pop('event').unique().astype('str')[0])\n",
    "\n",
    "    # see if the events from race dfs are in expected df\n",
    "    for expected_event, event_of_df in zip(expected_events_list,events_list):\n",
    "        if event_of_df != expected_event:\n",
    "            print(f'Warning Event {event_of_df} is not expected event of {expected_event}')\n",
    "\n",
    "    # list to hold timed practice (t)\n",
    "    # qualifying (q) and finals (f)\n",
    "    #TODO maybe a cool way to multithred\n",
    "    event_prefix_list = ['t','q','f'] #for now just setting without loop\n",
    "    #t_l is the labels for timed df, f_l is final labels and q_l is qualy labels for cols\n",
    "    t_l = race_cat_timed_df.columns.values.tolist()[6:]\n",
    "    q_l = race_cat_qualy_df.columns.values.tolist()[6:]\n",
    "    f_l = race_cat_final_df.columns.values.tolist()[6:]\n",
    "\n",
    "    processed_labels_dicts_list = []\n",
    "    for result_data_set_labels, prefix in zip([t_l,q_l,f_l],event_prefix_list):\n",
    "        processed_data_set_labels = list(map(lambda x: f'{prefix}_{x}', iter(result_data_set_labels[6:])))\n",
    "        label_dict = {}\n",
    "        for orig_label,processed_label in zip(result_data_set_labels,processed_data_set_labels):\n",
    "            label_dict[orig_label] = processed_label\n",
    "        processed_labels_dicts_list.append(label_dict)\n",
    "\n",
    "    race_cat_timed_df.rename(columns = processed_labels_dicts_list[0],inplace=True)\n",
    "    race_cat_qualy_df.rename(columns = processed_labels_dicts_list[1],inplace=True)\n",
    "    race_cat_final_df.rename(columns = processed_labels_dicts_list[2],inplace=True)\n",
    "\n",
    "    #TODO combine data\n",
    "\n",
    "    print(f'Done Testing Race Cat Function')\n",
    "\n",
    "# Main function to load in the race results data (employs helper functions above)\n",
    "def load_race_result_json_to_df(file_path):\n",
    "\n",
    "    #initial conditions\n",
    "    race_categories = ['elitemen','elitewomen','juniormen','juniorwomen']\n",
    "\n",
    "    with open(file_path,'r') as f:\n",
    "        race_result_json = json.load(f)\n",
    "\n",
    "        #loop throught each category and get each race category\n",
    "        #TODO multiprocess/thread later\n",
    "        for race_cat in race_categories:\n",
    "            race_cat_df = get_race_cat_results_df(race_cat,race_result_json)\n",
    "\n",
    "\n",
    "        print(f'Done Testing Main Function')\n",
    "\n",
    "    return 1\n",
    "\n",
    "snow_2019_file_path = 'data/results_jsons/2019_Snowshoe_results.json'\n",
    "\n",
    "\n",
    "snow_2019_df = load_race_result_json_to_df(snow_2019_file_path)"
   ],
   "metadata": {
    "collapsed": false,
    "pycharm": {
     "name": "#%%\n"
    }
   }
  },
  {
   "cell_type": "markdown",
   "source": [
    "Now so I can analysise riders that rode in time practice, qualifying, and the finals I will\n",
    "filter the timed,qualy, and final sub dicts for the elite mens field for riders that rode in all 3\n"
   ],
   "metadata": {
    "collapsed": false,
    "pycharm": {
     "name": "#%% md\n"
    }
   },
   "outputs": [
    {
     "ename": "SyntaxError",
     "evalue": "invalid syntax (<ipython-input-16-bf15dcfc97f1>, line 1)",
     "output_type": "error",
     "traceback": [
      "\u001B[0;36m  File \u001B[0;32m\"<ipython-input-16-bf15dcfc97f1>\"\u001B[0;36m, line \u001B[0;32m1\u001B[0m\n\u001B[0;31m    Now so I can analysise riders that rode in time practice, qualifying, and the finals I will\u001B[0m\n\u001B[0m        ^\u001B[0m\n\u001B[0;31mSyntaxError\u001B[0m\u001B[0;31m:\u001B[0m invalid syntax\n"
     ]
    }
   ],
   "execution_count": 16
  },
  {
   "cell_type": "code",
   "execution_count": 106,
   "outputs": [],
   "source": [
    "#make elite mens category dfs for timed practice, qualifying, and finals run\n",
    "snow_2019_elite_men_pract_df = pd.json_normalize(snow_2019_json['elitemen']['timed'])\n",
    "snow_2019_elite_men_qualy_df = pd.json_normalize(snow_2019_json['elitemen']['qualy'])\n",
    "snow_2019_elite_men_final_df = pd.json_normalize(snow_2019_json['elitemen']['final'])"
   ],
   "metadata": {
    "collapsed": false,
    "pycharm": {
     "name": "#%%\n"
    }
   }
  },
  {
   "cell_type": "markdown",
   "source": [
    "Now I am going to look at the info of each dataset one by one\n",
    "\n",
    "Snowshoe 2019 Elite Men Practice"
   ],
   "metadata": {
    "collapsed": false,
    "pycharm": {
     "name": "#%% md\n"
    }
   },
   "outputs": [
    {
     "ename": "SyntaxError",
     "evalue": "invalid syntax (<ipython-input-14-ba1c9e6db941>, line 1)",
     "output_type": "error",
     "traceback": [
      "\u001B[0;36m  File \u001B[0;32m\"<ipython-input-14-ba1c9e6db941>\"\u001B[0;36m, line \u001B[0;32m1\u001B[0m\n\u001B[0;31m    Now I am going to look at the info of each dataset one by one\u001B[0m\n\u001B[0m        ^\u001B[0m\n\u001B[0;31mSyntaxError\u001B[0m\u001B[0;31m:\u001B[0m invalid syntax\n"
     ]
    }
   ],
   "execution_count": 14
  },
  {
   "cell_type": "code",
   "execution_count": 91,
   "outputs": [
    {
     "name": "stdout",
     "output_type": "stream",
     "text": [
      "<class 'pandas.core.frame.DataFrame'>\n",
      "RangeIndex: 50 entries, 0 to 49\n",
      "Columns: 395 entries, date to finish.from_run\n",
      "dtypes: float64(67), int64(68), object(260)\n",
      "memory usage: 154.4+ KB\n"
     ]
    }
   ],
   "source": [
    "snow_2019_elite_men_pract_df.info()"
   ],
   "metadata": {
    "collapsed": false,
    "pycharm": {
     "name": "#%%\n"
    }
   }
  },
  {
   "cell_type": "code",
   "execution_count": 92,
   "outputs": [
    {
     "data": {
      "text/plain": "         year  round_num  position   overall      points          yob  \\\ncount    50.0       50.0  50.00000  50.00000   50.000000    50.000000   \nmean   2019.0        8.0  25.50000  29.24000   63.600000  1993.220000   \nstd       0.0        0.0  14.57738  17.55058   33.317275     4.185934   \nmin    2019.0        8.0   1.00000   1.00000   31.000000  1981.000000   \n25%    2019.0        8.0  13.25000  14.25000   43.250000  1991.000000   \n50%    2019.0        8.0  25.50000  28.50000   55.500000  1994.000000   \n75%    2019.0        8.0  37.75000  42.75000   67.750000  1996.000000   \nmax    2019.0        8.0  50.00000  60.00000  200.000000  2000.000000   \n\n       run1.avg_speed.speed  run1.avg_speed.speed_position  \\\ncount             25.000000                      25.000000   \nmean              27.276160                      13.000000   \nstd               11.210375                       7.359801   \nmin                4.737000                       1.000000   \n25%               21.176000                       7.000000   \n50%               33.857000                      13.000000   \n75%               34.892000                      19.000000   \nmax               36.187000                      25.000000   \n\n       run1.sector1.position  run1.sector1.time_lost_position  ...  \\\ncount              25.000000                        25.000000  ...   \nmean               13.000000                        13.000000  ...   \nstd                 7.359801                         7.359801  ...   \nmin                 1.000000                         1.000000  ...   \n25%                 7.000000                         7.000000  ...   \n50%                13.000000                        13.000000  ...   \n75%                19.000000                        19.000000  ...   \nmax                25.000000                        25.000000  ...   \n\n       split3.position  split3.time_behind_position  sector4.position  \\\ncount         50.00000                     50.00000          50.00000   \nmean          25.50000                     25.50000          25.50000   \nstd           14.57738                     14.57738          14.57738   \nmin            1.00000                      1.00000           1.00000   \n25%           13.25000                     13.25000          13.25000   \n50%           25.50000                     25.50000          25.50000   \n75%           37.75000                     37.75000          37.75000   \nmax           50.00000                     50.00000          50.00000   \n\n       sector4.time_lost_position  split4.position  \\\ncount                    50.00000         50.00000   \nmean                     25.50000         25.50000   \nstd                      14.57738         14.57738   \nmin                       1.00000          1.00000   \n25%                      13.25000         13.25000   \n50%                      25.50000         25.50000   \n75%                      37.75000         37.75000   \nmax                      50.00000         50.00000   \n\n       split4.time_behind_position  sector5.position  \\\ncount                     50.00000          50.00000   \nmean                      25.50000          25.50000   \nstd                       14.57738          14.57738   \nmin                        1.00000           1.00000   \n25%                       13.25000          13.25000   \n50%                       25.50000          25.50000   \n75%                       37.75000          37.75000   \nmax                       50.00000          50.00000   \n\n       sector5.time_lost_position  finish.position  finish.gap_position  \ncount                    50.00000         50.00000             50.00000  \nmean                     25.50000         25.50000             25.50000  \nstd                      14.57738         14.57738             14.57738  \nmin                       1.00000          1.00000              1.00000  \n25%                      13.25000         13.25000             13.25000  \n50%                      25.50000         25.50000             25.50000  \n75%                      37.75000         37.75000             37.75000  \nmax                      50.00000         50.00000             50.00000  \n\n[8 rows x 135 columns]",
      "text/html": "<div>\n<style scoped>\n    .dataframe tbody tr th:only-of-type {\n        vertical-align: middle;\n    }\n\n    .dataframe tbody tr th {\n        vertical-align: top;\n    }\n\n    .dataframe thead th {\n        text-align: right;\n    }\n</style>\n<table border=\"1\" class=\"dataframe\">\n  <thead>\n    <tr style=\"text-align: right;\">\n      <th></th>\n      <th>year</th>\n      <th>round_num</th>\n      <th>position</th>\n      <th>overall</th>\n      <th>points</th>\n      <th>yob</th>\n      <th>run1.avg_speed.speed</th>\n      <th>run1.avg_speed.speed_position</th>\n      <th>run1.sector1.position</th>\n      <th>run1.sector1.time_lost_position</th>\n      <th>...</th>\n      <th>split3.position</th>\n      <th>split3.time_behind_position</th>\n      <th>sector4.position</th>\n      <th>sector4.time_lost_position</th>\n      <th>split4.position</th>\n      <th>split4.time_behind_position</th>\n      <th>sector5.position</th>\n      <th>sector5.time_lost_position</th>\n      <th>finish.position</th>\n      <th>finish.gap_position</th>\n    </tr>\n  </thead>\n  <tbody>\n    <tr>\n      <th>count</th>\n      <td>50.0</td>\n      <td>50.0</td>\n      <td>50.00000</td>\n      <td>50.00000</td>\n      <td>50.000000</td>\n      <td>50.000000</td>\n      <td>25.000000</td>\n      <td>25.000000</td>\n      <td>25.000000</td>\n      <td>25.000000</td>\n      <td>...</td>\n      <td>50.00000</td>\n      <td>50.00000</td>\n      <td>50.00000</td>\n      <td>50.00000</td>\n      <td>50.00000</td>\n      <td>50.00000</td>\n      <td>50.00000</td>\n      <td>50.00000</td>\n      <td>50.00000</td>\n      <td>50.00000</td>\n    </tr>\n    <tr>\n      <th>mean</th>\n      <td>2019.0</td>\n      <td>8.0</td>\n      <td>25.50000</td>\n      <td>29.24000</td>\n      <td>63.600000</td>\n      <td>1993.220000</td>\n      <td>27.276160</td>\n      <td>13.000000</td>\n      <td>13.000000</td>\n      <td>13.000000</td>\n      <td>...</td>\n      <td>25.50000</td>\n      <td>25.50000</td>\n      <td>25.50000</td>\n      <td>25.50000</td>\n      <td>25.50000</td>\n      <td>25.50000</td>\n      <td>25.50000</td>\n      <td>25.50000</td>\n      <td>25.50000</td>\n      <td>25.50000</td>\n    </tr>\n    <tr>\n      <th>std</th>\n      <td>0.0</td>\n      <td>0.0</td>\n      <td>14.57738</td>\n      <td>17.55058</td>\n      <td>33.317275</td>\n      <td>4.185934</td>\n      <td>11.210375</td>\n      <td>7.359801</td>\n      <td>7.359801</td>\n      <td>7.359801</td>\n      <td>...</td>\n      <td>14.57738</td>\n      <td>14.57738</td>\n      <td>14.57738</td>\n      <td>14.57738</td>\n      <td>14.57738</td>\n      <td>14.57738</td>\n      <td>14.57738</td>\n      <td>14.57738</td>\n      <td>14.57738</td>\n      <td>14.57738</td>\n    </tr>\n    <tr>\n      <th>min</th>\n      <td>2019.0</td>\n      <td>8.0</td>\n      <td>1.00000</td>\n      <td>1.00000</td>\n      <td>31.000000</td>\n      <td>1981.000000</td>\n      <td>4.737000</td>\n      <td>1.000000</td>\n      <td>1.000000</td>\n      <td>1.000000</td>\n      <td>...</td>\n      <td>1.00000</td>\n      <td>1.00000</td>\n      <td>1.00000</td>\n      <td>1.00000</td>\n      <td>1.00000</td>\n      <td>1.00000</td>\n      <td>1.00000</td>\n      <td>1.00000</td>\n      <td>1.00000</td>\n      <td>1.00000</td>\n    </tr>\n    <tr>\n      <th>25%</th>\n      <td>2019.0</td>\n      <td>8.0</td>\n      <td>13.25000</td>\n      <td>14.25000</td>\n      <td>43.250000</td>\n      <td>1991.000000</td>\n      <td>21.176000</td>\n      <td>7.000000</td>\n      <td>7.000000</td>\n      <td>7.000000</td>\n      <td>...</td>\n      <td>13.25000</td>\n      <td>13.25000</td>\n      <td>13.25000</td>\n      <td>13.25000</td>\n      <td>13.25000</td>\n      <td>13.25000</td>\n      <td>13.25000</td>\n      <td>13.25000</td>\n      <td>13.25000</td>\n      <td>13.25000</td>\n    </tr>\n    <tr>\n      <th>50%</th>\n      <td>2019.0</td>\n      <td>8.0</td>\n      <td>25.50000</td>\n      <td>28.50000</td>\n      <td>55.500000</td>\n      <td>1994.000000</td>\n      <td>33.857000</td>\n      <td>13.000000</td>\n      <td>13.000000</td>\n      <td>13.000000</td>\n      <td>...</td>\n      <td>25.50000</td>\n      <td>25.50000</td>\n      <td>25.50000</td>\n      <td>25.50000</td>\n      <td>25.50000</td>\n      <td>25.50000</td>\n      <td>25.50000</td>\n      <td>25.50000</td>\n      <td>25.50000</td>\n      <td>25.50000</td>\n    </tr>\n    <tr>\n      <th>75%</th>\n      <td>2019.0</td>\n      <td>8.0</td>\n      <td>37.75000</td>\n      <td>42.75000</td>\n      <td>67.750000</td>\n      <td>1996.000000</td>\n      <td>34.892000</td>\n      <td>19.000000</td>\n      <td>19.000000</td>\n      <td>19.000000</td>\n      <td>...</td>\n      <td>37.75000</td>\n      <td>37.75000</td>\n      <td>37.75000</td>\n      <td>37.75000</td>\n      <td>37.75000</td>\n      <td>37.75000</td>\n      <td>37.75000</td>\n      <td>37.75000</td>\n      <td>37.75000</td>\n      <td>37.75000</td>\n    </tr>\n    <tr>\n      <th>max</th>\n      <td>2019.0</td>\n      <td>8.0</td>\n      <td>50.00000</td>\n      <td>60.00000</td>\n      <td>200.000000</td>\n      <td>2000.000000</td>\n      <td>36.187000</td>\n      <td>25.000000</td>\n      <td>25.000000</td>\n      <td>25.000000</td>\n      <td>...</td>\n      <td>50.00000</td>\n      <td>50.00000</td>\n      <td>50.00000</td>\n      <td>50.00000</td>\n      <td>50.00000</td>\n      <td>50.00000</td>\n      <td>50.00000</td>\n      <td>50.00000</td>\n      <td>50.00000</td>\n      <td>50.00000</td>\n    </tr>\n  </tbody>\n</table>\n<p>8 rows × 135 columns</p>\n</div>"
     },
     "execution_count": 92,
     "metadata": {},
     "output_type": "execute_result"
    }
   ],
   "source": [
    "snow_2019_elite_men_pract_df.describe()\n"
   ],
   "metadata": {
    "collapsed": false,
    "pycharm": {
     "name": "#%%\n"
    }
   }
  },
  {
   "cell_type": "code",
   "execution_count": 93,
   "outputs": [
    {
     "name": "stdout",
     "output_type": "stream",
     "text": [
      "Prac Dtypes:\n",
      "date                   object\n",
      "venue                  object\n",
      "year                    int64\n",
      "round_num               int64\n",
      "junior                 object\n",
      "                        ...  \n",
      "finish.time            object\n",
      "finish.position         int64\n",
      "finish.gap             object\n",
      "finish.gap_position     int64\n",
      "finish.from_run        object\n",
      "Length: 395, dtype: object\n"
     ]
    }
   ],
   "source": [
    "snow_2019_elite_men_pract_dtypes = snow_2019_elite_men_pract_df.dtypes\n",
    "print(f'Prac Dtypes:\\n{snow_2019_elite_men_pract_dtypes}')\n"
   ],
   "metadata": {
    "collapsed": false,
    "pycharm": {
     "name": "#%%\n"
    }
   }
  },
  {
   "cell_type": "markdown",
   "source": [
    "Snowshoe 2019 Elite Men Qualifying:"
   ],
   "metadata": {
    "collapsed": false,
    "pycharm": {
     "name": "#%% md\n"
    }
   }
  },
  {
   "cell_type": "code",
   "execution_count": 94,
   "outputs": [
    {
     "name": "stdout",
     "output_type": "stream",
     "text": [
      "<class 'pandas.core.frame.DataFrame'>\n",
      "RangeIndex: 89 entries, 0 to 88\n",
      "Data columns (total 73 columns):\n",
      " #   Column                       Non-Null Count  Dtype  \n",
      "---  ------                       --------------  -----  \n",
      " 0   date                         89 non-null     object \n",
      " 1   venue                        89 non-null     object \n",
      " 2   year                         89 non-null     int64  \n",
      " 3   round_num                    89 non-null     int64  \n",
      " 4   junior                       0 non-null      object \n",
      " 5   position                     89 non-null     object \n",
      " 6   protected                    19 non-null     object \n",
      " 7   overall                      70 non-null     float64\n",
      " 8   uci_code                     89 non-null     object \n",
      " 9   uci_id                       89 non-null     object \n",
      " 10  yob                          89 non-null     int64  \n",
      " 11  name                         89 non-null     object \n",
      " 12  team                         66 non-null     object \n",
      " 13  bike                         51 non-null     object \n",
      " 14  country                      89 non-null     object \n",
      " 15  dns                          11 non-null     object \n",
      " 16  dnf                          0 non-null      object \n",
      " 17  dsq                          0 non-null      object \n",
      " 18  points                       89 non-null     int64  \n",
      " 19  event                        89 non-null     object \n",
      " 20  speed.speed                  0 non-null      object \n",
      " 21  speed.position               0 non-null      object \n",
      " 22  avg_speed.speed              78 non-null     float64\n",
      " 23  avg_speed.speed_position     78 non-null     float64\n",
      " 24  sector1.time                 78 non-null     object \n",
      " 25  sector1.position             78 non-null     float64\n",
      " 26  sector1.time_lost            78 non-null     object \n",
      " 27  sector1.time_lost_position   78 non-null     float64\n",
      " 28  split1.time                  78 non-null     object \n",
      " 29  split1.position              78 non-null     float64\n",
      " 30  split1.time_behind           78 non-null     object \n",
      " 31  split1.time_behind_position  78 non-null     float64\n",
      " 32  sector2.time                 78 non-null     object \n",
      " 33  sector2.position             78 non-null     float64\n",
      " 34  sector2.time_lost            78 non-null     object \n",
      " 35  sector2.time_lost_position   78 non-null     float64\n",
      " 36  split2.time                  78 non-null     object \n",
      " 37  split2.position              78 non-null     float64\n",
      " 38  split2.time_behind           78 non-null     object \n",
      " 39  split2.time_behind_position  78 non-null     float64\n",
      " 40  sector3.time                 78 non-null     object \n",
      " 41  sector3.position             78 non-null     float64\n",
      " 42  sector3.time_lost            78 non-null     object \n",
      " 43  sector3.time_lost_position   78 non-null     float64\n",
      " 44  split3.time                  78 non-null     object \n",
      " 45  split3.position              78 non-null     float64\n",
      " 46  split3.time_behind           78 non-null     object \n",
      " 47  split3.time_behind_position  78 non-null     float64\n",
      " 48  sector4.time                 78 non-null     object \n",
      " 49  sector4.position             78 non-null     float64\n",
      " 50  sector4.time_lost            78 non-null     object \n",
      " 51  sector4.time_lost_position   78 non-null     float64\n",
      " 52  split5.time                  0 non-null      object \n",
      " 53  split5.position              0 non-null      object \n",
      " 54  split5.time_behind           0 non-null      object \n",
      " 55  split5.time_behind_position  0 non-null      object \n",
      " 56  sector6.time                 0 non-null      object \n",
      " 57  sector6.position             0 non-null      object \n",
      " 58  sector6.time_lost            0 non-null      object \n",
      " 59  sector.time_lost_position    0 non-null      object \n",
      " 60  split4.time                  78 non-null     object \n",
      " 61  split4.position              78 non-null     float64\n",
      " 62  split4.time_behind           78 non-null     object \n",
      " 63  split4.time_behind_position  78 non-null     float64\n",
      " 64  sector5.time                 78 non-null     object \n",
      " 65  sector5.position             78 non-null     float64\n",
      " 66  sector5.time_lost            78 non-null     object \n",
      " 67  sector5.time_lost_position   78 non-null     float64\n",
      " 68  finish.time                  78 non-null     object \n",
      " 69  finish.gap                   78 non-null     object \n",
      " 70  finish.gap_position          78 non-null     float64\n",
      " 71  ranking.overall              70 non-null     float64\n",
      " 72  ranking.protected            19 non-null     object \n",
      "dtypes: float64(23), int64(4), object(46)\n",
      "memory usage: 50.9+ KB\n"
     ]
    }
   ],
   "source": [
    "snow_2019_elite_men_qualy_df.info()"
   ],
   "metadata": {
    "collapsed": false,
    "pycharm": {
     "name": "#%%\n"
    }
   }
  },
  {
   "cell_type": "code",
   "execution_count": 95,
   "outputs": [
    {
     "data": {
      "text/plain": "         year  round_num    overall          yob  points  avg_speed.speed  \\\ncount    89.0       89.0  70.000000    89.000000    89.0        78.000000   \nmean   2019.0        8.0  40.842857  1993.539326     0.0        35.350692   \nstd       0.0        0.0  25.526704     4.332898     0.0         2.500670   \nmin    2019.0        8.0   1.000000  1981.000000     0.0        20.551000   \n25%    2019.0        8.0  19.500000  1991.000000     0.0        35.261750   \n50%    2019.0        8.0  37.500000  1994.000000     0.0        35.899000   \n75%    2019.0        8.0  60.750000  1997.000000     0.0        36.398750   \nmax    2019.0        8.0  97.000000  2000.000000     0.0        37.937000   \n\n       avg_speed.speed_position  sector1.position  sector1.time_lost_position  \\\ncount                 78.000000         78.000000                   78.000000   \nmean                  39.461538         39.487179                   39.487179   \nstd                   22.704020         22.650790                   22.650790   \nmin                    1.000000          1.000000                    1.000000   \n25%                   20.250000         20.250000                   20.250000   \n50%                   39.500000         39.500000                   39.500000   \n75%                   58.750000         58.750000                   58.750000   \nmax                   78.000000         78.000000                   78.000000   \n\n       split1.position  ...  split3.position  split3.time_behind_position  \\\ncount        78.000000  ...        78.000000                    78.000000   \nmean         39.487179  ...        39.500000                    39.500000   \nstd          22.650790  ...        22.660538                    22.660538   \nmin           1.000000  ...         1.000000                     1.000000   \n25%          20.250000  ...        20.250000                    20.250000   \n50%          39.500000  ...        39.500000                    39.500000   \n75%          58.750000  ...        58.750000                    58.750000   \nmax          78.000000  ...        78.000000                    78.000000   \n\n       sector4.position  sector4.time_lost_position  split4.position  \\\ncount         78.000000                   78.000000        78.000000   \nmean          39.487179                   39.487179        39.500000   \nstd           22.665119                   22.665119        22.660538   \nmin            1.000000                    1.000000         1.000000   \n25%           20.250000                   20.250000        20.250000   \n50%           39.500000                   39.500000        39.500000   \n75%           58.750000                   58.750000        58.750000   \nmax           78.000000                   78.000000        78.000000   \n\n       split4.time_behind_position  sector5.position  \\\ncount                    78.000000         78.000000   \nmean                     39.500000         39.448718   \nstd                      22.660538         22.663345   \nmin                       1.000000          1.000000   \n25%                      20.250000         20.250000   \n50%                      39.500000         39.500000   \n75%                      58.750000         58.750000   \nmax                      78.000000         78.000000   \n\n       sector5.time_lost_position  finish.gap_position  ranking.overall  \ncount                   78.000000            78.000000        70.000000  \nmean                    39.448718            39.500000        40.842857  \nstd                     22.663345            22.660538        25.526704  \nmin                      1.000000             1.000000         1.000000  \n25%                     20.250000            20.250000        19.500000  \n50%                     39.500000            39.500000        37.500000  \n75%                     58.750000            58.750000        60.750000  \nmax                     78.000000            78.000000        97.000000  \n\n[8 rows x 27 columns]",
      "text/html": "<div>\n<style scoped>\n    .dataframe tbody tr th:only-of-type {\n        vertical-align: middle;\n    }\n\n    .dataframe tbody tr th {\n        vertical-align: top;\n    }\n\n    .dataframe thead th {\n        text-align: right;\n    }\n</style>\n<table border=\"1\" class=\"dataframe\">\n  <thead>\n    <tr style=\"text-align: right;\">\n      <th></th>\n      <th>year</th>\n      <th>round_num</th>\n      <th>overall</th>\n      <th>yob</th>\n      <th>points</th>\n      <th>avg_speed.speed</th>\n      <th>avg_speed.speed_position</th>\n      <th>sector1.position</th>\n      <th>sector1.time_lost_position</th>\n      <th>split1.position</th>\n      <th>...</th>\n      <th>split3.position</th>\n      <th>split3.time_behind_position</th>\n      <th>sector4.position</th>\n      <th>sector4.time_lost_position</th>\n      <th>split4.position</th>\n      <th>split4.time_behind_position</th>\n      <th>sector5.position</th>\n      <th>sector5.time_lost_position</th>\n      <th>finish.gap_position</th>\n      <th>ranking.overall</th>\n    </tr>\n  </thead>\n  <tbody>\n    <tr>\n      <th>count</th>\n      <td>89.0</td>\n      <td>89.0</td>\n      <td>70.000000</td>\n      <td>89.000000</td>\n      <td>89.0</td>\n      <td>78.000000</td>\n      <td>78.000000</td>\n      <td>78.000000</td>\n      <td>78.000000</td>\n      <td>78.000000</td>\n      <td>...</td>\n      <td>78.000000</td>\n      <td>78.000000</td>\n      <td>78.000000</td>\n      <td>78.000000</td>\n      <td>78.000000</td>\n      <td>78.000000</td>\n      <td>78.000000</td>\n      <td>78.000000</td>\n      <td>78.000000</td>\n      <td>70.000000</td>\n    </tr>\n    <tr>\n      <th>mean</th>\n      <td>2019.0</td>\n      <td>8.0</td>\n      <td>40.842857</td>\n      <td>1993.539326</td>\n      <td>0.0</td>\n      <td>35.350692</td>\n      <td>39.461538</td>\n      <td>39.487179</td>\n      <td>39.487179</td>\n      <td>39.487179</td>\n      <td>...</td>\n      <td>39.500000</td>\n      <td>39.500000</td>\n      <td>39.487179</td>\n      <td>39.487179</td>\n      <td>39.500000</td>\n      <td>39.500000</td>\n      <td>39.448718</td>\n      <td>39.448718</td>\n      <td>39.500000</td>\n      <td>40.842857</td>\n    </tr>\n    <tr>\n      <th>std</th>\n      <td>0.0</td>\n      <td>0.0</td>\n      <td>25.526704</td>\n      <td>4.332898</td>\n      <td>0.0</td>\n      <td>2.500670</td>\n      <td>22.704020</td>\n      <td>22.650790</td>\n      <td>22.650790</td>\n      <td>22.650790</td>\n      <td>...</td>\n      <td>22.660538</td>\n      <td>22.660538</td>\n      <td>22.665119</td>\n      <td>22.665119</td>\n      <td>22.660538</td>\n      <td>22.660538</td>\n      <td>22.663345</td>\n      <td>22.663345</td>\n      <td>22.660538</td>\n      <td>25.526704</td>\n    </tr>\n    <tr>\n      <th>min</th>\n      <td>2019.0</td>\n      <td>8.0</td>\n      <td>1.000000</td>\n      <td>1981.000000</td>\n      <td>0.0</td>\n      <td>20.551000</td>\n      <td>1.000000</td>\n      <td>1.000000</td>\n      <td>1.000000</td>\n      <td>1.000000</td>\n      <td>...</td>\n      <td>1.000000</td>\n      <td>1.000000</td>\n      <td>1.000000</td>\n      <td>1.000000</td>\n      <td>1.000000</td>\n      <td>1.000000</td>\n      <td>1.000000</td>\n      <td>1.000000</td>\n      <td>1.000000</td>\n      <td>1.000000</td>\n    </tr>\n    <tr>\n      <th>25%</th>\n      <td>2019.0</td>\n      <td>8.0</td>\n      <td>19.500000</td>\n      <td>1991.000000</td>\n      <td>0.0</td>\n      <td>35.261750</td>\n      <td>20.250000</td>\n      <td>20.250000</td>\n      <td>20.250000</td>\n      <td>20.250000</td>\n      <td>...</td>\n      <td>20.250000</td>\n      <td>20.250000</td>\n      <td>20.250000</td>\n      <td>20.250000</td>\n      <td>20.250000</td>\n      <td>20.250000</td>\n      <td>20.250000</td>\n      <td>20.250000</td>\n      <td>20.250000</td>\n      <td>19.500000</td>\n    </tr>\n    <tr>\n      <th>50%</th>\n      <td>2019.0</td>\n      <td>8.0</td>\n      <td>37.500000</td>\n      <td>1994.000000</td>\n      <td>0.0</td>\n      <td>35.899000</td>\n      <td>39.500000</td>\n      <td>39.500000</td>\n      <td>39.500000</td>\n      <td>39.500000</td>\n      <td>...</td>\n      <td>39.500000</td>\n      <td>39.500000</td>\n      <td>39.500000</td>\n      <td>39.500000</td>\n      <td>39.500000</td>\n      <td>39.500000</td>\n      <td>39.500000</td>\n      <td>39.500000</td>\n      <td>39.500000</td>\n      <td>37.500000</td>\n    </tr>\n    <tr>\n      <th>75%</th>\n      <td>2019.0</td>\n      <td>8.0</td>\n      <td>60.750000</td>\n      <td>1997.000000</td>\n      <td>0.0</td>\n      <td>36.398750</td>\n      <td>58.750000</td>\n      <td>58.750000</td>\n      <td>58.750000</td>\n      <td>58.750000</td>\n      <td>...</td>\n      <td>58.750000</td>\n      <td>58.750000</td>\n      <td>58.750000</td>\n      <td>58.750000</td>\n      <td>58.750000</td>\n      <td>58.750000</td>\n      <td>58.750000</td>\n      <td>58.750000</td>\n      <td>58.750000</td>\n      <td>60.750000</td>\n    </tr>\n    <tr>\n      <th>max</th>\n      <td>2019.0</td>\n      <td>8.0</td>\n      <td>97.000000</td>\n      <td>2000.000000</td>\n      <td>0.0</td>\n      <td>37.937000</td>\n      <td>78.000000</td>\n      <td>78.000000</td>\n      <td>78.000000</td>\n      <td>78.000000</td>\n      <td>...</td>\n      <td>78.000000</td>\n      <td>78.000000</td>\n      <td>78.000000</td>\n      <td>78.000000</td>\n      <td>78.000000</td>\n      <td>78.000000</td>\n      <td>78.000000</td>\n      <td>78.000000</td>\n      <td>78.000000</td>\n      <td>97.000000</td>\n    </tr>\n  </tbody>\n</table>\n<p>8 rows × 27 columns</p>\n</div>"
     },
     "execution_count": 95,
     "metadata": {},
     "output_type": "execute_result"
    }
   ],
   "source": [
    "snow_2019_elite_men_qualy_df.describe()"
   ],
   "metadata": {
    "collapsed": false,
    "pycharm": {
     "name": "#%%\n"
    }
   }
  },
  {
   "cell_type": "code",
   "execution_count": 96,
   "outputs": [
    {
     "name": "stdout",
     "output_type": "stream",
     "text": [
      "Qualy Dtypes:\n",
      "date                    object\n",
      "venue                   object\n",
      "year                     int64\n",
      "round_num                int64\n",
      "junior                  object\n",
      "                        ...   \n",
      "finish.time             object\n",
      "finish.gap              object\n",
      "finish.gap_position    float64\n",
      "ranking.overall        float64\n",
      "ranking.protected       object\n",
      "Length: 73, dtype: object\n"
     ]
    }
   ],
   "source": [
    "snow_2019_elite_men_qualy_dtypes = snow_2019_elite_men_qualy_df.dtypes\n",
    "print(f'Qualy Dtypes:\\n{snow_2019_elite_men_qualy_dtypes}')\n"
   ],
   "metadata": {
    "collapsed": false,
    "pycharm": {
     "name": "#%%\n"
    }
   }
  },
  {
   "cell_type": "markdown",
   "source": [
    "Snowshoe 2019 Elite Men Final:"
   ],
   "metadata": {
    "collapsed": false,
    "pycharm": {
     "name": "#%% md\n"
    }
   }
  },
  {
   "cell_type": "code",
   "execution_count": 97,
   "outputs": [
    {
     "name": "stdout",
     "output_type": "stream",
     "text": [
      "<class 'pandas.core.frame.DataFrame'>\n",
      "RangeIndex: 61 entries, 0 to 60\n",
      "Data columns (total 65 columns):\n",
      " #   Column                       Non-Null Count  Dtype  \n",
      "---  ------                       --------------  -----  \n",
      " 0   date                         61 non-null     object \n",
      " 1   venue                        61 non-null     object \n",
      " 2   year                         61 non-null     int64  \n",
      " 3   round_num                    61 non-null     int64  \n",
      " 4   junior                       0 non-null      object \n",
      " 5   position                     61 non-null     object \n",
      " 6   protected                    18 non-null     object \n",
      " 7   overall                      58 non-null     float64\n",
      " 8   uci_code                     61 non-null     object \n",
      " 9   uci_id                       61 non-null     object \n",
      " 10  yob                          61 non-null     int64  \n",
      " 11  name                         61 non-null     object \n",
      " 12  team                         54 non-null     object \n",
      " 13  bike                         43 non-null     object \n",
      " 14  country                      61 non-null     object \n",
      " 15  dns                          0 non-null      object \n",
      " 16  dnf                          1 non-null      object \n",
      " 17  dsq                          0 non-null      object \n",
      " 18  points                       61 non-null     int64  \n",
      " 19  event                        61 non-null     object \n",
      " 20  speed.speed                  0 non-null      object \n",
      " 21  speed.position               0 non-null      object \n",
      " 22  avg_speed.speed              60 non-null     float64\n",
      " 23  avg_speed.speed_position     60 non-null     float64\n",
      " 24  sector1.time                 60 non-null     object \n",
      " 25  sector1.position             60 non-null     float64\n",
      " 26  sector1.time_lost            60 non-null     object \n",
      " 27  sector1.time_lost_position   60 non-null     float64\n",
      " 28  split1.time                  60 non-null     object \n",
      " 29  split1.position              60 non-null     float64\n",
      " 30  split1.time_behind           60 non-null     object \n",
      " 31  split1.time_behind_position  60 non-null     float64\n",
      " 32  sector2.time                 60 non-null     object \n",
      " 33  sector2.position             60 non-null     float64\n",
      " 34  sector2.time_lost            60 non-null     object \n",
      " 35  sector2.time_lost_position   60 non-null     float64\n",
      " 36  split2.time                  60 non-null     object \n",
      " 37  split2.position              60 non-null     float64\n",
      " 38  split2.time_behind           60 non-null     object \n",
      " 39  split2.time_behind_position  60 non-null     float64\n",
      " 40  sector3.time                 60 non-null     object \n",
      " 41  sector3.position             60 non-null     float64\n",
      " 42  sector3.time_lost            60 non-null     object \n",
      " 43  sector3.time_lost_position   60 non-null     float64\n",
      " 44  split3.time                  60 non-null     object \n",
      " 45  split3.position              60 non-null     float64\n",
      " 46  split3.time_behind           60 non-null     object \n",
      " 47  split3.time_behind_position  60 non-null     float64\n",
      " 48  sector4.time                 60 non-null     object \n",
      " 49  sector4.position             60 non-null     float64\n",
      " 50  sector4.time_lost            60 non-null     object \n",
      " 51  sector4.time_lost_position   60 non-null     float64\n",
      " 52  split4.time                  60 non-null     object \n",
      " 53  split4.position              60 non-null     float64\n",
      " 54  split4.time_behind           60 non-null     object \n",
      " 55  split4.time_behind_position  60 non-null     float64\n",
      " 56  sector5.time                 60 non-null     object \n",
      " 57  sector5.position             60 non-null     float64\n",
      " 58  sector5.time_lost            60 non-null     object \n",
      " 59  sector5.time_lost_position   60 non-null     float64\n",
      " 60  finish.time                  60 non-null     object \n",
      " 61  finish.gap                   60 non-null     object \n",
      " 62  finish.gap_position          60 non-null     float64\n",
      " 63  ranking.overall              58 non-null     float64\n",
      " 64  ranking.protected            18 non-null     object \n",
      "dtypes: float64(23), int64(4), object(38)\n",
      "memory usage: 31.1+ KB\n"
     ]
    }
   ],
   "source": [
    "snow_2019_elite_men_final_df.info()"
   ],
   "metadata": {
    "collapsed": false,
    "pycharm": {
     "name": "#%%\n"
    }
   }
  },
  {
   "cell_type": "code",
   "execution_count": 98,
   "outputs": [
    {
     "data": {
      "text/plain": "         year  round_num    overall          yob      points  avg_speed.speed  \\\ncount    61.0       61.0  58.000000    61.000000   61.000000        60.000000   \nmean   2019.0        8.0  38.155172  1992.918033   46.606557        37.601983   \nstd       0.0        0.0  24.348206     4.071425   50.396851         0.896575   \nmin    2019.0        8.0   1.000000  1981.000000    0.000000        34.369000   \n25%    2019.0        8.0  18.250000  1990.000000   15.000000        37.113500   \n50%    2019.0        8.0  34.500000  1994.000000   30.000000        37.553000   \n75%    2019.0        8.0  59.750000  1996.000000   54.000000        38.129750   \nmax    2019.0        8.0  84.000000  1999.000000  250.000000        39.563000   \n\n       avg_speed.speed_position  sector1.position  sector1.time_lost_position  \\\ncount                 60.000000         60.000000                   60.000000   \nmean                  30.500000         30.500000                   30.500000   \nstd                   17.464249         17.464249                   17.464249   \nmin                    1.000000          1.000000                    1.000000   \n25%                   15.750000         15.750000                   15.750000   \n50%                   30.500000         30.500000                   30.500000   \n75%                   45.250000         45.250000                   45.250000   \nmax                   60.000000         60.000000                   60.000000   \n\n       split1.position  ...  split3.position  split3.time_behind_position  \\\ncount        60.000000  ...        60.000000                    60.000000   \nmean         30.500000  ...        30.500000                    30.500000   \nstd          17.464249  ...        17.464249                    17.464249   \nmin           1.000000  ...         1.000000                     1.000000   \n25%          15.750000  ...        15.750000                    15.750000   \n50%          30.500000  ...        30.500000                    30.500000   \n75%          45.250000  ...        45.250000                    45.250000   \nmax          60.000000  ...        60.000000                    60.000000   \n\n       sector4.position  sector4.time_lost_position  split4.position  \\\ncount         60.000000                   60.000000        60.000000   \nmean          30.500000                   30.500000        30.500000   \nstd           17.464249                   17.464249        17.464249   \nmin            1.000000                    1.000000         1.000000   \n25%           15.750000                   15.750000        15.750000   \n50%           30.500000                   30.500000        30.500000   \n75%           45.250000                   45.250000        45.250000   \nmax           60.000000                   60.000000        60.000000   \n\n       split4.time_behind_position  sector5.position  \\\ncount                    60.000000         60.000000   \nmean                     30.500000         30.483333   \nstd                      17.464249         17.437046   \nmin                       1.000000          1.000000   \n25%                      15.750000         15.750000   \n50%                      30.500000         30.500000   \n75%                      45.250000         45.250000   \nmax                      60.000000         60.000000   \n\n       sector5.time_lost_position  finish.gap_position  ranking.overall  \ncount                   60.000000            60.000000        58.000000  \nmean                    30.483333            30.500000        38.155172  \nstd                     17.437046            17.464249        24.348206  \nmin                      1.000000             1.000000         1.000000  \n25%                     15.750000            15.750000        18.250000  \n50%                     30.500000            30.500000        34.500000  \n75%                     45.250000            45.250000        59.750000  \nmax                     60.000000            60.000000        84.000000  \n\n[8 rows x 27 columns]",
      "text/html": "<div>\n<style scoped>\n    .dataframe tbody tr th:only-of-type {\n        vertical-align: middle;\n    }\n\n    .dataframe tbody tr th {\n        vertical-align: top;\n    }\n\n    .dataframe thead th {\n        text-align: right;\n    }\n</style>\n<table border=\"1\" class=\"dataframe\">\n  <thead>\n    <tr style=\"text-align: right;\">\n      <th></th>\n      <th>year</th>\n      <th>round_num</th>\n      <th>overall</th>\n      <th>yob</th>\n      <th>points</th>\n      <th>avg_speed.speed</th>\n      <th>avg_speed.speed_position</th>\n      <th>sector1.position</th>\n      <th>sector1.time_lost_position</th>\n      <th>split1.position</th>\n      <th>...</th>\n      <th>split3.position</th>\n      <th>split3.time_behind_position</th>\n      <th>sector4.position</th>\n      <th>sector4.time_lost_position</th>\n      <th>split4.position</th>\n      <th>split4.time_behind_position</th>\n      <th>sector5.position</th>\n      <th>sector5.time_lost_position</th>\n      <th>finish.gap_position</th>\n      <th>ranking.overall</th>\n    </tr>\n  </thead>\n  <tbody>\n    <tr>\n      <th>count</th>\n      <td>61.0</td>\n      <td>61.0</td>\n      <td>58.000000</td>\n      <td>61.000000</td>\n      <td>61.000000</td>\n      <td>60.000000</td>\n      <td>60.000000</td>\n      <td>60.000000</td>\n      <td>60.000000</td>\n      <td>60.000000</td>\n      <td>...</td>\n      <td>60.000000</td>\n      <td>60.000000</td>\n      <td>60.000000</td>\n      <td>60.000000</td>\n      <td>60.000000</td>\n      <td>60.000000</td>\n      <td>60.000000</td>\n      <td>60.000000</td>\n      <td>60.000000</td>\n      <td>58.000000</td>\n    </tr>\n    <tr>\n      <th>mean</th>\n      <td>2019.0</td>\n      <td>8.0</td>\n      <td>38.155172</td>\n      <td>1992.918033</td>\n      <td>46.606557</td>\n      <td>37.601983</td>\n      <td>30.500000</td>\n      <td>30.500000</td>\n      <td>30.500000</td>\n      <td>30.500000</td>\n      <td>...</td>\n      <td>30.500000</td>\n      <td>30.500000</td>\n      <td>30.500000</td>\n      <td>30.500000</td>\n      <td>30.500000</td>\n      <td>30.500000</td>\n      <td>30.483333</td>\n      <td>30.483333</td>\n      <td>30.500000</td>\n      <td>38.155172</td>\n    </tr>\n    <tr>\n      <th>std</th>\n      <td>0.0</td>\n      <td>0.0</td>\n      <td>24.348206</td>\n      <td>4.071425</td>\n      <td>50.396851</td>\n      <td>0.896575</td>\n      <td>17.464249</td>\n      <td>17.464249</td>\n      <td>17.464249</td>\n      <td>17.464249</td>\n      <td>...</td>\n      <td>17.464249</td>\n      <td>17.464249</td>\n      <td>17.464249</td>\n      <td>17.464249</td>\n      <td>17.464249</td>\n      <td>17.464249</td>\n      <td>17.437046</td>\n      <td>17.437046</td>\n      <td>17.464249</td>\n      <td>24.348206</td>\n    </tr>\n    <tr>\n      <th>min</th>\n      <td>2019.0</td>\n      <td>8.0</td>\n      <td>1.000000</td>\n      <td>1981.000000</td>\n      <td>0.000000</td>\n      <td>34.369000</td>\n      <td>1.000000</td>\n      <td>1.000000</td>\n      <td>1.000000</td>\n      <td>1.000000</td>\n      <td>...</td>\n      <td>1.000000</td>\n      <td>1.000000</td>\n      <td>1.000000</td>\n      <td>1.000000</td>\n      <td>1.000000</td>\n      <td>1.000000</td>\n      <td>1.000000</td>\n      <td>1.000000</td>\n      <td>1.000000</td>\n      <td>1.000000</td>\n    </tr>\n    <tr>\n      <th>25%</th>\n      <td>2019.0</td>\n      <td>8.0</td>\n      <td>18.250000</td>\n      <td>1990.000000</td>\n      <td>15.000000</td>\n      <td>37.113500</td>\n      <td>15.750000</td>\n      <td>15.750000</td>\n      <td>15.750000</td>\n      <td>15.750000</td>\n      <td>...</td>\n      <td>15.750000</td>\n      <td>15.750000</td>\n      <td>15.750000</td>\n      <td>15.750000</td>\n      <td>15.750000</td>\n      <td>15.750000</td>\n      <td>15.750000</td>\n      <td>15.750000</td>\n      <td>15.750000</td>\n      <td>18.250000</td>\n    </tr>\n    <tr>\n      <th>50%</th>\n      <td>2019.0</td>\n      <td>8.0</td>\n      <td>34.500000</td>\n      <td>1994.000000</td>\n      <td>30.000000</td>\n      <td>37.553000</td>\n      <td>30.500000</td>\n      <td>30.500000</td>\n      <td>30.500000</td>\n      <td>30.500000</td>\n      <td>...</td>\n      <td>30.500000</td>\n      <td>30.500000</td>\n      <td>30.500000</td>\n      <td>30.500000</td>\n      <td>30.500000</td>\n      <td>30.500000</td>\n      <td>30.500000</td>\n      <td>30.500000</td>\n      <td>30.500000</td>\n      <td>34.500000</td>\n    </tr>\n    <tr>\n      <th>75%</th>\n      <td>2019.0</td>\n      <td>8.0</td>\n      <td>59.750000</td>\n      <td>1996.000000</td>\n      <td>54.000000</td>\n      <td>38.129750</td>\n      <td>45.250000</td>\n      <td>45.250000</td>\n      <td>45.250000</td>\n      <td>45.250000</td>\n      <td>...</td>\n      <td>45.250000</td>\n      <td>45.250000</td>\n      <td>45.250000</td>\n      <td>45.250000</td>\n      <td>45.250000</td>\n      <td>45.250000</td>\n      <td>45.250000</td>\n      <td>45.250000</td>\n      <td>45.250000</td>\n      <td>59.750000</td>\n    </tr>\n    <tr>\n      <th>max</th>\n      <td>2019.0</td>\n      <td>8.0</td>\n      <td>84.000000</td>\n      <td>1999.000000</td>\n      <td>250.000000</td>\n      <td>39.563000</td>\n      <td>60.000000</td>\n      <td>60.000000</td>\n      <td>60.000000</td>\n      <td>60.000000</td>\n      <td>...</td>\n      <td>60.000000</td>\n      <td>60.000000</td>\n      <td>60.000000</td>\n      <td>60.000000</td>\n      <td>60.000000</td>\n      <td>60.000000</td>\n      <td>60.000000</td>\n      <td>60.000000</td>\n      <td>60.000000</td>\n      <td>84.000000</td>\n    </tr>\n  </tbody>\n</table>\n<p>8 rows × 27 columns</p>\n</div>"
     },
     "execution_count": 98,
     "metadata": {},
     "output_type": "execute_result"
    }
   ],
   "source": [
    "snow_2019_elite_men_final_df.describe()"
   ],
   "metadata": {
    "collapsed": false,
    "pycharm": {
     "name": "#%%\n"
    }
   }
  },
  {
   "cell_type": "code",
   "execution_count": 99,
   "outputs": [
    {
     "name": "stdout",
     "output_type": "stream",
     "text": [
      "Final Dtypes:\n",
      "date                    object\n",
      "venue                   object\n",
      "year                     int64\n",
      "round_num                int64\n",
      "junior                  object\n",
      "                        ...   \n",
      "finish.time             object\n",
      "finish.gap              object\n",
      "finish.gap_position    float64\n",
      "ranking.overall        float64\n",
      "ranking.protected       object\n",
      "Length: 65, dtype: object\n"
     ]
    }
   ],
   "source": [
    "snow_2019_elite_men_final_dtypes = snow_2019_elite_men_final_df.dtypes\n",
    "print(f'Final Dtypes:\\n{snow_2019_elite_men_final_dtypes}')"
   ],
   "metadata": {
    "collapsed": false,
    "pycharm": {
     "name": "#%%\n"
    }
   }
  },
  {
   "cell_type": "markdown",
   "source": [
    "Now I am going to clean up my data starting with the data"
   ],
   "metadata": {
    "collapsed": false,
    "pycharm": {
     "name": "#%% md\n"
    }
   }
  },
  {
   "cell_type": "code",
   "execution_count": null,
   "outputs": [],
   "source": [
    "# seting the indexes of all the data frames to to riders individual uci_id"
   ],
   "metadata": {
    "collapsed": false,
    "pycharm": {
     "name": "#%%\n"
    }
   }
  },
  {
   "cell_type": "code",
   "execution_count": 107,
   "outputs": [
    {
     "data": {
      "text/plain": "0      True\n1      True\n2      True\n3      True\n4      True\n      ...  \n84    False\n85    False\n86    False\n87    False\n88    False\nName: uci_id, Length: 89, dtype: bool"
     },
     "execution_count": 107,
     "metadata": {},
     "output_type": "execute_result"
    }
   ],
   "source": [
    "snow_2019_elite_men_qualy_df['uci_id'].isin(snow_2019_elite_men_final_df['uci_id'])"
   ],
   "metadata": {
    "collapsed": false,
    "pycharm": {
     "name": "#%%\n"
    }
   }
  },
  {
   "cell_type": "code",
   "execution_count": null,
   "outputs": [],
   "source": [],
   "metadata": {
    "collapsed": false,
    "pycharm": {
     "name": "#%%\n"
    }
   }
  },
  {
   "cell_type": "code",
   "execution_count": 100,
   "outputs": [],
   "source": [
    "#poping of the event column and appending it to the column name of every other feature in the dataset\n",
    "# for practice, qualifying and finals.\n",
    "prac_event = snow_2019_elite_men_pract_df.pop('event')\n",
    "qualy_event = snow_2019_elite_men_qualy_df.pop('event')\n",
    "final_event = snow_2019_elite_men_final_df.pop('event')"
   ],
   "metadata": {
    "collapsed": false,
    "pycharm": {
     "name": "#%%\n"
    }
   }
  },
  {
   "cell_type": "code",
   "execution_count": 101,
   "outputs": [],
   "source": [
    "prac_event = prac_event.astype('str')[0]\n",
    "qualy_event = qualy_event.astype('str')[0]\n",
    "final_event = final_event.astype('str')[0]"
   ],
   "metadata": {
    "collapsed": false,
    "pycharm": {
     "name": "#%%\n"
    }
   }
  },
  {
   "cell_type": "code",
   "execution_count": 104,
   "outputs": [
    {
     "data": {
      "text/plain": "Index(['final.date', 'final.venue', 'final.year', 'final.round_num',\n       'final.junior', 'final.position', 'final.protected', 'final.overall',\n       'final.uci_code', 'final.uci_id', 'final.yob', 'final.name',\n       'final.team', 'final.bike', 'final.country', 'final.dns', 'final.dnf',\n       'final.dsq', 'final.points', 'final.speed.speed',\n       'final.speed.position', 'final.avg_speed.speed',\n       'final.avg_speed.speed_position', 'final.sector1.time',\n       'final.sector1.position', 'final.sector1.time_lost',\n       'final.sector1.time_lost_position', 'final.split1.time',\n       'final.split1.position', 'final.split1.time_behind',\n       'final.split1.time_behind_position', 'final.sector2.time',\n       'final.sector2.position', 'final.sector2.time_lost',\n       'final.sector2.time_lost_position', 'final.split2.time',\n       'final.split2.position', 'final.split2.time_behind',\n       'final.split2.time_behind_position', 'final.sector3.time',\n       'final.sector3.position', 'final.sector3.time_lost',\n       'final.sector3.time_lost_position', 'final.split3.time',\n       'final.split3.position', 'final.split3.time_behind',\n       'final.split3.time_behind_position', 'final.sector4.time',\n       'final.sector4.position', 'final.sector4.time_lost',\n       'final.sector4.time_lost_position', 'final.split4.time',\n       'final.split4.position', 'final.split4.time_behind',\n       'final.split4.time_behind_position', 'final.sector5.time',\n       'final.sector5.position', 'final.sector5.time_lost',\n       'final.sector5.time_lost_position', 'final.finish.time',\n       'final.finish.gap', 'final.finish.gap_position',\n       'final.ranking.overall', 'final.ranking.protected'],\n      dtype='object')"
     },
     "execution_count": 104,
     "metadata": {},
     "output_type": "execute_result"
    }
   ],
   "source": [
    "snow_2019_elite_men_final_df.columns.map(lambda x: f'finals.{x}')"
   ],
   "metadata": {
    "collapsed": false,
    "pycharm": {
     "name": "#%%\n"
    }
   }
  },
  {
   "cell_type": "code",
   "execution_count": null,
   "outputs": [],
   "source": [
    "\n",
    "\n",
    "#dropping the round_num, date\n",
    "a_final_test = snow_2019_elite_men_final_df.columns.values\n",
    "\n",
    "\n",
    "#setting event pre fixes for practice, qualy and final\n",
    "\n",
    "#tests"
   ],
   "metadata": {
    "collapsed": false,
    "pycharm": {
     "name": "#%%\n"
    }
   }
  },
  {
   "cell_type": "code",
   "execution_count": 56,
   "outputs": [
    {
     "data": {
      "text/plain": "array(['date', 'venue', 'year', 'round_num', 'junior', 'position',\n       'protected', 'overall', 'uci_code', 'uci_id', 'yob', 'name',\n       'team', 'bike', 'country', 'dns', 'dnf', 'dsq', 'points', 'event',\n       'speed.speed', 'speed.position', 'avg_speed.speed',\n       'avg_speed.speed_position', 'sector1.time', 'sector1.position',\n       'sector1.time_lost', 'sector1.time_lost_position', 'split1.time',\n       'split1.position', 'split1.time_behind',\n       'split1.time_behind_position', 'sector2.time', 'sector2.position',\n       'sector2.time_lost', 'sector2.time_lost_position', 'split2.time',\n       'split2.position', 'split2.time_behind',\n       'split2.time_behind_position', 'sector3.time', 'sector3.position',\n       'sector3.time_lost', 'sector3.time_lost_position', 'split3.time',\n       'split3.position', 'split3.time_behind',\n       'split3.time_behind_position', 'sector4.time', 'sector4.position',\n       'sector4.time_lost', 'sector4.time_lost_position', 'split4.time',\n       'split4.position', 'split4.time_behind',\n       'split4.time_behind_position', 'sector5.time', 'sector5.position',\n       'sector5.time_lost', 'sector5.time_lost_position', 'finish.time',\n       'finish.gap', 'finish.gap_position', 'ranking.overall',\n       'ranking.protected'], dtype=object)"
     },
     "execution_count": 56,
     "metadata": {},
     "output_type": "execute_result"
    }
   ],
   "source": [
    "snow_2019_elite_men_final_df.columns.values"
   ],
   "metadata": {
    "collapsed": false,
    "pycharm": {
     "name": "#%%\n"
    }
   }
  },
  {
   "cell_type": "code",
   "execution_count": 59,
   "outputs": [],
   "source": [
    "event = event.unique()"
   ],
   "metadata": {
    "collapsed": false,
    "pycharm": {
     "name": "#%%\n"
    }
   }
  },
  {
   "cell_type": "code",
   "execution_count": null,
   "outputs": [],
   "source": [
    "\n",
    "\n",
    "\n"
   ],
   "metadata": {
    "collapsed": false,
    "pycharm": {
     "name": "#%%\n"
    }
   }
  },
  {
   "cell_type": "markdown",
   "source": [
    "End of my final finished nopebook code and scratch"
   ],
   "metadata": {
    "collapsed": false,
    "pycharm": {
     "name": "#%% md\n"
    }
   }
  },
  {
   "cell_type": "code",
   "execution_count": null,
   "outputs": [],
   "source": [
    "print(f'This is the end of the final code')"
   ],
   "metadata": {
    "collapsed": false,
    "pycharm": {
     "name": "#%%\n"
    }
   }
  },
  {
   "cell_type": "code",
   "execution_count": null,
   "outputs": [],
   "source": [],
   "metadata": {
    "collapsed": false,
    "pycharm": {
     "name": "#%%\n"
    }
   }
  },
  {
   "cell_type": "code",
   "execution_count": null,
   "outputs": [],
   "source": [],
   "metadata": {
    "collapsed": false,
    "pycharm": {
     "name": "#%%\n"
    }
   }
  },
  {
   "cell_type": "code",
   "execution_count": null,
   "outputs": [],
   "source": [],
   "metadata": {
    "collapsed": false,
    "pycharm": {
     "name": "#%%\n"
    }
   }
  },
  {
   "cell_type": "code",
   "execution_count": null,
   "outputs": [],
   "source": [],
   "metadata": {
    "collapsed": false,
    "pycharm": {
     "name": "#%%\n"
    }
   }
  },
  {
   "cell_type": "code",
   "execution_count": null,
   "outputs": [],
   "source": [],
   "metadata": {
    "collapsed": false,
    "pycharm": {
     "name": "#%%\n"
    }
   }
  },
  {
   "cell_type": "code",
   "execution_count": null,
   "outputs": [],
   "source": [
    "\n"
   ],
   "metadata": {
    "collapsed": false,
    "pycharm": {
     "name": "#%%\n"
    }
   }
  },
  {
   "cell_type": "code",
   "execution_count": null,
   "outputs": [],
   "source": [
    "# #set the dataframes indxs to be the uci ids of every rider\n",
    "# snow_2019_elite_men_pract_df.set_index('uci_id',inplace=True)\n",
    "# snow_2019_elite_men_qualy_df.set_index('uci_id',inplace=True)\n",
    "# snow_2019_elite_men_final_df.set_index('uci_id',inplace=True)"
   ],
   "metadata": {
    "collapsed": false,
    "pycharm": {
     "name": "#%%\n"
    }
   }
  },
  {
   "cell_type": "code",
   "execution_count": 13,
   "outputs": [],
   "source": [
    "final_types = snow_2019_elite_men_final_df.dtypes"
   ],
   "metadata": {
    "collapsed": false,
    "pycharm": {
     "name": "#%%\n"
    }
   }
  },
  {
   "cell_type": "code",
   "execution_count": 10,
   "outputs": [
    {
     "ename": "AttributeError",
     "evalue": "module 'pandas' has no attribute 'join'",
     "output_type": "error",
     "traceback": [
      "\u001B[0;31m---------------------------------------------------------------------------\u001B[0m",
      "\u001B[0;31mAttributeError\u001B[0m                            Traceback (most recent call last)",
      "\u001B[0;32m<ipython-input-10-493c8380bb0a>\u001B[0m in \u001B[0;36m<module>\u001B[0;34m\u001B[0m\n\u001B[0;32m----> 1\u001B[0;31m \u001B[0ma0\u001B[0m \u001B[0;34m=\u001B[0m \u001B[0mpd\u001B[0m\u001B[0;34m.\u001B[0m\u001B[0mjoin\u001B[0m\u001B[0;34m(\u001B[0m\u001B[0msnow_2019_elite_men_final_df\u001B[0m\u001B[0;34m,\u001B[0m\u001B[0msnow_2019_elite_men_qualy_df\u001B[0m\u001B[0;34m,\u001B[0m \u001B[0mhow\u001B[0m \u001B[0;34m=\u001B[0m \u001B[0;34m'inner'\u001B[0m\u001B[0;34m)\u001B[0m\u001B[0;34m\u001B[0m\u001B[0;34m\u001B[0m\u001B[0m\n\u001B[0m\u001B[1;32m      2\u001B[0m \u001B[0;31m# snow_2019_elite_men_merged = pd.merge(snow_2019_elite_men_final_df,snow_2019_elite_men_qualy_df)\u001B[0m\u001B[0;34m\u001B[0m\u001B[0;34m\u001B[0m\u001B[0;34m\u001B[0m\u001B[0m\n\u001B[1;32m      3\u001B[0m \u001B[0;34m\u001B[0m\u001B[0m\n",
      "\u001B[0;32m~/anaconda3/envs/gpu_datasci/lib/python3.8/site-packages/pandas/__init__.py\u001B[0m in \u001B[0;36m__getattr__\u001B[0;34m(name)\u001B[0m\n\u001B[1;32m    242\u001B[0m         \u001B[0;32mreturn\u001B[0m \u001B[0m_SparseArray\u001B[0m\u001B[0;34m\u001B[0m\u001B[0;34m\u001B[0m\u001B[0m\n\u001B[1;32m    243\u001B[0m \u001B[0;34m\u001B[0m\u001B[0m\n\u001B[0;32m--> 244\u001B[0;31m     \u001B[0;32mraise\u001B[0m \u001B[0mAttributeError\u001B[0m\u001B[0;34m(\u001B[0m\u001B[0;34mf\"module 'pandas' has no attribute '{name}'\"\u001B[0m\u001B[0;34m)\u001B[0m\u001B[0;34m\u001B[0m\u001B[0;34m\u001B[0m\u001B[0m\n\u001B[0m\u001B[1;32m    245\u001B[0m \u001B[0;34m\u001B[0m\u001B[0m\n\u001B[1;32m    246\u001B[0m \u001B[0;34m\u001B[0m\u001B[0m\n",
      "\u001B[0;31mAttributeError\u001B[0m: module 'pandas' has no attribute 'join'"
     ]
    }
   ],
   "source": [
    "a0 = pd.join(snow_2019_elite_men_final_df,snow_2019_elite_men_qualy_df, how = 'inner')\n",
    "# snow_2019_elite_men_merged = pd.merge(snow_2019_elite_men_final_df,snow_2019_elite_men_qualy_df)"
   ],
   "metadata": {
    "collapsed": false,
    "pycharm": {
     "name": "#%% merging the elite men\n"
    }
   }
  },
  {
   "cell_type": "code",
   "execution_count": 32,
   "outputs": [],
   "source": [
    "# snow_2019_uci_ids_practice = snow_2019_elite_men_practice_df.uci_id.astype('int')\n",
    "# #getting all the riders that rode in timed practice, qualy, and finals\n",
    "# snow_2019_uci_ids_qualy = snow_2019_elite_men_qualy_df.uci_id.astype('int')\n",
    "# snow_2019_uci_ids_final = snow_2019_elite_men_final_df.uci_id.astype('int')"
   ],
   "metadata": {
    "collapsed": false,
    "pycharm": {
     "name": "#%%\n"
    }
   }
  },
  {
   "cell_type": "code",
   "execution_count": 33,
   "outputs": [],
   "source": [
    "#mergeing all the data frames so that they contain all the riders that rode in timed practice, qualifying, and finals run\n",
    "snow_2019_elite_men_merged = pd.merge(snow_2019_elite_men_final_df,snow_2019_elite_men_qualy_df)"
   ],
   "metadata": {
    "collapsed": false,
    "pycharm": {
     "name": "#%%\n"
    }
   }
  },
  {
   "cell_type": "code",
   "execution_count": null,
   "outputs": [],
   "source": [],
   "metadata": {
    "collapsed": false,
    "pycharm": {
     "name": "#%%\n"
    }
   }
  },
  {
   "cell_type": "code",
   "execution_count": null,
   "outputs": [],
   "source": [],
   "metadata": {
    "collapsed": false,
    "pycharm": {
     "name": "#%%\n"
    }
   }
  },
  {
   "cell_type": "code",
   "execution_count": null,
   "outputs": [],
   "source": [
    "# snowshow_2019_json = json.load('data/results_jsons/2019_Snowshoe_results.json')\n",
    "# snowshow_2019_df = pd.read_json('data/results_jsons/2019_Snowshoe_results.json')"
   ],
   "metadata": {
    "collapsed": false,
    "pycharm": {
     "name": "#%%\n"
    }
   }
  },
  {
   "cell_type": "code",
   "execution_count": null,
   "outputs": [],
   "source": [],
   "metadata": {
    "collapsed": false,
    "pycharm": {
     "name": "#%%\n"
    }
   }
  },
  {
   "cell_type": "markdown",
   "source": [
    "Writing out the psuedo code to pull all info i need\n"
   ],
   "metadata": {
    "collapsed": false,
    "pycharm": {
     "name": "#%% md\n"
    }
   }
  },
  {
   "cell_type": "code",
   "execution_count": null,
   "outputs": [],
   "source": [],
   "metadata": {
    "collapsed": false,
    "pycharm": {
     "name": "#%%\n"
    }
   }
  },
  {
   "cell_type": "markdown",
   "source": [
    "MOST CURRENT WORK TESTIN OUT REQUESTS-HTML\n",
    "\n"
   ],
   "metadata": {
    "collapsed": false
   }
  },
  {
   "cell_type": "code",
   "execution_count": 21,
   "outputs": [],
   "source": [
    "session = HTMLSession()\n",
    "\n",
    "#Initilizing session object"
   ],
   "metadata": {
    "collapsed": false,
    "pycharm": {
     "name": "#%%\n"
    }
   }
  },
  {
   "cell_type": "code",
   "execution_count": 22,
   "outputs": [],
   "source": [
    "results_get_request = session.get(url='http://worldcup.eliotjackson.com/results')"
   ],
   "metadata": {
    "collapsed": false,
    "pycharm": {
     "name": "#%%\n"
    }
   }
  },
  {
   "cell_type": "code",
   "execution_count": 23,
   "outputs": [
    {
     "ename": "RuntimeError",
     "evalue": "Cannot use HTMLSession within an existing event loop. Use AsyncHTMLSession instead.",
     "output_type": "error",
     "traceback": [
      "\u001B[0;31m---------------------------------------------------------------------------\u001B[0m",
      "\u001B[0;31mRuntimeError\u001B[0m                              Traceback (most recent call last)",
      "\u001B[0;32m<ipython-input-23-ca01894b777f>\u001B[0m in \u001B[0;36m<module>\u001B[0;34m\u001B[0m\n\u001B[1;32m      1\u001B[0m \u001B[0;31m#render the page\u001B[0m\u001B[0;34m\u001B[0m\u001B[0;34m\u001B[0m\u001B[0;34m\u001B[0m\u001B[0m\n\u001B[0;32m----> 2\u001B[0;31m \u001B[0;32mawait\u001B[0m \u001B[0mresults_get_request\u001B[0m\u001B[0;34m.\u001B[0m\u001B[0mhtml\u001B[0m\u001B[0;34m.\u001B[0m\u001B[0mrender\u001B[0m\u001B[0;34m(\u001B[0m\u001B[0;34m)\u001B[0m\u001B[0;34m\u001B[0m\u001B[0;34m\u001B[0m\u001B[0m\n\u001B[0m",
      "\u001B[0;32m~/anaconda3/envs/gpu_datasci/lib/python3.8/site-packages/requests_html.py\u001B[0m in \u001B[0;36mrender\u001B[0;34m(self, retries, script, wait, scrolldown, sleep, reload, timeout, keep_page)\u001B[0m\n\u001B[1;32m    584\u001B[0m         \"\"\"\n\u001B[1;32m    585\u001B[0m \u001B[0;34m\u001B[0m\u001B[0m\n\u001B[0;32m--> 586\u001B[0;31m         \u001B[0mself\u001B[0m\u001B[0;34m.\u001B[0m\u001B[0mbrowser\u001B[0m \u001B[0;34m=\u001B[0m \u001B[0mself\u001B[0m\u001B[0;34m.\u001B[0m\u001B[0msession\u001B[0m\u001B[0;34m.\u001B[0m\u001B[0mbrowser\u001B[0m  \u001B[0;31m# Automatically create a event loop and browser\u001B[0m\u001B[0;34m\u001B[0m\u001B[0;34m\u001B[0m\u001B[0m\n\u001B[0m\u001B[1;32m    587\u001B[0m         \u001B[0mcontent\u001B[0m \u001B[0;34m=\u001B[0m \u001B[0;32mNone\u001B[0m\u001B[0;34m\u001B[0m\u001B[0;34m\u001B[0m\u001B[0m\n\u001B[1;32m    588\u001B[0m \u001B[0;34m\u001B[0m\u001B[0m\n",
      "\u001B[0;32m~/anaconda3/envs/gpu_datasci/lib/python3.8/site-packages/requests_html.py\u001B[0m in \u001B[0;36mbrowser\u001B[0;34m(self)\u001B[0m\n\u001B[1;32m    727\u001B[0m             \u001B[0mself\u001B[0m\u001B[0;34m.\u001B[0m\u001B[0mloop\u001B[0m \u001B[0;34m=\u001B[0m \u001B[0masyncio\u001B[0m\u001B[0;34m.\u001B[0m\u001B[0mget_event_loop\u001B[0m\u001B[0;34m(\u001B[0m\u001B[0;34m)\u001B[0m\u001B[0;34m\u001B[0m\u001B[0;34m\u001B[0m\u001B[0m\n\u001B[1;32m    728\u001B[0m             \u001B[0;32mif\u001B[0m \u001B[0mself\u001B[0m\u001B[0;34m.\u001B[0m\u001B[0mloop\u001B[0m\u001B[0;34m.\u001B[0m\u001B[0mis_running\u001B[0m\u001B[0;34m(\u001B[0m\u001B[0;34m)\u001B[0m\u001B[0;34m:\u001B[0m\u001B[0;34m\u001B[0m\u001B[0;34m\u001B[0m\u001B[0m\n\u001B[0;32m--> 729\u001B[0;31m                 \u001B[0;32mraise\u001B[0m \u001B[0mRuntimeError\u001B[0m\u001B[0;34m(\u001B[0m\u001B[0;34m\"Cannot use HTMLSession within an existing event loop. Use AsyncHTMLSession instead.\"\u001B[0m\u001B[0;34m)\u001B[0m\u001B[0;34m\u001B[0m\u001B[0;34m\u001B[0m\u001B[0m\n\u001B[0m\u001B[1;32m    730\u001B[0m             \u001B[0mself\u001B[0m\u001B[0;34m.\u001B[0m\u001B[0m_browser\u001B[0m \u001B[0;34m=\u001B[0m \u001B[0mself\u001B[0m\u001B[0;34m.\u001B[0m\u001B[0mloop\u001B[0m\u001B[0;34m.\u001B[0m\u001B[0mrun_until_complete\u001B[0m\u001B[0;34m(\u001B[0m\u001B[0msuper\u001B[0m\u001B[0;34m(\u001B[0m\u001B[0;34m)\u001B[0m\u001B[0;34m.\u001B[0m\u001B[0mbrowser\u001B[0m\u001B[0;34m)\u001B[0m\u001B[0;34m\u001B[0m\u001B[0;34m\u001B[0m\u001B[0m\n\u001B[1;32m    731\u001B[0m         \u001B[0;32mreturn\u001B[0m \u001B[0mself\u001B[0m\u001B[0;34m.\u001B[0m\u001B[0m_browser\u001B[0m\u001B[0;34m\u001B[0m\u001B[0;34m\u001B[0m\u001B[0m\n",
      "\u001B[0;31mRuntimeError\u001B[0m: Cannot use HTMLSession within an existing event loop. Use AsyncHTMLSession instead."
     ]
    }
   ],
   "source": [
    "#render the page\n",
    "results_get_request.html.render()"
   ],
   "metadata": {
    "collapsed": false,
    "pycharm": {
     "name": "#%%\n"
    }
   }
  },
  {
   "cell_type": "code",
   "execution_count": null,
   "outputs": [],
   "source": [],
   "metadata": {
    "collapsed": false,
    "pycharm": {
     "name": "#%%\n"
    }
   }
  },
  {
   "cell_type": "code",
   "execution_count": null,
   "outputs": [],
   "source": [
    "\n",
    "\n",
    "\n",
    "\n",
    "\n"
   ],
   "metadata": {
    "collapsed": false,
    "pycharm": {
     "name": "#%%\n"
    }
   }
  },
  {
   "cell_type": "markdown",
   "source": [
    "Scratch"
   ],
   "metadata": {
    "collapsed": false,
    "pycharm": {
     "name": "#%% md\n"
    }
   }
  },
  {
   "cell_type": "code",
   "execution_count": null,
   "outputs": [],
   "source": [
    "venues_request = requests.get(url='http://worldcup.eliotjackson.com/api/races/venues')\n",
    "venues_json = venues_request.json()"
   ],
   "metadata": {
    "collapsed": false,
    "pycharm": {
     "name": "#%%\n"
    }
   }
  },
  {
   "cell_type": "code",
   "execution_count": null,
   "outputs": [],
   "source": [
    "maribor2020_results_req = requests.get(url='http://mworldcup.eliotjackson.com/api/races/results?year=2020&venue=Maribor')\n",
    "maribor2020_results_json = maribor2020_results_req.json()\n",
    "\n",
    "\n",
    "pandas_maribor2020 = pd.read_json('http://mworldcup.eliotjackson.com/api/races/results?year=2020&venue=Maribor')"
   ],
   "metadata": {
    "collapsed": false,
    "pycharm": {
     "name": "#%%\n"
    }
   }
  },
  {
   "cell_type": "code",
   "execution_count": 2,
   "outputs": [],
   "source": [
    "race_results2020_request = requests.get(url='http://worldcup.eliotjackson.com/api/results/2020')"
   ],
   "metadata": {
    "collapsed": false,
    "pycharm": {
     "name": "#%%\n"
    }
   }
  },
  {
   "cell_type": "code",
   "execution_count": 3,
   "outputs": [
    {
     "ename": "JSONDecodeError",
     "evalue": "Expecting value: line 1 column 1 (char 0)",
     "output_type": "error",
     "traceback": [
      "\u001B[0;31m---------------------------------------------------------------------------\u001B[0m",
      "\u001B[0;31mJSONDecodeError\u001B[0m                           Traceback (most recent call last)",
      "\u001B[0;32m<ipython-input-3-8702652e770c>\u001B[0m in \u001B[0;36m<module>\u001B[0;34m\u001B[0m\n\u001B[0;32m----> 1\u001B[0;31m \u001B[0mresults2020_json\u001B[0m  \u001B[0;34m=\u001B[0m \u001B[0mrace_results2020_request\u001B[0m\u001B[0;34m.\u001B[0m\u001B[0mjson\u001B[0m\u001B[0;34m(\u001B[0m\u001B[0;34m)\u001B[0m\u001B[0;34m\u001B[0m\u001B[0;34m\u001B[0m\u001B[0m\n\u001B[0m\u001B[1;32m      2\u001B[0m \u001B[0;34m\u001B[0m\u001B[0m\n",
      "\u001B[0;32m~/anaconda3/envs/gpu_datasci/lib/python3.8/site-packages/requests/models.py\u001B[0m in \u001B[0;36mjson\u001B[0;34m(self, **kwargs)\u001B[0m\n\u001B[1;32m    898\u001B[0m                     \u001B[0;31m# used.\u001B[0m\u001B[0;34m\u001B[0m\u001B[0;34m\u001B[0m\u001B[0;34m\u001B[0m\u001B[0m\n\u001B[1;32m    899\u001B[0m                     \u001B[0;32mpass\u001B[0m\u001B[0;34m\u001B[0m\u001B[0;34m\u001B[0m\u001B[0m\n\u001B[0;32m--> 900\u001B[0;31m         \u001B[0;32mreturn\u001B[0m \u001B[0mcomplexjson\u001B[0m\u001B[0;34m.\u001B[0m\u001B[0mloads\u001B[0m\u001B[0;34m(\u001B[0m\u001B[0mself\u001B[0m\u001B[0;34m.\u001B[0m\u001B[0mtext\u001B[0m\u001B[0;34m,\u001B[0m \u001B[0;34m**\u001B[0m\u001B[0mkwargs\u001B[0m\u001B[0;34m)\u001B[0m\u001B[0;34m\u001B[0m\u001B[0;34m\u001B[0m\u001B[0m\n\u001B[0m\u001B[1;32m    901\u001B[0m \u001B[0;34m\u001B[0m\u001B[0m\n\u001B[1;32m    902\u001B[0m     \u001B[0;34m@\u001B[0m\u001B[0mproperty\u001B[0m\u001B[0;34m\u001B[0m\u001B[0;34m\u001B[0m\u001B[0m\n",
      "\u001B[0;32m~/anaconda3/envs/gpu_datasci/lib/python3.8/json/__init__.py\u001B[0m in \u001B[0;36mloads\u001B[0;34m(s, cls, object_hook, parse_float, parse_int, parse_constant, object_pairs_hook, **kw)\u001B[0m\n\u001B[1;32m    355\u001B[0m             \u001B[0mparse_int\u001B[0m \u001B[0;32mis\u001B[0m \u001B[0;32mNone\u001B[0m \u001B[0;32mand\u001B[0m \u001B[0mparse_float\u001B[0m \u001B[0;32mis\u001B[0m \u001B[0;32mNone\u001B[0m \u001B[0;32mand\u001B[0m\u001B[0;34m\u001B[0m\u001B[0;34m\u001B[0m\u001B[0m\n\u001B[1;32m    356\u001B[0m             parse_constant is None and object_pairs_hook is None and not kw):\n\u001B[0;32m--> 357\u001B[0;31m         \u001B[0;32mreturn\u001B[0m \u001B[0m_default_decoder\u001B[0m\u001B[0;34m.\u001B[0m\u001B[0mdecode\u001B[0m\u001B[0;34m(\u001B[0m\u001B[0ms\u001B[0m\u001B[0;34m)\u001B[0m\u001B[0;34m\u001B[0m\u001B[0;34m\u001B[0m\u001B[0m\n\u001B[0m\u001B[1;32m    358\u001B[0m     \u001B[0;32mif\u001B[0m \u001B[0mcls\u001B[0m \u001B[0;32mis\u001B[0m \u001B[0;32mNone\u001B[0m\u001B[0;34m:\u001B[0m\u001B[0;34m\u001B[0m\u001B[0;34m\u001B[0m\u001B[0m\n\u001B[1;32m    359\u001B[0m         \u001B[0mcls\u001B[0m \u001B[0;34m=\u001B[0m \u001B[0mJSONDecoder\u001B[0m\u001B[0;34m\u001B[0m\u001B[0;34m\u001B[0m\u001B[0m\n",
      "\u001B[0;32m~/anaconda3/envs/gpu_datasci/lib/python3.8/json/decoder.py\u001B[0m in \u001B[0;36mdecode\u001B[0;34m(self, s, _w)\u001B[0m\n\u001B[1;32m    335\u001B[0m \u001B[0;34m\u001B[0m\u001B[0m\n\u001B[1;32m    336\u001B[0m         \"\"\"\n\u001B[0;32m--> 337\u001B[0;31m         \u001B[0mobj\u001B[0m\u001B[0;34m,\u001B[0m \u001B[0mend\u001B[0m \u001B[0;34m=\u001B[0m \u001B[0mself\u001B[0m\u001B[0;34m.\u001B[0m\u001B[0mraw_decode\u001B[0m\u001B[0;34m(\u001B[0m\u001B[0ms\u001B[0m\u001B[0;34m,\u001B[0m \u001B[0midx\u001B[0m\u001B[0;34m=\u001B[0m\u001B[0m_w\u001B[0m\u001B[0;34m(\u001B[0m\u001B[0ms\u001B[0m\u001B[0;34m,\u001B[0m \u001B[0;36m0\u001B[0m\u001B[0;34m)\u001B[0m\u001B[0;34m.\u001B[0m\u001B[0mend\u001B[0m\u001B[0;34m(\u001B[0m\u001B[0;34m)\u001B[0m\u001B[0;34m)\u001B[0m\u001B[0;34m\u001B[0m\u001B[0;34m\u001B[0m\u001B[0m\n\u001B[0m\u001B[1;32m    338\u001B[0m         \u001B[0mend\u001B[0m \u001B[0;34m=\u001B[0m \u001B[0m_w\u001B[0m\u001B[0;34m(\u001B[0m\u001B[0ms\u001B[0m\u001B[0;34m,\u001B[0m \u001B[0mend\u001B[0m\u001B[0;34m)\u001B[0m\u001B[0;34m.\u001B[0m\u001B[0mend\u001B[0m\u001B[0;34m(\u001B[0m\u001B[0;34m)\u001B[0m\u001B[0;34m\u001B[0m\u001B[0;34m\u001B[0m\u001B[0m\n\u001B[1;32m    339\u001B[0m         \u001B[0;32mif\u001B[0m \u001B[0mend\u001B[0m \u001B[0;34m!=\u001B[0m \u001B[0mlen\u001B[0m\u001B[0;34m(\u001B[0m\u001B[0ms\u001B[0m\u001B[0;34m)\u001B[0m\u001B[0;34m:\u001B[0m\u001B[0;34m\u001B[0m\u001B[0;34m\u001B[0m\u001B[0m\n",
      "\u001B[0;32m~/anaconda3/envs/gpu_datasci/lib/python3.8/json/decoder.py\u001B[0m in \u001B[0;36mraw_decode\u001B[0;34m(self, s, idx)\u001B[0m\n\u001B[1;32m    353\u001B[0m             \u001B[0mobj\u001B[0m\u001B[0;34m,\u001B[0m \u001B[0mend\u001B[0m \u001B[0;34m=\u001B[0m \u001B[0mself\u001B[0m\u001B[0;34m.\u001B[0m\u001B[0mscan_once\u001B[0m\u001B[0;34m(\u001B[0m\u001B[0ms\u001B[0m\u001B[0;34m,\u001B[0m \u001B[0midx\u001B[0m\u001B[0;34m)\u001B[0m\u001B[0;34m\u001B[0m\u001B[0;34m\u001B[0m\u001B[0m\n\u001B[1;32m    354\u001B[0m         \u001B[0;32mexcept\u001B[0m \u001B[0mStopIteration\u001B[0m \u001B[0;32mas\u001B[0m \u001B[0merr\u001B[0m\u001B[0;34m:\u001B[0m\u001B[0;34m\u001B[0m\u001B[0;34m\u001B[0m\u001B[0m\n\u001B[0;32m--> 355\u001B[0;31m             \u001B[0;32mraise\u001B[0m \u001B[0mJSONDecodeError\u001B[0m\u001B[0;34m(\u001B[0m\u001B[0;34m\"Expecting value\"\u001B[0m\u001B[0;34m,\u001B[0m \u001B[0ms\u001B[0m\u001B[0;34m,\u001B[0m \u001B[0merr\u001B[0m\u001B[0;34m.\u001B[0m\u001B[0mvalue\u001B[0m\u001B[0;34m)\u001B[0m \u001B[0;32mfrom\u001B[0m \u001B[0;32mNone\u001B[0m\u001B[0;34m\u001B[0m\u001B[0;34m\u001B[0m\u001B[0m\n\u001B[0m\u001B[1;32m    356\u001B[0m         \u001B[0;32mreturn\u001B[0m \u001B[0mobj\u001B[0m\u001B[0;34m,\u001B[0m \u001B[0mend\u001B[0m\u001B[0;34m\u001B[0m\u001B[0;34m\u001B[0m\u001B[0m\n",
      "\u001B[0;31mJSONDecodeError\u001B[0m: Expecting value: line 1 column 1 (char 0)"
     ]
    }
   ],
   "source": [
    "results2020_json  = race_results2020_request.json()"
   ],
   "metadata": {
    "collapsed": false,
    "pycharm": {
     "name": "#%%\n"
    }
   }
  },
  {
   "cell_type": "code",
   "execution_count": 10,
   "outputs": [],
   "source": [
    "venues_request = requests.get(url='http://worldcup.eliotjackson.com/api/venues')\n",
    "venues_html  = venues_request.text"
   ],
   "metadata": {
    "collapsed": false,
    "pycharm": {
     "name": "#%%\n"
    }
   }
  },
  {
   "cell_type": "code",
   "execution_count": 9,
   "outputs": [],
   "source": [
    "api_request = requests.get(url='http://worldcup.eliotjackson.com/api/riders')\n",
    "races_request = requests.get(url='http://worldcup.eliotjackson.com/api/races/')"
   ],
   "metadata": {
    "collapsed": false,
    "pycharm": {
     "name": "#%%\n"
    }
   }
  },
  {
   "cell_type": "code",
   "execution_count": 12,
   "outputs": [],
   "source": [
    "riders_results_request = requests.get(url='http://worldcup.eliotjackson.com/api/riders/results')"
   ],
   "metadata": {
    "collapsed": false,
    "pycharm": {
     "name": "#%%\n"
    }
   }
  },
  {
   "cell_type": "code",
   "execution_count": null,
   "outputs": [],
   "source": [],
   "metadata": {
    "collapsed": false,
    "pycharm": {
     "name": "#%%\n"
    }
   }
  },
  {
   "cell_type": "code",
   "execution_count": 3,
   "outputs": [],
   "source": [
    "maribor2020_results_req = requests.get(url='http://mworldcup.eliotjackson.com/api/races/results?year=2020&venue=Maribor')\n",
    "maribor2020_results_json = maribor2020_results_req.json()\n",
    "\n",
    "\n",
    "pandas_maribor2020 = pd.read_json('http://mworldcup.eliotjackson.com/api/races/results?year=2020&venue=Maribor')"
   ],
   "metadata": {
    "collapsed": false,
    "pycharm": {
     "name": "#%%\n"
    }
   }
  },
  {
   "cell_type": "code",
   "execution_count": 25,
   "outputs": [],
   "source": [
    "wc_stats_api_request = requests.get(url='http://worldcup.eliotjackson.com/api')"
   ],
   "metadata": {
    "collapsed": false,
    "pycharm": {
     "name": "#%%\n"
    }
   }
  },
  {
   "cell_type": "code",
   "execution_count": 28,
   "outputs": [],
   "source": [
    "wc_api_soup = BeautifulSoup(wc_stats_api_request.text, 'html.parser')\n",
    "wc_api_html_pretty = wc_api_soup.prettify()"
   ],
   "metadata": {
    "collapsed": false,
    "pycharm": {
     "name": "#%%\n"
    }
   }
  },
  {
   "cell_type": "code",
   "execution_count": 30,
   "outputs": [],
   "source": [
    "wc_results_main = requests.get(url='http://worldcup.eliotjackson.com/results/')"
   ],
   "metadata": {
    "collapsed": false,
    "pycharm": {
     "name": "#%%\n"
    }
   }
  },
  {
   "cell_type": "code",
   "execution_count": 32,
   "outputs": [],
   "source": [
    "wc_results_soup = BeautifulSoup(wc_results_main.text,'html.parser')\n",
    "restults_t = wc_results_soup.prettify()"
   ],
   "metadata": {
    "collapsed": false,
    "pycharm": {
     "name": "#%%\n"
    }
   }
  },
  {
   "cell_type": "code",
   "execution_count": null,
   "outputs": [],
   "source": [
    "\n"
   ],
   "metadata": {
    "collapsed": false,
    "pycharm": {
     "name": "#%%\n"
    }
   }
  },
  {
   "cell_type": "code",
   "execution_count": null,
   "outputs": [],
   "source": [],
   "metadata": {
    "collapsed": false,
    "pycharm": {
     "name": "#%%\n"
    }
   }
  },
  {
   "cell_type": "code",
   "execution_count": null,
   "outputs": [],
   "source": [
    "\n"
   ],
   "metadata": {
    "collapsed": false,
    "pycharm": {
     "name": "#%%\n"
    }
   }
  }
 ],
 "metadata": {
  "kernelspec": {
   "display_name": "Python 3",
   "language": "python",
   "name": "python3"
  },
  "language_info": {
   "codemirror_mode": {
    "name": "ipython",
    "version": 2
   },
   "file_extension": ".py",
   "mimetype": "text/x-python",
   "name": "python",
   "nbconvert_exporter": "python",
   "pygments_lexer": "ipython2",
   "version": "2.7.6"
  }
 },
 "nbformat": 4,
 "nbformat_minor": 0
}