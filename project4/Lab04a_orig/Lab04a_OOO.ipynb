{
 "cells": [
  {
   "cell_type": "markdown",
   "metadata": {},
   "source": [
    "# Lab 4a: Pandas and Principle Component Analysis"
   ]
  },
  {
   "cell_type": "code",
   "execution_count": 2,
   "metadata": {},
   "outputs": [
    {
     "name": "stdout",
     "output_type": "stream",
     "text": [
      "The autoreload extension is already loaded. To reload it, use:\n",
      "  %reload_ext autoreload\n"
     ]
    }
   ],
   "source": [
    "import os\n",
    "import random\n",
    "import numpy as np\n",
    "import matplotlib.pyplot as plt\n",
    "import pandas as pd\n",
    "#import scipy as sp\n",
    "from mpl_toolkits.mplot3d import Axes3D\n",
    "\n",
    "plt.style.use(['seaborn-colorblind', 'seaborn-darkgrid'])\n",
    "plt.rcParams.update({'font.size': 10})\n",
    "plt.rcParams.update({'figure.figsize': [8,8]})\n",
    "\n",
    "np.set_printoptions(suppress=True, precision=5)\n",
    "\n",
    "# Automatically reload external modules\n",
    "%load_ext autoreload\n",
    "%autoreload 2"
   ]
  },
  {
   "cell_type": "markdown",
   "metadata": {},
   "source": [
    " \n",
    "\n",
    "## Task 1:  Introduction to Pandas\n",
    "\n",
    "We are going to be using Pandas, covariance matrices and principle component analysis to explore a dataset on breast cancer diagnosis data. More information about the dataset can be found [here.](https://archive.ics.uci.edu/ml/datasets/Breast+Cancer+Wisconsin+(Original))\n",
    "1. Import dataset using pandas [read_csv](https://pandas.pydata.org/pandas-docs/stable/reference/api/pandas.read_csv.html) to create a Dataframe from the url:  https://raw.githubusercontent.com/patrickmlong/Breast-Cancer-Wisconsin-Diagnostic-DataSet/master/data.csv \n",
    "2. Using the [Dataframe](https://pandas.pydata.org/pandas-docs/stable/reference/frame.html) documentation:\n",
    "    1. In one method call get the shape and print the results.\n",
    "    2. To get the column headers and print them.\n",
    "    3. In one method call get the first 5 items and print the results.\n",
    "    4. Find the mean of each column\n",
    "3. Create a cancer_x dataframe which includes all of the \"mean\" columns\n",
    "4. Update cancer_x to be normalized from 0-1, by subtracting by the minimum and dividing by the range. \n",
    "5. Create a cancer_y series with from the column `diagnosis` and set it to be [lowercase](https://pandas.pydata.org/pandas-docs/stable/reference/api/pandas.Series.str.capitalize.html)\n"
   ]
  },
  {
   "cell_type": "code",
   "execution_count": 1,
   "metadata": {},
   "outputs": [],
   "source": [
    "url=\"https://raw.githubusercontent.com/patrickmlong/Breast-Cancer-Wisconsin-Diagnostic-DataSet/master/data.csv\"\n"
   ]
  },
  {
   "cell_type": "markdown",
   "metadata": {},
   "source": [
    "## Task 2: Create and Visualize a Covariance Matrix\n",
    "\n",
    "1. Use the [Dataframe](https://pandas.pydata.org/pandas-docs/stable/reference/frame.html) documentation to find out how to compute the pairwise covariance of the columns, store the resulting covariance matrix, and print its shape.\n",
    "2. Use the [matplotlib](https://matplotlib.org/3.1.1/gallery/images_contours_and_fields/image_annotated_heatmap.html) documentation to visualize the covariance matrix with a heatmap.\n",
    "    1. Include a title\n",
    "    2. Include labels for each row and column \n",
    "        1. Set the `xticks`, `yticks`, `xticklabels` and `ytickslabels`\n",
    "        1. rotating the text for the x-axis using `setp`\n",
    "    3. Use an perceptually uniform sequential [colormap](https://matplotlib.org/tutorials/colors/colormaps.html). \n",
    "        1. Set it using the `cmap` parameter for `imshow`\n",
    "    4. Include the `colorbar`.\n",
    "    \n",
    "**Question:** What interpretations can you draw from this covariance matrix?"
   ]
  },
  {
   "cell_type": "code",
   "execution_count": null,
   "metadata": {},
   "outputs": [],
   "source": []
  },
  {
   "cell_type": "markdown",
   "metadata": {},
   "source": [
    "## Task 3: Visualizing Principle Component Analysis\n",
    "\n",
    "### 3a) Principle Component Analysis\n",
    "1. Use [numpy.linalg.eig](https://docs.scipy.org/doc/numpy/reference/generated/numpy.linalg.eig.html) to compute the eigenvalues and right eigenvectors of the covariance matrix.  \n",
    "1. Print the eigen_values and the first 2 eigenvectors.\n",
    "2. Transform the data with the eigen_vectors.\n",
    "    1. Matrix multiply cancer_x with the first two columns of the eigen_vectors. \n",
    "    2. Print the first 5 rows of the transformed data.\n",
    "\n",
    "**Question:**  Which 2 variables are the first eigenvector most dependent on?  How does that relate to the heatmap?"
   ]
  },
  {
   "cell_type": "code",
   "execution_count": 2,
   "metadata": {},
   "outputs": [
    {
     "name": "stdout",
     "output_type": "stream",
     "text": [
      "\n",
      "-----------------------------------\n",
      "Your results should look like this:\n",
      "-----------------------------------\n",
      "Eigen values: \n",
      "[0.15632 0.05609 0.01875 0.01012 0.00688 0.00348 0.00001 0.00027 0.00121 0.00206]\n",
      "First 2 Eigen vectors: \n",
      "[[-0.36654  0.33267]\n",
      " [-0.1315   0.11754]\n",
      " [-0.38051  0.30003]\n",
      " [-0.32796  0.28817]\n",
      " [-0.16268 -0.33468]\n",
      " [-0.34395 -0.32018]\n",
      " [-0.43907 -0.17375]\n",
      " [-0.47861 -0.04037]\n",
      " [-0.16356 -0.34204]\n",
      " [-0.05141 -0.58234]]\n",
      "Transformed data:\n",
      "           0         1\n",
      "0 -1.692053 -0.746755\n",
      "1 -1.105772  0.158411\n",
      "2 -1.479314 -0.159259\n",
      "3 -1.335070 -1.286536\n",
      "4 -1.364975 -0.036868\n",
      "-----------------------------------\n",
      "\n"
     ]
    }
   ],
   "source": [
    "\n",
    "\n",
    "print('''\n",
    "-----------------------------------\n",
    "Your results should look like this:\n",
    "-----------------------------------\n",
    "Eigen values: \n",
    "[0.15632 0.05609 0.01875 0.01012 0.00688 0.00348 0.00001 0.00027 0.00121 0.00206]\n",
    "First 2 Eigen vectors: \n",
    "[[-0.36654  0.33267]\n",
    " [-0.1315   0.11754]\n",
    " [-0.38051  0.30003]\n",
    " [-0.32796  0.28817]\n",
    " [-0.16268 -0.33468]\n",
    " [-0.34395 -0.32018]\n",
    " [-0.43907 -0.17375]\n",
    " [-0.47861 -0.04037]\n",
    " [-0.16356 -0.34204]\n",
    " [-0.05141 -0.58234]]\n",
    "Transformed data:\n",
    "           0         1\n",
    "0 -1.692053 -0.746755\n",
    "1 -1.105772  0.158411\n",
    "2 -1.479314 -0.159259\n",
    "3 -1.335070 -1.286536\n",
    "4 -1.364975 -0.036868\n",
    "-----------------------------------\n",
    "''')"
   ]
  },
  {
   "cell_type": "markdown",
   "metadata": {},
   "source": [
    "### 3b) Graph a scatterplot of the transformed data\n",
    "\n",
    "Graph a scatterplot of the transformed data using [plt.scatter](https://matplotlib.org/3.3.3/api/_as_gen/matplotlib.axes.Axes.scatter.html)\n",
    "1. Scatter Parameters\n",
    "    1. Graph the first principle component on the x axis (first column of the tranformed data)\n",
    "    2. Graph the second principle component on the y axis (second column of the tranformed data)\n",
    "    3. Use the `cancer_y` series for the color with a black edgecolor\n",
    "3. Include a title, and axis labels.\n",
    "4. Add a custom [legend](https://matplotlib.org/3.3.3/tutorials/intermediate/legend_guide.html) using mpatches.\n",
    "    1. Create 1 patch with the color `m` for malignant\n",
    "    1. Create 1 patch with the color `b` for benign"
   ]
  },
  {
   "cell_type": "code",
   "execution_count": 3,
   "metadata": {},
   "outputs": [],
   "source": [
    "import matplotlib.patches as mpatches\n",
    "\n"
   ]
  }
 ],
 "metadata": {
  "kernelspec": {
   "display_name": "Python 3",
   "language": "python",
   "name": "python3"
  },
  "language_info": {
   "codemirror_mode": {
    "name": "ipython",
    "version": 3
   },
   "file_extension": ".py",
   "mimetype": "text/x-python",
   "name": "python",
   "nbconvert_exporter": "python",
   "pygments_lexer": "ipython3",
   "version": "3.9.1"
  }
 },
 "nbformat": 4,
 "nbformat_minor": 4
}
