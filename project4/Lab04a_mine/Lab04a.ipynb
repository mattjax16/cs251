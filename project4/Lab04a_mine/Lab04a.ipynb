{
 "cells": [
  {
   "cell_type": "markdown",
   "metadata": {},
   "source": [
    "# Lab 4a: Pandas and Principle Component Analysis"
   ]
  },
  {
   "cell_type": "code",
   "execution_count": 2,
   "metadata": {},
   "outputs": [],
   "source": [
    "import os\n",
    "import random\n",
    "import numpy as np\n",
    "import matplotlib.pyplot as plt\n",
    "import pandas as pd\n",
    "#import scipy as sp\n",
    "from mpl_toolkits.mplot3d import Axes3D\n",
    "import requests\n",
    "import csv\n",
    "\n",
    "plt.style.use(['seaborn-colorblind', 'seaborn-darkgrid'])\n",
    "plt.rcParams.update({'font.size': 10})\n",
    "plt.rcParams.update({'figure.figsize': [8,8]})\n",
    "\n",
    "np.set_printoptions(suppress=True, precision=5)\n",
    "\n",
    "# Automatically reload external modules\n",
    "%load_ext autoreload\n",
    "%autoreload 2"
   ]
  },
  {
   "cell_type": "markdown",
   "metadata": {},
   "source": [
    " \n",
    "\n",
    "## Task 1:  Introduction to Pandas\n",
    "\n",
    "We are going to be using Pandas, covariance matrices and principle component analysis to explore a dataset on breast cancer diagnosis data. More information about the dataset can be found [here.](https://archive.ics.uci.edu/ml/datasets/Breast+Cancer+Wisconsin+(Original))\n",
    "1. Import dataset using pandas [read_csv](https://pandas.pydata.org/pandas-docs/stable/reference/api/pandas.read_csv.html) to create a Dataframe from the url:  https://raw.githubusercontent.com/patrickmlong/Breast-Cancer-Wisconsin-Diagnostic-DataSet/master/data.csv \n",
    "2. Using the [Dataframe](https://pandas.pydata.org/pandas-docs/stable/reference/frame.html) documentation:\n",
    "    1. In one method call get the shape and print the results.\n",
    "    2. To get the column headers and print them.\n",
    "    3. In one method call get the first 5 items and print the results.\n",
    "    4. Find the mean of each column\n",
    "3. Create a cancer_x dataframe which includes all of the \"mean\" columns\n",
    "4. Update cancer_x to be normalized from 0-1, by subtracting by the minimum and dividing by the range. \n",
    "5. Create a cancer_y series with from the column `diagnosis` and set it to be [lowercase](https://pandas.pydata.org/pandas-docs/stable/reference/api/pandas.Series.str.capitalize.html)\n"
   ]
  },
  {
   "cell_type": "code",
   "execution_count": 3,
   "metadata": {},
   "outputs": [
    {
     "data": {
      "text/plain": "           id diagnosis  radius_mean  texture_mean  perimeter_mean  area_mean  \\\n0      842302         M        17.99         10.38          122.80     1001.0   \n1      842517         M        20.57         17.77          132.90     1326.0   \n2    84300903         M        19.69         21.25          130.00     1203.0   \n3    84348301         M        11.42         20.38           77.58      386.1   \n4    84358402         M        20.29         14.34          135.10     1297.0   \n..        ...       ...          ...           ...             ...        ...   \n564    926424         M        21.56         22.39          142.00     1479.0   \n565    926682         M        20.13         28.25          131.20     1261.0   \n566    926954         M        16.60         28.08          108.30      858.1   \n567    927241         M        20.60         29.33          140.10     1265.0   \n568     92751         B         7.76         24.54           47.92      181.0   \n\n     smoothness_mean  compactness_mean  concavity_mean  concave points_mean  \\\n0            0.11840           0.27760         0.30010              0.14710   \n1            0.08474           0.07864         0.08690              0.07017   \n2            0.10960           0.15990         0.19740              0.12790   \n3            0.14250           0.28390         0.24140              0.10520   \n4            0.10030           0.13280         0.19800              0.10430   \n..               ...               ...             ...                  ...   \n564          0.11100           0.11590         0.24390              0.13890   \n565          0.09780           0.10340         0.14400              0.09791   \n566          0.08455           0.10230         0.09251              0.05302   \n567          0.11780           0.27700         0.35140              0.15200   \n568          0.05263           0.04362         0.00000              0.00000   \n\n     ...  texture_worst  perimeter_worst  area_worst  smoothness_worst  \\\n0    ...          17.33           184.60      2019.0           0.16220   \n1    ...          23.41           158.80      1956.0           0.12380   \n2    ...          25.53           152.50      1709.0           0.14440   \n3    ...          26.50            98.87       567.7           0.20980   \n4    ...          16.67           152.20      1575.0           0.13740   \n..   ...            ...              ...         ...               ...   \n564  ...          26.40           166.10      2027.0           0.14100   \n565  ...          38.25           155.00      1731.0           0.11660   \n566  ...          34.12           126.70      1124.0           0.11390   \n567  ...          39.42           184.60      1821.0           0.16500   \n568  ...          30.37            59.16       268.6           0.08996   \n\n     compactness_worst  concavity_worst  concave points_worst  symmetry_worst  \\\n0              0.66560           0.7119                0.2654          0.4601   \n1              0.18660           0.2416                0.1860          0.2750   \n2              0.42450           0.4504                0.2430          0.3613   \n3              0.86630           0.6869                0.2575          0.6638   \n4              0.20500           0.4000                0.1625          0.2364   \n..                 ...              ...                   ...             ...   \n564            0.21130           0.4107                0.2216          0.2060   \n565            0.19220           0.3215                0.1628          0.2572   \n566            0.30940           0.3403                0.1418          0.2218   \n567            0.86810           0.9387                0.2650          0.4087   \n568            0.06444           0.0000                0.0000          0.2871   \n\n     fractal_dimension_worst  Unnamed: 32  \n0                    0.11890          NaN  \n1                    0.08902          NaN  \n2                    0.08758          NaN  \n3                    0.17300          NaN  \n4                    0.07678          NaN  \n..                       ...          ...  \n564                  0.07115          NaN  \n565                  0.06637          NaN  \n566                  0.07820          NaN  \n567                  0.12400          NaN  \n568                  0.07039          NaN  \n\n[569 rows x 33 columns]",
      "text/html": "<div>\n<style scoped>\n    .dataframe tbody tr th:only-of-type {\n        vertical-align: middle;\n    }\n\n    .dataframe tbody tr th {\n        vertical-align: top;\n    }\n\n    .dataframe thead th {\n        text-align: right;\n    }\n</style>\n<table border=\"1\" class=\"dataframe\">\n  <thead>\n    <tr style=\"text-align: right;\">\n      <th></th>\n      <th>id</th>\n      <th>diagnosis</th>\n      <th>radius_mean</th>\n      <th>texture_mean</th>\n      <th>perimeter_mean</th>\n      <th>area_mean</th>\n      <th>smoothness_mean</th>\n      <th>compactness_mean</th>\n      <th>concavity_mean</th>\n      <th>concave points_mean</th>\n      <th>...</th>\n      <th>texture_worst</th>\n      <th>perimeter_worst</th>\n      <th>area_worst</th>\n      <th>smoothness_worst</th>\n      <th>compactness_worst</th>\n      <th>concavity_worst</th>\n      <th>concave points_worst</th>\n      <th>symmetry_worst</th>\n      <th>fractal_dimension_worst</th>\n      <th>Unnamed: 32</th>\n    </tr>\n  </thead>\n  <tbody>\n    <tr>\n      <th>0</th>\n      <td>842302</td>\n      <td>M</td>\n      <td>17.99</td>\n      <td>10.38</td>\n      <td>122.80</td>\n      <td>1001.0</td>\n      <td>0.11840</td>\n      <td>0.27760</td>\n      <td>0.30010</td>\n      <td>0.14710</td>\n      <td>...</td>\n      <td>17.33</td>\n      <td>184.60</td>\n      <td>2019.0</td>\n      <td>0.16220</td>\n      <td>0.66560</td>\n      <td>0.7119</td>\n      <td>0.2654</td>\n      <td>0.4601</td>\n      <td>0.11890</td>\n      <td>NaN</td>\n    </tr>\n    <tr>\n      <th>1</th>\n      <td>842517</td>\n      <td>M</td>\n      <td>20.57</td>\n      <td>17.77</td>\n      <td>132.90</td>\n      <td>1326.0</td>\n      <td>0.08474</td>\n      <td>0.07864</td>\n      <td>0.08690</td>\n      <td>0.07017</td>\n      <td>...</td>\n      <td>23.41</td>\n      <td>158.80</td>\n      <td>1956.0</td>\n      <td>0.12380</td>\n      <td>0.18660</td>\n      <td>0.2416</td>\n      <td>0.1860</td>\n      <td>0.2750</td>\n      <td>0.08902</td>\n      <td>NaN</td>\n    </tr>\n    <tr>\n      <th>2</th>\n      <td>84300903</td>\n      <td>M</td>\n      <td>19.69</td>\n      <td>21.25</td>\n      <td>130.00</td>\n      <td>1203.0</td>\n      <td>0.10960</td>\n      <td>0.15990</td>\n      <td>0.19740</td>\n      <td>0.12790</td>\n      <td>...</td>\n      <td>25.53</td>\n      <td>152.50</td>\n      <td>1709.0</td>\n      <td>0.14440</td>\n      <td>0.42450</td>\n      <td>0.4504</td>\n      <td>0.2430</td>\n      <td>0.3613</td>\n      <td>0.08758</td>\n      <td>NaN</td>\n    </tr>\n    <tr>\n      <th>3</th>\n      <td>84348301</td>\n      <td>M</td>\n      <td>11.42</td>\n      <td>20.38</td>\n      <td>77.58</td>\n      <td>386.1</td>\n      <td>0.14250</td>\n      <td>0.28390</td>\n      <td>0.24140</td>\n      <td>0.10520</td>\n      <td>...</td>\n      <td>26.50</td>\n      <td>98.87</td>\n      <td>567.7</td>\n      <td>0.20980</td>\n      <td>0.86630</td>\n      <td>0.6869</td>\n      <td>0.2575</td>\n      <td>0.6638</td>\n      <td>0.17300</td>\n      <td>NaN</td>\n    </tr>\n    <tr>\n      <th>4</th>\n      <td>84358402</td>\n      <td>M</td>\n      <td>20.29</td>\n      <td>14.34</td>\n      <td>135.10</td>\n      <td>1297.0</td>\n      <td>0.10030</td>\n      <td>0.13280</td>\n      <td>0.19800</td>\n      <td>0.10430</td>\n      <td>...</td>\n      <td>16.67</td>\n      <td>152.20</td>\n      <td>1575.0</td>\n      <td>0.13740</td>\n      <td>0.20500</td>\n      <td>0.4000</td>\n      <td>0.1625</td>\n      <td>0.2364</td>\n      <td>0.07678</td>\n      <td>NaN</td>\n    </tr>\n    <tr>\n      <th>...</th>\n      <td>...</td>\n      <td>...</td>\n      <td>...</td>\n      <td>...</td>\n      <td>...</td>\n      <td>...</td>\n      <td>...</td>\n      <td>...</td>\n      <td>...</td>\n      <td>...</td>\n      <td>...</td>\n      <td>...</td>\n      <td>...</td>\n      <td>...</td>\n      <td>...</td>\n      <td>...</td>\n      <td>...</td>\n      <td>...</td>\n      <td>...</td>\n      <td>...</td>\n      <td>...</td>\n    </tr>\n    <tr>\n      <th>564</th>\n      <td>926424</td>\n      <td>M</td>\n      <td>21.56</td>\n      <td>22.39</td>\n      <td>142.00</td>\n      <td>1479.0</td>\n      <td>0.11100</td>\n      <td>0.11590</td>\n      <td>0.24390</td>\n      <td>0.13890</td>\n      <td>...</td>\n      <td>26.40</td>\n      <td>166.10</td>\n      <td>2027.0</td>\n      <td>0.14100</td>\n      <td>0.21130</td>\n      <td>0.4107</td>\n      <td>0.2216</td>\n      <td>0.2060</td>\n      <td>0.07115</td>\n      <td>NaN</td>\n    </tr>\n    <tr>\n      <th>565</th>\n      <td>926682</td>\n      <td>M</td>\n      <td>20.13</td>\n      <td>28.25</td>\n      <td>131.20</td>\n      <td>1261.0</td>\n      <td>0.09780</td>\n      <td>0.10340</td>\n      <td>0.14400</td>\n      <td>0.09791</td>\n      <td>...</td>\n      <td>38.25</td>\n      <td>155.00</td>\n      <td>1731.0</td>\n      <td>0.11660</td>\n      <td>0.19220</td>\n      <td>0.3215</td>\n      <td>0.1628</td>\n      <td>0.2572</td>\n      <td>0.06637</td>\n      <td>NaN</td>\n    </tr>\n    <tr>\n      <th>566</th>\n      <td>926954</td>\n      <td>M</td>\n      <td>16.60</td>\n      <td>28.08</td>\n      <td>108.30</td>\n      <td>858.1</td>\n      <td>0.08455</td>\n      <td>0.10230</td>\n      <td>0.09251</td>\n      <td>0.05302</td>\n      <td>...</td>\n      <td>34.12</td>\n      <td>126.70</td>\n      <td>1124.0</td>\n      <td>0.11390</td>\n      <td>0.30940</td>\n      <td>0.3403</td>\n      <td>0.1418</td>\n      <td>0.2218</td>\n      <td>0.07820</td>\n      <td>NaN</td>\n    </tr>\n    <tr>\n      <th>567</th>\n      <td>927241</td>\n      <td>M</td>\n      <td>20.60</td>\n      <td>29.33</td>\n      <td>140.10</td>\n      <td>1265.0</td>\n      <td>0.11780</td>\n      <td>0.27700</td>\n      <td>0.35140</td>\n      <td>0.15200</td>\n      <td>...</td>\n      <td>39.42</td>\n      <td>184.60</td>\n      <td>1821.0</td>\n      <td>0.16500</td>\n      <td>0.86810</td>\n      <td>0.9387</td>\n      <td>0.2650</td>\n      <td>0.4087</td>\n      <td>0.12400</td>\n      <td>NaN</td>\n    </tr>\n    <tr>\n      <th>568</th>\n      <td>92751</td>\n      <td>B</td>\n      <td>7.76</td>\n      <td>24.54</td>\n      <td>47.92</td>\n      <td>181.0</td>\n      <td>0.05263</td>\n      <td>0.04362</td>\n      <td>0.00000</td>\n      <td>0.00000</td>\n      <td>...</td>\n      <td>30.37</td>\n      <td>59.16</td>\n      <td>268.6</td>\n      <td>0.08996</td>\n      <td>0.06444</td>\n      <td>0.0000</td>\n      <td>0.0000</td>\n      <td>0.2871</td>\n      <td>0.07039</td>\n      <td>NaN</td>\n    </tr>\n  </tbody>\n</table>\n<p>569 rows × 33 columns</p>\n</div>"
     },
     "execution_count": 3,
     "metadata": {},
     "output_type": "execute_result"
    }
   ],
   "source": [
    "#1\n",
    "bc_df = pd.read_csv('https://raw.githubusercontent.com/patrickmlong/Breast-Cancer-Wisconsin-Diagnostic-DataSet/master/data.csv ')\n",
    "bc_df"
   ]
  },
  {
   "cell_type": "code",
   "execution_count": 4,
   "metadata": {},
   "outputs": [
    {
     "name": "stdout",
     "output_type": "stream",
     "text": [
      "Shape of the Breast Cancer Data Frame is (569, 33)\n"
     ]
    }
   ],
   "source": [
    "#2 a. \n",
    "print(f'Shape of the Breast Cancer Data Frame is {bc_df.shape}')"
   ]
  },
  {
   "cell_type": "code",
   "execution_count": 5,
   "metadata": {},
   "outputs": [
    {
     "name": "stdout",
     "output_type": "stream",
     "text": [
      "1.43 µs ± 68 ns per loop (mean ± std. dev. of 7 runs, 1000000 loops each)\n",
      "390 ns ± 10.9 ns per loop (mean ± std. dev. of 7 runs, 1000000 loops each)\n"
     ]
    }
   ],
   "source": [
    "#2 b. \n",
    "\n",
    "# Before I print the columuns was just testing to see which way of callling its \"values\"\n",
    "# was quicker\n",
    "%timeit bc_df.columns.to_numpy()\n",
    "\n",
    "%timeit bc_df.columns.values"
   ]
  },
  {
   "cell_type": "code",
   "execution_count": 6,
   "outputs": [
    {
     "name": "stdout",
     "output_type": "stream",
     "text": [
      "Headers of the Breast Cancer Data Frame are:\n",
      "\n",
      "id , diagnosis , radius_mean , texture_mean , perimeter_mean , area_mean , smoothness_mean , compactness_mean , concavity_mean , concave points_mean , symmetry_mean , fractal_dimension_mean , radius_se , texture_se , perimeter_se , area_se , smoothness_se , compactness_se , concavity_se , concave points_se , symmetry_se , fractal_dimension_se , radius_worst , texture_worst , perimeter_worst , area_worst , smoothness_worst , compactness_worst , concavity_worst , concave points_worst , symmetry_worst , fractal_dimension_worst , Unnamed: 32\n"
     ]
    }
   ],
   "source": [
    "# From the test I can see that .values is faster\n",
    "# (pandas documentation recomends to_numpy for more consitincy to transforming\n",
    "# to a numpy array)\n",
    "\n",
    "# So for this case I chose to use .values since it is quicker\n",
    "\n",
    "print(f'Headers of the Breast Cancer Data Frame are:\\n')\n",
    "print(f\" , \".join(f\"{header}\" for header in bc_df.columns.values))"
   ],
   "metadata": {
    "collapsed": false,
    "pycharm": {
     "name": "#%%\n"
    }
   }
  },
  {
   "cell_type": "code",
   "execution_count": 7,
   "metadata": {},
   "outputs": [
    {
     "name": "stdout",
     "output_type": "stream",
     "text": [
      "The first 5 items from bc_df.items() (really first 5 vals\n",
      "of the first 5 series) are:\n",
      " [('id', [842302, 842517, 84300903, 84348301]), ('diagnosis', ['M', 'M', 'M', 'M']), ('radius_mean', [17.99, 20.57, 19.69, 11.42]), ('texture_mean', [10.38, 17.77, 21.25, 20.38]), ('perimeter_mean', [122.8, 132.9, 130.0, 77.58])]\n"
     ]
    }
   ],
   "source": [
    "#2 c. \n",
    "# confused about wording (In one method call get the first 5 items and print the results.)\n",
    "# which items the first 5 items of the bc_df.items()?\n",
    "# print(bc_df.items)\n",
    "\n",
    "first5_items = []\n",
    "for item_num, item in enumerate(bc_df.items()):\n",
    "    if item_num > 4:\n",
    "        break\n",
    "    first5_items.append(item)\n",
    "    \n",
    "print(f'The first 5 items from bc_df.items() (really first 5 vals\\n'+\n",
    "     f'of the first 5 series) are:\\n {[(item[0], list(item[1].to_numpy()[:4]))for item in first5_items]}')"
   ]
  },
  {
   "cell_type": "code",
   "execution_count": 8,
   "outputs": [
    {
     "name": "stdout",
     "output_type": "stream",
     "text": [
      "The Means for each Column are:\n",
      "\n",
      "id                         3.037183e+07\n",
      "radius_mean                1.412729e+01\n",
      "texture_mean               1.928965e+01\n",
      "perimeter_mean             9.196903e+01\n",
      "area_mean                  6.548891e+02\n",
      "smoothness_mean            9.636028e-02\n",
      "compactness_mean           1.043410e-01\n",
      "concavity_mean             8.879932e-02\n",
      "concave points_mean        4.891915e-02\n",
      "symmetry_mean              1.811619e-01\n",
      "fractal_dimension_mean     6.279761e-02\n",
      "radius_se                  4.051721e-01\n",
      "texture_se                 1.216853e+00\n",
      "perimeter_se               2.866059e+00\n",
      "area_se                    4.033708e+01\n",
      "smoothness_se              7.040979e-03\n",
      "compactness_se             2.547814e-02\n",
      "concavity_se               3.189372e-02\n",
      "concave points_se          1.179614e-02\n",
      "symmetry_se                2.054230e-02\n",
      "fractal_dimension_se       3.794904e-03\n",
      "radius_worst               1.626919e+01\n",
      "texture_worst              2.567722e+01\n",
      "perimeter_worst            1.072612e+02\n",
      "area_worst                 8.805831e+02\n",
      "smoothness_worst           1.323686e-01\n",
      "compactness_worst          2.542650e-01\n",
      "concavity_worst            2.721885e-01\n",
      "concave points_worst       1.146062e-01\n",
      "symmetry_worst             2.900756e-01\n",
      "fractal_dimension_worst    8.394582e-02\n",
      "Unnamed: 32                         NaN\n",
      "dtype: float64\n"
     ]
    }
   ],
   "source": [
    "# 2 d.\n",
    "print(f'The Means for each Column are:\\n\\n{bc_df.mean()}')"
   ],
   "metadata": {
    "collapsed": false,
    "pycharm": {
     "name": "#%%\n"
    }
   }
  },
  {
   "cell_type": "markdown",
   "source": [
    "3. Create a cancer_x dataframe which includes all of the \"mean\" columns\n",
    "\n",
    "\n",
    "\n",
    "I figured out a few ways to do this again so testing the speed"
   ],
   "metadata": {
    "collapsed": false,
    "pycharm": {
     "name": "#%% md\n"
    }
   }
  },
  {
   "cell_type": "code",
   "execution_count": 9,
   "outputs": [
    {
     "name": "stdout",
     "output_type": "stream",
     "text": [
      "356 µs ± 8.15 µs per loop (mean ± std. dev. of 7 runs, 1000 loops each)\n"
     ]
    }
   ],
   "source": [
    "%timeit cancer_x = bc_df.filter(like='mean')"
   ],
   "metadata": {
    "collapsed": false,
    "pycharm": {
     "name": "#%%\n"
    }
   }
  },
  {
   "cell_type": "code",
   "execution_count": 10,
   "outputs": [
    {
     "name": "stdout",
     "output_type": "stream",
     "text": [
      "372 µs ± 5.69 µs per loop (mean ± std. dev. of 7 runs, 1000 loops each)\n"
     ]
    }
   ],
   "source": [
    "%timeit cancer_x = bc_df.loc[:,list(bc_df.columns.str.contains('mean'))]"
   ],
   "metadata": {
    "collapsed": false,
    "pycharm": {
     "name": "#%%\n"
    }
   }
  },
  {
   "cell_type": "markdown",
   "source": [
    "There does not appear to be a large time advantage with either so I am going to go with loc method"
   ],
   "metadata": {
    "collapsed": false,
    "pycharm": {
     "name": "#%% md\n"
    }
   }
  },
  {
   "cell_type": "code",
   "execution_count": 11,
   "outputs": [],
   "source": [
    "cancer_x = bc_df.loc[:,list(bc_df.columns.str.contains('mean'))]"
   ],
   "metadata": {
    "collapsed": false,
    "pycharm": {
     "name": "#%%\n"
    }
   }
  },
  {
   "cell_type": "markdown",
   "source": [
    "4. Update cancer_x to be normalized from 0-1, by subtracting by the minimum and dividing by the range.\n",
    "\n",
    "\n",
    "\n",
    "To start I found a multitude of ways to calculate the range of each column, so I wanted to see which way as faster."
   ],
   "metadata": {
    "collapsed": false
   }
  },
  {
   "cell_type": "code",
   "execution_count": 12,
   "outputs": [
    {
     "name": "stdout",
     "output_type": "stream",
     "text": [
      "880 µs ± 79.1 µs per loop (mean ± std. dev. of 7 runs, 1000 loops each)\n",
      "1.37 ms ± 39.4 µs per loop (mean ± std. dev. of 7 runs, 1000 loops each)\n",
      "1.65 ms ± 55.9 µs per loop (mean ± std. dev. of 7 runs, 1000 loops each)\n"
     ]
    }
   ],
   "source": [
    "%timeit cancer_x.max()-cancer_x.min()\n",
    "\n",
    "%timeit cancer_x.apply(np.ptp)\n",
    "\n",
    "%timeit cancer_x.apply(lambda x: x.max() - x.min())"
   ],
   "metadata": {
    "collapsed": false,
    "pycharm": {
     "name": "#%%\n"
    }
   }
  },
  {
   "cell_type": "markdown",
   "source": [
    "I observed that the best way here (ie the quickest) is the simplest using pandas dataframe methods"
   ],
   "metadata": {
    "collapsed": false,
    "pycharm": {
     "name": "#%% md\n"
    }
   }
  },
  {
   "cell_type": "code",
   "execution_count": 13,
   "outputs": [
    {
     "data": {
      "text/plain": "     radius_mean  texture_mean  perimeter_mean  area_mean  smoothness_mean  \\\n0       0.521037      0.022658        0.545989   0.363733         0.593753   \n1       0.643144      0.272574        0.615783   0.501591         0.289880   \n2       0.601496      0.390260        0.595743   0.449417         0.514309   \n3       0.210090      0.360839        0.233501   0.102906         0.811321   \n4       0.629893      0.156578        0.630986   0.489290         0.430351   \n..           ...           ...             ...        ...              ...   \n564     0.690000      0.428813        0.678668   0.566490         0.526948   \n565     0.622320      0.626987        0.604036   0.474019         0.407782   \n566     0.455251      0.621238        0.445788   0.303118         0.288165   \n567     0.644564      0.663510        0.665538   0.475716         0.588336   \n568     0.036869      0.501522        0.028540   0.015907         0.000000   \n\n     compactness_mean  concavity_mean  concave points_mean  symmetry_mean  \\\n0            0.792037        0.703140             0.731113       0.686364   \n1            0.181768        0.203608             0.348757       0.379798   \n2            0.431017        0.462512             0.635686       0.509596   \n3            0.811361        0.565604             0.522863       0.776263   \n4            0.347893        0.463918             0.518390       0.378283   \n..                ...             ...                  ...            ...   \n564          0.296055        0.571462             0.690358       0.336364   \n565          0.257714        0.337395             0.486630       0.349495   \n566          0.254340        0.216753             0.263519       0.267677   \n567          0.790197        0.823336             0.755467       0.675253   \n568          0.074351        0.000000             0.000000       0.266162   \n\n     fractal_dimension_mean  \n0                  0.605518  \n1                  0.141323  \n2                  0.211247  \n3                  1.000000  \n4                  0.186816  \n..                      ...  \n564                0.132056  \n565                0.113100  \n566                0.137321  \n567                0.425442  \n568                0.187026  \n\n[569 rows x 10 columns]",
      "text/html": "<div>\n<style scoped>\n    .dataframe tbody tr th:only-of-type {\n        vertical-align: middle;\n    }\n\n    .dataframe tbody tr th {\n        vertical-align: top;\n    }\n\n    .dataframe thead th {\n        text-align: right;\n    }\n</style>\n<table border=\"1\" class=\"dataframe\">\n  <thead>\n    <tr style=\"text-align: right;\">\n      <th></th>\n      <th>radius_mean</th>\n      <th>texture_mean</th>\n      <th>perimeter_mean</th>\n      <th>area_mean</th>\n      <th>smoothness_mean</th>\n      <th>compactness_mean</th>\n      <th>concavity_mean</th>\n      <th>concave points_mean</th>\n      <th>symmetry_mean</th>\n      <th>fractal_dimension_mean</th>\n    </tr>\n  </thead>\n  <tbody>\n    <tr>\n      <th>0</th>\n      <td>0.521037</td>\n      <td>0.022658</td>\n      <td>0.545989</td>\n      <td>0.363733</td>\n      <td>0.593753</td>\n      <td>0.792037</td>\n      <td>0.703140</td>\n      <td>0.731113</td>\n      <td>0.686364</td>\n      <td>0.605518</td>\n    </tr>\n    <tr>\n      <th>1</th>\n      <td>0.643144</td>\n      <td>0.272574</td>\n      <td>0.615783</td>\n      <td>0.501591</td>\n      <td>0.289880</td>\n      <td>0.181768</td>\n      <td>0.203608</td>\n      <td>0.348757</td>\n      <td>0.379798</td>\n      <td>0.141323</td>\n    </tr>\n    <tr>\n      <th>2</th>\n      <td>0.601496</td>\n      <td>0.390260</td>\n      <td>0.595743</td>\n      <td>0.449417</td>\n      <td>0.514309</td>\n      <td>0.431017</td>\n      <td>0.462512</td>\n      <td>0.635686</td>\n      <td>0.509596</td>\n      <td>0.211247</td>\n    </tr>\n    <tr>\n      <th>3</th>\n      <td>0.210090</td>\n      <td>0.360839</td>\n      <td>0.233501</td>\n      <td>0.102906</td>\n      <td>0.811321</td>\n      <td>0.811361</td>\n      <td>0.565604</td>\n      <td>0.522863</td>\n      <td>0.776263</td>\n      <td>1.000000</td>\n    </tr>\n    <tr>\n      <th>4</th>\n      <td>0.629893</td>\n      <td>0.156578</td>\n      <td>0.630986</td>\n      <td>0.489290</td>\n      <td>0.430351</td>\n      <td>0.347893</td>\n      <td>0.463918</td>\n      <td>0.518390</td>\n      <td>0.378283</td>\n      <td>0.186816</td>\n    </tr>\n    <tr>\n      <th>...</th>\n      <td>...</td>\n      <td>...</td>\n      <td>...</td>\n      <td>...</td>\n      <td>...</td>\n      <td>...</td>\n      <td>...</td>\n      <td>...</td>\n      <td>...</td>\n      <td>...</td>\n    </tr>\n    <tr>\n      <th>564</th>\n      <td>0.690000</td>\n      <td>0.428813</td>\n      <td>0.678668</td>\n      <td>0.566490</td>\n      <td>0.526948</td>\n      <td>0.296055</td>\n      <td>0.571462</td>\n      <td>0.690358</td>\n      <td>0.336364</td>\n      <td>0.132056</td>\n    </tr>\n    <tr>\n      <th>565</th>\n      <td>0.622320</td>\n      <td>0.626987</td>\n      <td>0.604036</td>\n      <td>0.474019</td>\n      <td>0.407782</td>\n      <td>0.257714</td>\n      <td>0.337395</td>\n      <td>0.486630</td>\n      <td>0.349495</td>\n      <td>0.113100</td>\n    </tr>\n    <tr>\n      <th>566</th>\n      <td>0.455251</td>\n      <td>0.621238</td>\n      <td>0.445788</td>\n      <td>0.303118</td>\n      <td>0.288165</td>\n      <td>0.254340</td>\n      <td>0.216753</td>\n      <td>0.263519</td>\n      <td>0.267677</td>\n      <td>0.137321</td>\n    </tr>\n    <tr>\n      <th>567</th>\n      <td>0.644564</td>\n      <td>0.663510</td>\n      <td>0.665538</td>\n      <td>0.475716</td>\n      <td>0.588336</td>\n      <td>0.790197</td>\n      <td>0.823336</td>\n      <td>0.755467</td>\n      <td>0.675253</td>\n      <td>0.425442</td>\n    </tr>\n    <tr>\n      <th>568</th>\n      <td>0.036869</td>\n      <td>0.501522</td>\n      <td>0.028540</td>\n      <td>0.015907</td>\n      <td>0.000000</td>\n      <td>0.074351</td>\n      <td>0.000000</td>\n      <td>0.000000</td>\n      <td>0.266162</td>\n      <td>0.187026</td>\n    </tr>\n  </tbody>\n</table>\n<p>569 rows × 10 columns</p>\n</div>"
     },
     "execution_count": 13,
     "metadata": {},
     "output_type": "execute_result"
    }
   ],
   "source": [
    "cancer_x = cancer_x.apply((lambda x: (x - x.min())/(x.max()-x.min())))\n",
    "cancer_x"
   ],
   "metadata": {
    "collapsed": false,
    "pycharm": {
     "name": "#%%\n"
    }
   }
  },
  {
   "cell_type": "markdown",
   "source": [
    "5. Create a cancer_y series with from the column `diagnosis` and set it to be [lowercase](https://pandas.pydata.org/pandas-docs/stable/reference/api/pandas.Series.str.capitalize.html)"
   ],
   "metadata": {
    "collapsed": false
   }
  },
  {
   "cell_type": "code",
   "execution_count": 14,
   "outputs": [
    {
     "data": {
      "text/plain": "    diagnosis\n0           m\n1           m\n2           m\n3           m\n4           m\n..        ...\n564         m\n565         m\n566         m\n567         m\n568         b\n\n[569 rows x 1 columns]",
      "text/html": "<div>\n<style scoped>\n    .dataframe tbody tr th:only-of-type {\n        vertical-align: middle;\n    }\n\n    .dataframe tbody tr th {\n        vertical-align: top;\n    }\n\n    .dataframe thead th {\n        text-align: right;\n    }\n</style>\n<table border=\"1\" class=\"dataframe\">\n  <thead>\n    <tr style=\"text-align: right;\">\n      <th></th>\n      <th>diagnosis</th>\n    </tr>\n  </thead>\n  <tbody>\n    <tr>\n      <th>0</th>\n      <td>m</td>\n    </tr>\n    <tr>\n      <th>1</th>\n      <td>m</td>\n    </tr>\n    <tr>\n      <th>2</th>\n      <td>m</td>\n    </tr>\n    <tr>\n      <th>3</th>\n      <td>m</td>\n    </tr>\n    <tr>\n      <th>4</th>\n      <td>m</td>\n    </tr>\n    <tr>\n      <th>...</th>\n      <td>...</td>\n    </tr>\n    <tr>\n      <th>564</th>\n      <td>m</td>\n    </tr>\n    <tr>\n      <th>565</th>\n      <td>m</td>\n    </tr>\n    <tr>\n      <th>566</th>\n      <td>m</td>\n    </tr>\n    <tr>\n      <th>567</th>\n      <td>m</td>\n    </tr>\n    <tr>\n      <th>568</th>\n      <td>b</td>\n    </tr>\n  </tbody>\n</table>\n<p>569 rows × 1 columns</p>\n</div>"
     },
     "execution_count": 14,
     "metadata": {},
     "output_type": "execute_result"
    }
   ],
   "source": [
    "cancer_y = bc_df['diagnosis'].str.lower()\n",
    "cancer_y.to_frame()"
   ],
   "metadata": {
    "collapsed": false,
    "pycharm": {
     "name": "#%%\n"
    }
   }
  },
  {
   "cell_type": "code",
   "execution_count": 15,
   "outputs": [
    {
     "data": {
      "text/plain": "b    357\nm    212\nName: diagnosis, dtype: int64"
     },
     "execution_count": 15,
     "metadata": {},
     "output_type": "execute_result"
    }
   ],
   "source": [
    "cancer_y.value_counts()"
   ],
   "metadata": {
    "collapsed": false,
    "pycharm": {
     "name": "#%%\n"
    }
   }
  },
  {
   "cell_type": "markdown",
   "metadata": {},
   "source": [
    "\n",
    "## Task 2: Create and Visualize a Covariance Matrix\n",
    "\n",
    "1. Use the [Dataframe](https://pandas.pydata.org/pandas-docs/stable/reference/frame.html) documentation to find out how to compute the pairwise covariance of the columns, store the resulting covariance matrix, and print its shape."
   ]
  },
  {
   "cell_type": "code",
   "execution_count": 16,
   "outputs": [
    {
     "name": "stdout",
     "output_type": "stream",
     "text": [
      "The shape of the covariance matrix is (10, 10)\n"
     ]
    }
   ],
   "source": [
    "cov_matrix = cancer_x.cov()\n",
    "print(f'The shape of the covariance matrix is {cov_matrix.shape}')"
   ],
   "metadata": {
    "collapsed": false,
    "pycharm": {
     "name": "#%%\n"
    }
   }
  },
  {
   "cell_type": "markdown",
   "source": [
    "2. Use the [matplotlib](https://matplotlib.org/3.1.1/gallery/images_contours_and_fields/image_annotated_heatmap.html) documentation to visualize the covariance matrix with a heatmap.\n",
    "    1. Include a title\n",
    "    2. Include labels for each row and column \n",
    "        1. Set the `xticks`, `yticks`, `xticklabels` and `ytickslabels`\n",
    "        1. rotating the text for the x-axis using `setp`\n",
    "    3. Use an perceptually uniform sequential [colormap](https://matplotlib.org/tutorials/colors/colormaps.html). \n",
    "        1. Set it using the `cmap` parameter for `imshow`\n",
    "    4. Include the `colorbar`."
   ],
   "metadata": {
    "collapsed": false
   }
  },
  {
   "cell_type": "code",
   "execution_count": 17,
   "outputs": [
    {
     "data": {
      "text/plain": "<Figure size 576x576 with 2 Axes>",
      "image/png": "[encoded data removed]"
     },
     "metadata": {},
     "output_type": "display_data"
    }
   ],
   "source": [
    "# , title = 'Breast Cancer Covariance Heatmap')\n",
    "fig, ax = plt.subplots()\n",
    "cov_heatmap = ax.imshow(cov_matrix, cmap = 'plasma' )\n",
    "\n",
    "# We want to show all ticks...\n",
    "ax.set_xticks(np.arange(len(cov_matrix.columns.values)))\n",
    "ax.set_yticks(np.arange(len(cov_matrix.columns.values)))\n",
    "# ... and label them with the respective list entries\n",
    "ax.set_xticklabels(cov_matrix.columns.values)\n",
    "ax.set_yticklabels(cov_matrix.columns.values)\n",
    "\n",
    "# Rotate the tick labels and set their alignment.\n",
    "plt.setp(ax.get_xticklabels(), rotation=45, ha=\"right\",\n",
    "         rotation_mode=\"anchor\")\n",
    "\n",
    "# Loop over data dimensions and create text annotations.\n",
    "# for i in range(len(cov_matrix.columns.values)):\n",
    "#     for j in range(len(cov_matrix.columns.values)):\n",
    "#         text = ax.text(j, i, f'{cov_matrix.values[i, j] : .3f}',\n",
    "#                        ha=\"center\", va=\"center\", color=\"w\")\n",
    "\n",
    "# Create colorbar\n",
    "cbar = ax.figure.colorbar(cov_heatmap, ax=ax)\n",
    "cbar.ax.set_ylabel('Covariance', rotation=-90, va=\"bottom\")\n",
    "\n",
    "# Turn spines off and create white grid.\n",
    "# ax.spines.set_visible(False)\n",
    "for spine in ax.spines.values():\n",
    "    spine.set_visible(False)\n",
    "\n",
    "ax.set_title(\"Breast Cancer Mean Data Covariance\")\n",
    "fig.tight_layout()\n",
    "plt.show()"
   ],
   "metadata": {
    "collapsed": false,
    "pycharm": {
     "name": "#%%\n"
    }
   }
  },
  {
   "cell_type": "code",
   "execution_count": 18,
   "outputs": [
    {
     "data": {
      "text/plain": "(10, 10)"
     },
     "execution_count": 18,
     "metadata": {},
     "output_type": "execute_result"
    }
   ],
   "source": [
    "cov_matrix.shape\n"
   ],
   "metadata": {
    "collapsed": false,
    "pycharm": {
     "name": "#%%\n"
    }
   }
  },
  {
   "cell_type": "markdown",
   "source": [
    "Also, when reading about the data set I found this code to make a correlation matrix heatmap which is very clever.\n",
    "It uses only the libraries we do for the most part. (This is changed a covariance matrix)\n",
    "\n",
    "Credit to: [Kaggle Bot](https://www.kaggle.com/vishal1809/starter-breast-cancer-wisconsin-0d02a698-b)"
   ],
   "metadata": {
    "collapsed": false
   }
  },
  {
   "cell_type": "code",
   "execution_count": 19,
   "outputs": [],
   "source": [
    "# Correlation matrix\n",
    "def plotCoverianceMatrix(df, graphWidth = 10,title = 'Covariance Matrix', cmap = 'viridis'):\n",
    "    df = df.dropna('columns') # drop columns with NaN\n",
    "    df = df[[col for col in df if df[col].nunique() > 1]] # keep columns where there are more than 1 unique values\n",
    "    if df.shape[1] < 2:\n",
    "        print(f'No correlation plots shown: The number of non-NaN or constant columns ({df.shape[1]}) is less than 2')\n",
    "        return\n",
    "    cov = df.cov()\n",
    "    covMat = plt.matshow(cov, fignum = 1, cmap = cmap)\n",
    "    plt.xticks(range(len(cov.columns)), cov.columns, rotation=90)\n",
    "    plt.yticks(range(len(cov.columns)), cov.columns)\n",
    "    plt.gca().xaxis.tick_bottom()\n",
    "    plt.colorbar(covMat)\n",
    "    plt.title(title, fontsize=15)\n",
    "    plt.show()\n",
    "    return cov\n",
    "\n",
    "\n"
   ],
   "metadata": {
    "collapsed": false,
    "pycharm": {
     "name": "#%%\n"
    }
   }
  },
  {
   "cell_type": "code",
   "execution_count": 20,
   "outputs": [
    {
     "data": {
      "text/plain": "<Figure size 576x576 with 2 Axes>",
      "image/png": "[encoded data removed]"
     },
     "metadata": {},
     "output_type": "display_data"
    },
    {
     "data": {
      "text/plain": "                        radius_mean  texture_mean  perimeter_mean  area_mean  \\\nradius_mean                0.027818      0.007855        0.027946   0.024582   \ntexture_mean               0.007855      0.021156        0.008048   0.006972   \nperimeter_mean             0.027946      0.008048        0.028195   0.024727   \narea_mean                  0.024582      0.006972        0.024727   0.022283   \nsmoothness_mean            0.003612     -0.000432        0.004419   0.003355   \ncompactness_mean           0.013675      0.005577        0.015149   0.012054   \nconcavity_mean             0.021083      0.008216        0.022461   0.019127   \nconcave points_mean        0.026458      0.008232        0.027558   0.023701   \nsymmetry_mean              0.003412      0.001438        0.004255   0.003127   \nfractal_dimension_mean    -0.007729     -0.001653       -0.006529  -0.006284   \n\n                        smoothness_mean  compactness_mean  concavity_mean  \\\nradius_mean                    0.003612          0.013675        0.021083   \ntexture_mean                  -0.000432          0.005577        0.008216   \nperimeter_mean                 0.004419          0.015149        0.022461   \narea_mean                      0.003355          0.012054        0.019127   \nsmoothness_mean                0.016121          0.013557        0.012379   \ncompactness_mean               0.013557          0.026242        0.026721   \nconcavity_mean                 0.012379          0.026721        0.034889   \nconcave points_mean            0.013558          0.025966        0.033191   \nsymmetry_mean                  0.009805          0.013517        0.012948   \nfractal_dimension_mean         0.011041          0.013619        0.009354   \n\n                        concave points_mean  symmetry_mean  \\\nradius_mean                        0.026458       0.003412   \ntexture_mean                       0.008232       0.001438   \nperimeter_mean                     0.027558       0.004255   \narea_mean                          0.023701       0.003127   \nsmoothness_mean                    0.013558       0.009805   \ncompactness_mean                   0.025966       0.013517   \nconcavity_mean                     0.033191       0.012948   \nconcave points_mean                0.037194       0.012350   \nsymmetry_mean                      0.012350       0.019170   \nfractal_dimension_mean             0.004787       0.009881   \n\n                        fractal_dimension_mean  \nradius_mean                          -0.007729  \ntexture_mean                         -0.001653  \nperimeter_mean                       -0.006529  \narea_mean                            -0.006284  \nsmoothness_mean                       0.011041  \ncompactness_mean                      0.013619  \nconcavity_mean                        0.009354  \nconcave points_mean                   0.004787  \nsymmetry_mean                         0.009881  \nfractal_dimension_mean                0.022112  ",
      "text/html": "<div>\n<style scoped>\n    .dataframe tbody tr th:only-of-type {\n        vertical-align: middle;\n    }\n\n    .dataframe tbody tr th {\n        vertical-align: top;\n    }\n\n    .dataframe thead th {\n        text-align: right;\n    }\n</style>\n<table border=\"1\" class=\"dataframe\">\n  <thead>\n    <tr style=\"text-align: right;\">\n      <th></th>\n      <th>radius_mean</th>\n      <th>texture_mean</th>\n      <th>perimeter_mean</th>\n      <th>area_mean</th>\n      <th>smoothness_mean</th>\n      <th>compactness_mean</th>\n      <th>concavity_mean</th>\n      <th>concave points_mean</th>\n      <th>symmetry_mean</th>\n      <th>fractal_dimension_mean</th>\n    </tr>\n  </thead>\n  <tbody>\n    <tr>\n      <th>radius_mean</th>\n      <td>0.027818</td>\n      <td>0.007855</td>\n      <td>0.027946</td>\n      <td>0.024582</td>\n      <td>0.003612</td>\n      <td>0.013675</td>\n      <td>0.021083</td>\n      <td>0.026458</td>\n      <td>0.003412</td>\n      <td>-0.007729</td>\n    </tr>\n    <tr>\n      <th>texture_mean</th>\n      <td>0.007855</td>\n      <td>0.021156</td>\n      <td>0.008048</td>\n      <td>0.006972</td>\n      <td>-0.000432</td>\n      <td>0.005577</td>\n      <td>0.008216</td>\n      <td>0.008232</td>\n      <td>0.001438</td>\n      <td>-0.001653</td>\n    </tr>\n    <tr>\n      <th>perimeter_mean</th>\n      <td>0.027946</td>\n      <td>0.008048</td>\n      <td>0.028195</td>\n      <td>0.024727</td>\n      <td>0.004419</td>\n      <td>0.015149</td>\n      <td>0.022461</td>\n      <td>0.027558</td>\n      <td>0.004255</td>\n      <td>-0.006529</td>\n    </tr>\n    <tr>\n      <th>area_mean</th>\n      <td>0.024582</td>\n      <td>0.006972</td>\n      <td>0.024727</td>\n      <td>0.022283</td>\n      <td>0.003355</td>\n      <td>0.012054</td>\n      <td>0.019127</td>\n      <td>0.023701</td>\n      <td>0.003127</td>\n      <td>-0.006284</td>\n    </tr>\n    <tr>\n      <th>smoothness_mean</th>\n      <td>0.003612</td>\n      <td>-0.000432</td>\n      <td>0.004419</td>\n      <td>0.003355</td>\n      <td>0.016121</td>\n      <td>0.013557</td>\n      <td>0.012379</td>\n      <td>0.013558</td>\n      <td>0.009805</td>\n      <td>0.011041</td>\n    </tr>\n    <tr>\n      <th>compactness_mean</th>\n      <td>0.013675</td>\n      <td>0.005577</td>\n      <td>0.015149</td>\n      <td>0.012054</td>\n      <td>0.013557</td>\n      <td>0.026242</td>\n      <td>0.026721</td>\n      <td>0.025966</td>\n      <td>0.013517</td>\n      <td>0.013619</td>\n    </tr>\n    <tr>\n      <th>concavity_mean</th>\n      <td>0.021083</td>\n      <td>0.008216</td>\n      <td>0.022461</td>\n      <td>0.019127</td>\n      <td>0.012379</td>\n      <td>0.026721</td>\n      <td>0.034889</td>\n      <td>0.033191</td>\n      <td>0.012948</td>\n      <td>0.009354</td>\n    </tr>\n    <tr>\n      <th>concave points_mean</th>\n      <td>0.026458</td>\n      <td>0.008232</td>\n      <td>0.027558</td>\n      <td>0.023701</td>\n      <td>0.013558</td>\n      <td>0.025966</td>\n      <td>0.033191</td>\n      <td>0.037194</td>\n      <td>0.012350</td>\n      <td>0.004787</td>\n    </tr>\n    <tr>\n      <th>symmetry_mean</th>\n      <td>0.003412</td>\n      <td>0.001438</td>\n      <td>0.004255</td>\n      <td>0.003127</td>\n      <td>0.009805</td>\n      <td>0.013517</td>\n      <td>0.012948</td>\n      <td>0.012350</td>\n      <td>0.019170</td>\n      <td>0.009881</td>\n    </tr>\n    <tr>\n      <th>fractal_dimension_mean</th>\n      <td>-0.007729</td>\n      <td>-0.001653</td>\n      <td>-0.006529</td>\n      <td>-0.006284</td>\n      <td>0.011041</td>\n      <td>0.013619</td>\n      <td>0.009354</td>\n      <td>0.004787</td>\n      <td>0.009881</td>\n      <td>0.022112</td>\n    </tr>\n  </tbody>\n</table>\n</div>"
     },
     "execution_count": 20,
     "metadata": {},
     "output_type": "execute_result"
    }
   ],
   "source": [
    "plotCoverianceMatrix(cancer_x, 'Breast Cancer Mean Covariance Matrix')"
   ],
   "metadata": {
    "collapsed": false,
    "pycharm": {
     "name": "#%%\n"
    }
   }
  },
  {
   "cell_type": "markdown",
   "source": [
    "**Question:** What interpretations can you draw from this covariance matrix?"
   ],
   "metadata": {
    "collapsed": false,
    "pycharm": {
     "name": "#%% md\n"
    }
   }
  },
  {
   "cell_type": "code",
   "execution_count": 20,
   "metadata": {},
   "outputs": [],
   "source": []
  },
  {
   "cell_type": "markdown",
   "metadata": {},
   "source": [
    "## Task 3: Visualizing Principle Component Analysis\n",
    "\n",
    "### 3a) Principle Component Analysis\n",
    "1. Use [numpy.linalg.eig](https://docs.scipy.org/doc/numpy/reference/generated/numpy.linalg.eig.html) to compute the eigenvalues and right eigenvectors of the covariance matrix.  \n",
    "2. Print the eigen_values and the first 2 eigenvectors."
   ]
  },
  {
   "cell_type": "code",
   "execution_count": 29,
   "outputs": [],
   "source": [
    "e_vals, e_vects = np.linalg.eig(cov_matrix)"
   ],
   "metadata": {
    "collapsed": false,
    "pycharm": {
     "name": "#%%\n"
    }
   }
  },
  {
   "cell_type": "markdown",
   "source": [
    "3. Transform the data with the eigen_vectors.\n",
    "    1. Matrix multiply cancer_x with the first two columns of the eigen_vectors. \n",
    "    2. Print the first 5 rows of the transformed data."
   ],
   "metadata": {
    "collapsed": false,
    "pycharm": {
     "name": "#%% md\n"
    }
   }
  },
  {
   "cell_type": "code",
   "execution_count": 30,
   "outputs": [],
   "source": [
    "transformed_cancer_data = cancer_x @ e_vects[:,:2]"
   ],
   "metadata": {
    "collapsed": false,
    "pycharm": {
     "name": "#%%\n"
    }
   }
  },
  {
   "cell_type": "markdown",
   "source": [
    "**Question:**  Which 2 variables are the first eigenvector most dependent on?  How does that relate to the heatmap?"
   ],
   "metadata": {
    "collapsed": false,
    "pycharm": {
     "name": "#%% md\n"
    }
   }
  },
  {
   "cell_type": "code",
   "execution_count": 34,
   "metadata": {},
   "outputs": [
    {
     "name": "stdout",
     "output_type": "stream",
     "text": [
      "The Eigen Values Are:\n",
      "[0.15632 0.05609 0.01875 0.01012 0.00688 0.00348 0.00001 0.00027 0.00121\n",
      " 0.00206]\n",
      "The First 2 Eigen Vectors Are:\n",
      "[[-0.36654  0.33267]\n",
      " [-0.1315   0.11754]\n",
      " [-0.38051  0.30003]\n",
      " [-0.32796  0.28817]\n",
      " [-0.16268 -0.33468]\n",
      " [-0.34395 -0.32018]\n",
      " [-0.43907 -0.17375]\n",
      " [-0.47861 -0.04037]\n",
      " [-0.16356 -0.34204]\n",
      " [-0.05141 -0.58234]]\n",
      "The First 5 Rows of Transformed Data:\n",
      "[[-1.69205 -0.74676]\n",
      " [-1.10577  0.15841]\n",
      " [-1.47931 -0.15926]\n",
      " [-1.33507 -1.28654]\n",
      " [-1.36498 -0.03687]]\n",
      "\n",
      "-----------------------------------\n",
      "Your results should look like this:\n",
      "-----------------------------------\n",
      "Eigen values: \n",
      "[0.15632 0.05609 0.01875 0.01012 0.00688 0.00348 0.00001 0.00027 0.00121 0.00206]\n",
      "First 2 Eigen vectors: \n",
      "[[-0.36654  0.33267]\n",
      " [-0.1315   0.11754]\n",
      " [-0.38051  0.30003]\n",
      " [-0.32796  0.28817]\n",
      " [-0.16268 -0.33468]\n",
      " [-0.34395 -0.32018]\n",
      " [-0.43907 -0.17375]\n",
      " [-0.47861 -0.04037]\n",
      " [-0.16356 -0.34204]\n",
      " [-0.05141 -0.58234]]\n",
      "Transformed data:\n",
      "           0         1\n",
      "0 -1.692053 -0.746755\n",
      "1 -1.105772  0.158411\n",
      "2 -1.479314 -0.159259\n",
      "3 -1.335070 -1.286536\n",
      "4 -1.364975 -0.036868\n",
      "-----------------------------------\n",
      "\n"
     ]
    }
   ],
   "source": [
    "print(f'The Eigen Values Are:\\n{e_vals}\\n'+\n",
    "      f'The First 2 Eigen Vectors Are:\\n{e_vects[:,:2]}\\n'+\n",
    "      f'The First 5 Rows of Transformed Data:\\n{transformed_cancer_data.values[:5]}')\n",
    "print('''\n",
    "-----------------------------------\n",
    "Your results should look like this:\n",
    "-----------------------------------\n",
    "Eigen values: \n",
    "[0.15632 0.05609 0.01875 0.01012 0.00688 0.00348 0.00001 0.00027 0.00121 0.00206]\n",
    "First 2 Eigen vectors: \n",
    "[[-0.36654  0.33267]\n",
    " [-0.1315   0.11754]\n",
    " [-0.38051  0.30003]\n",
    " [-0.32796  0.28817]\n",
    " [-0.16268 -0.33468]\n",
    " [-0.34395 -0.32018]\n",
    " [-0.43907 -0.17375]\n",
    " [-0.47861 -0.04037]\n",
    " [-0.16356 -0.34204]\n",
    " [-0.05141 -0.58234]]\n",
    "Transformed data:\n",
    "           0         1\n",
    "0 -1.692053 -0.746755\n",
    "1 -1.105772  0.158411\n",
    "2 -1.479314 -0.159259\n",
    "3 -1.335070 -1.286536\n",
    "4 -1.364975 -0.036868\n",
    "-----------------------------------\n",
    "''')"
   ]
  },
  {
   "cell_type": "markdown",
   "metadata": {},
   "source": [
    "### 3b) Graph a scatterplot of the transformed data\n",
    "\n",
    "Graph a scatterplot of the transformed data using [plt.scatter](https://matplotlib.org/3.3.3/api/_as_gen/matplotlib.axes.Axes.scatter.html)\n",
    "1. Scatter Parameters\n",
    "    1. Graph the first principle component on the x axis (first column of the tranformed data)\n",
    "    2. Graph the second principle component on the y axis (second column of the tranformed data)\n",
    "    3. Use the `cancer_y` series for the color with a black edgecolor\n",
    "3. Include a title, and axis labels.\n",
    "4. Add a custom [legend](https://matplotlib.org/3.3.3/tutorials/intermediate/legend_guide.html) using mpatches.\n",
    "    1. Create 1 patch with the color `m` for malignant\n",
    "    1. Create 1 patch with the color `b` for benign"
   ]
  },
  {
   "cell_type": "code",
   "execution_count": 3,
   "metadata": {},
   "outputs": [],
   "source": [
    "import matplotlib.patches as mpatches\n",
    "\n"
   ]
  }
 ],
 "metadata": {
  "kernelspec": {
   "name": "pycharm-f3849c6d",
   "language": "python",
   "display_name": "PyCharm (cs251)"
  },
  "language_info": {
   "codemirror_mode": {
    "name": "ipython",
    "version": 3
   },
   "file_extension": ".py",
   "mimetype": "text/x-python",
   "name": "python",
   "nbconvert_exporter": "python",
   "pygments_lexer": "ipython3",
   "version": "3.8.2"
  }
 },
 "nbformat": 4,
 "nbformat_minor": 4
}