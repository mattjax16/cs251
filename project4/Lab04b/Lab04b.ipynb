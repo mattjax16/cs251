{
 "cells": [
  {
   "cell_type": "markdown",
   "metadata": {},
   "source": [
    "# Lab 4b: PCA and Image Compression"
   ]
  },
  {
   "cell_type": "code",
   "execution_count": 127,
   "metadata": {},
   "outputs": [
    {
     "name": "stdout",
     "output_type": "stream",
     "text": [
      "The autoreload extension is already loaded. To reload it, use:\n",
      "  %reload_ext autoreload\n"
     ]
    }
   ],
   "source": [
    "import os\n",
    "import random\n",
    "import numpy as np\n",
    "import matplotlib.pyplot as plt\n",
    "import pandas as pd\n",
    "from mpl_toolkits.mplot3d import Axes3D\n",
    "\n",
    "plt.style.use(['seaborn-colorblind', 'seaborn-darkgrid'])\n",
    "plt.rcParams.update({'font.size': 10})\n",
    "plt.rcParams.update({'figure.figsize': [14,8]})\n",
    "\n",
    "np.set_printoptions(suppress=True, precision=5)\n",
    "\n",
    "# Automatically reload external modules\n",
    "%load_ext autoreload\n",
    "%autoreload 2"
   ]
  },
  {
   "cell_type": "markdown",
   "metadata": {},
   "source": [
    "## Task 1:  Preparing the Image\n",
    "\n",
    "### 1A) Import and view an image\n",
    "\n",
    "1. Import `lorikeet.png` using pyplot's [imread](https://matplotlib.org/stable/api/_as_gen/matplotlib.pyplot.imread.html)\n",
    "2. Print the shape of the image\n",
    "3. Display the image using pyplot's [imshow](https://matplotlib.org/stable/api/_as_gen/matplotlib.pyplot.imshow.html)\n",
    "4. Show the pyplot\n"
   ]
  },
  {
   "cell_type": "code",
   "execution_count": 1,
   "metadata": {},
   "outputs": [],
   "source": [
    "from sklearn.decomposition import PCA\n"
   ]
  },
  {
   "cell_type": "markdown",
   "metadata": {},
   "source": [
    "### 1B) Normalized Average\n",
    "\n",
    "1. Reshape your image for compression\n",
    "    1. Reshape your 3 dimensional `NxMxO` array to be a 2 dimensional `Nx(M*O)` array and assign it to a new variable (`color_flat`).\n",
    "2. Calculate the Normalized Average\n",
    "    2. Find the [Sum](https://numpy.org/doc/stable/reference/generated/numpy.sum.html) of each of `color_flat`'s columns, and assign it to a new variable \n",
    "    3. Normalize the 1D array by subtracting its minimum and dividing by its range. \n",
    "    4. Your normalized average should have the shape `(M*O,)`"
   ]
  },
  {
   "cell_type": "code",
   "execution_count": null,
   "metadata": {},
   "outputs": [],
   "source": []
  },
  {
   "cell_type": "markdown",
   "metadata": {},
   "source": [
    "## Task 2:  Compressing the Image\n",
    "\n",
    "### Find the Image's Principle Components\n",
    "\n",
    "Use Sci-kit Learn's [PCA class](https://scikit-learn.org/stable/modules/generated/sklearn.decomposition.PCA.html) to extract the image's eigenvectors and the principle components\n",
    "1. Create an instance of the PCA class with 400 components\n",
    "2. Call the method `fit_transform` with `color_flat` minus the normalized average as the X parameter and saving the results into a new variable representing the Transformed values.\n",
    "3. Print the shape of the Transformed values and the PCA's components.  The Transformed values should have the shape `Nx400` and the PCA's components should have the shape `400x(M*O)`\n",
    "4. Create an elbow plot of the [cumulative sum](https://numpy.org/doc/stable/reference/generated/numpy.cumsum.html) of the [PCA's](https://scikit-learn.org/stable/modules/generated/sklearn.decomposition.PCA.html) explained variance ratio.\n",
    "    1. Include a title, and meaningful x and y labels."
   ]
  },
  {
   "cell_type": "code",
   "execution_count": null,
   "metadata": {
    "scrolled": true
   },
   "outputs": [],
   "source": []
  },
  {
   "cell_type": "markdown",
   "metadata": {},
   "source": [
    "## Task 3: Reconstruct the Image \n",
    "\n",
    "### Reconstruct the image accounting for 90-91% percent of the proportional variance\n",
    "\n",
    "1. Using the elbow plot, determine a number of principle components which account for 90-91% percent of the proportional variance in the image.\n",
    "1. Compute the inverse transform:\n",
    "    1. `transformed_values@principle_components + normalize_average`\n",
    "    2. With shapes `NxZ @ Zx(M*O) + (M*O,)`\n",
    "    3. With `Z` equal to the number of principle components you are keeping\n",
    "3. Show the reconstructed image\n",
    "    1. Use numpy's [clip](https://numpy.org/doc/stable/reference/generated/numpy.clip.html) method to clip any values less than 0 or greater than 1 in the reconstructed image.\n",
    "    2. Reshape the reconstructed image back to the shape of the original image\n",
    "    3. Display the image using pyplot's [imshow](https://matplotlib.org/stable/api/_as_gen/matplotlib.pyplot.imshow.html)\n",
    "    4. Show the pyplot\n",
    "2. Compute the compression ratio of this image\n",
    "    1. Compressed size = the number of floats required to compute the inverse transform\n",
    "    2. Uncompressed size =  the number of floats in the original image\n",
    "    3. Compression ratio = Compressed size / Uncompressed size"
   ]
  },
  {
   "cell_type": "code",
   "execution_count": null,
   "metadata": {},
   "outputs": [],
   "source": []
  }
 ],
 "metadata": {
  "kernelspec": {
   "display_name": "Python 3",
   "language": "python",
   "name": "python3"
  },
  "language_info": {
   "codemirror_mode": {
    "name": "ipython",
    "version": 3
   },
   "file_extension": ".py",
   "mimetype": "text/x-python",
   "name": "python",
   "nbconvert_exporter": "python",
   "pygments_lexer": "ipython3",
   "version": "3.8.2"
  }
 },
 "nbformat": 4,
 "nbformat_minor": 4
}
