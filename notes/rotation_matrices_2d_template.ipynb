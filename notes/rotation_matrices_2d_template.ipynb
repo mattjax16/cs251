{
 "cells": [
  {
   "cell_type": "markdown",
   "id": "distant-karma",
   "metadata": {},
   "source": [
    "#  CS251: Data Analysis and Visualization\n",
    "\n",
    "## 2D Rotation matrices\n",
    "\n",
    "Spring 2021\n",
    "\n",
    "Oliver W. Layton"
   ]
  },
  {
   "cell_type": "code",
   "execution_count": null,
   "id": "naval-syndrome",
   "metadata": {},
   "outputs": [],
   "source": [
    "import numpy as np\n",
    "import matplotlib.pyplot as plt\n",
    "\n",
    "plt.style.use(['seaborn-colorblind', 'seaborn-darkgrid'])\n",
    "plt.rcParams.update({'font.size': 20})\n",
    "\n",
    "np.set_printoptions(suppress=True, precision=5)"
   ]
  },
  {
   "cell_type": "code",
   "execution_count": null,
   "id": "peaceful-degree",
   "metadata": {},
   "outputs": [],
   "source": [
    "import data\n",
    "import analysis"
   ]
  },
  {
   "cell_type": "markdown",
   "id": "textile-genome",
   "metadata": {},
   "source": [
    "### 2D rotation (T-shaped data)"
   ]
  },
  {
   "cell_type": "markdown",
   "id": "mechanical-berry",
   "metadata": {},
   "source": [
    "Load in tData.csv"
   ]
  },
  {
   "cell_type": "code",
   "execution_count": null,
   "id": "fitting-updating",
   "metadata": {},
   "outputs": [],
   "source": []
  },
  {
   "cell_type": "markdown",
   "id": "operational-creation",
   "metadata": {},
   "source": [
    "Let's make a scatterplot to see what the (x, y) data looks like"
   ]
  },
  {
   "cell_type": "code",
   "execution_count": null,
   "id": "greater-employer",
   "metadata": {},
   "outputs": [],
   "source": []
  },
  {
   "cell_type": "code",
   "execution_count": null,
   "id": "median-effectiveness",
   "metadata": {},
   "outputs": [],
   "source": [
    "def rotation_matrix_2D(angle):\n",
    "    '''Creates a 2D rotation matrix\n",
    "    \n",
    "    Parameters:\n",
    "    -----------\n",
    "    angle: float. Rotation angle in degrees.\n",
    "    \n",
    "    Returns:\n",
    "    -----------\n",
    "    ndarray. shape=(3, 3). The 2D rotation matrix with homogeneous coordinate.\n",
    "    '''\n",
    "    pass"
   ]
  },
  {
   "cell_type": "markdown",
   "id": "healthy-crawford",
   "metadata": {},
   "source": [
    "Let's grab the raw t-shaped data as an ndarray and add a homogenous coordinate."
   ]
  },
  {
   "cell_type": "code",
   "execution_count": null,
   "id": "seven-block",
   "metadata": {},
   "outputs": [],
   "source": []
  },
  {
   "cell_type": "code",
   "execution_count": null,
   "id": "micro-stand",
   "metadata": {},
   "outputs": [],
   "source": []
  },
  {
   "cell_type": "markdown",
   "id": "judicial-trustee",
   "metadata": {},
   "source": [
    "TODO:\n",
    "- Pick any rotation angle we want and create the appropriate rotation matrix.\n",
    "- Apply the rotation transform to the data.\n",
    "- Plot the data after the transformation has been applied."
   ]
  },
  {
   "cell_type": "code",
   "execution_count": null,
   "id": "forbidden-impact",
   "metadata": {},
   "outputs": [],
   "source": []
  }
 ],
 "metadata": {
  "kernelspec": {
   "display_name": "Python 3",
   "language": "python",
   "name": "python3"
  },
  "language_info": {
   "codemirror_mode": {
    "name": "ipython",
    "version": 3
   },
   "file_extension": ".py",
   "mimetype": "text/x-python",
   "name": "python",
   "nbconvert_exporter": "python",
   "pygments_lexer": "ipython3",
   "version": "3.9.1"
  }
 },
 "nbformat": 4,
 "nbformat_minor": 5
}
