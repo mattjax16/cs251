{
 "cells": [
  {
   "cell_type": "markdown",
   "id": "rural-demographic",
   "metadata": {},
   "source": [
    "# CS251/2: Data Analysis and Visualization\n",
    "\n",
    "## Polynomial Regression Examples and Applications\n",
    "\n",
    "Spring 2021\n",
    "\n",
    "Oliver W. Layton"
   ]
  },
  {
   "cell_type": "code",
   "execution_count": 1,
   "id": "imposed-lewis",
   "metadata": {},
   "outputs": [],
   "source": [
    "import numpy as np\n",
    "import matplotlib.pyplot as plt\n",
    "from scipy.linalg import lstsq"
   ]
  },
  {
   "cell_type": "code",
   "execution_count": 2,
   "id": "promotional-house",
   "metadata": {},
   "outputs": [],
   "source": [
    "import data"
   ]
  },
  {
   "cell_type": "markdown",
   "id": "serial-sperm",
   "metadata": {},
   "source": [
    "## Load in Boston Housing data\n",
    "\n",
    "CSV filename: `boston.csv`"
   ]
  },
  {
   "cell_type": "code",
   "execution_count": 3,
   "id": "heavy-recruitment",
   "metadata": {},
   "outputs": [
    {
     "name": "stdout",
     "output_type": "stream",
     "text": [
      "-------------------------------\n",
      "boston.csv (506x13)\n",
      "Headers:\n",
      "  crim\tzn\tindus\tchas\tnox\trm\tage\tdis\trad\ttax\tptratio\tlstat\tmedv\n",
      "-------------------------------\n",
      "Showing first 5/506 rows.\n",
      "0.00632\t18.0\t2.31\t0.0\t0.538\t6.575\t65.2\t4.09\t1.0\t296.0\t15.3\t4.98\t24.0\n",
      "0.02731\t0.0\t7.07\t0.0\t0.469\t6.421\t78.9\t4.9671\t2.0\t242.0\t17.8\t9.14\t21.6\n",
      "0.02729\t0.0\t7.07\t0.0\t0.469\t7.185\t61.1\t4.9671\t2.0\t242.0\t17.8\t4.03\t34.7\n",
      "0.03237\t0.0\t2.18\t0.0\t0.458\t6.998\t45.8\t6.0622\t3.0\t222.0\t18.7\t2.94\t33.4\n",
      "0.06905\t0.0\t2.18\t0.0\t0.458\t7.147\t54.2\t6.0622\t3.0\t222.0\t18.7\t5.33\t36.2\n",
      "\n",
      "-------------------------------\n"
     ]
    }
   ],
   "source": [
    "bostonData = data.Data('boston.csv')\n",
    "print(bostonData)"
   ]
  },
  {
   "cell_type": "markdown",
   "id": "mediterranean-gregory",
   "metadata": {},
   "source": [
    "Info on the headers:\n",
    "\n",
    "    CRIM - per capita crime rate by town\n",
    "    ZN - proportion of residential land zoned for lots over 25,000 sq.ft.\n",
    "    INDUS - proportion of non-retail business acres per town.\n",
    "    CHAS - Charles River dummy variable (1 if tract bounds river; 0 otherwise)\n",
    "    NOX - nitric oxides concentration (parts per 10 million)\n",
    "    RM - average number of rooms per dwelling\n",
    "    AGE - proportion of owner-occupied units built prior to 1940\n",
    "    DIS - weighted distances to five Boston employment centres\n",
    "    RAD - index of accessibility to radial highways\n",
    "    TAX - full-value property-tax rate per 10,000 dollars\n",
    "    PTRATIO - pupil-teacher ratio by town\n",
    "    LSTAT - % lower status of the population\n",
    "    MEDV - Median value of owner-occupied homes in 1000's dollars\n",
    "    "
   ]
  },
  {
   "cell_type": "markdown",
   "id": "danish-lambda",
   "metadata": {},
   "source": [
    "## 1. Perform linear regression to predict median home value from distance to workplace hubs\n",
    "\n",
    "Independent and dependent variables?"
   ]
  },
  {
   "cell_type": "code",
   "execution_count": null,
   "id": "mediterranean-discount",
   "metadata": {},
   "outputs": [],
   "source": [
    "# ind var: distance to workplace\n",
    "# dep var: median home value"
   ]
  },
  {
   "cell_type": "code",
   "execution_count": 4,
   "id": "advisory-devil",
   "metadata": {},
   "outputs": [],
   "source": [
    "dis = bostonData.select_data(['dis'])\n",
    "medv = bostonData.select_data(['medv'])"
   ]
  },
  {
   "cell_type": "code",
   "execution_count": 6,
   "id": "thirty-abortion",
   "metadata": {},
   "outputs": [
    {
     "data": {
      "text/plain": [
       "(506, 2)"
      ]
     },
     "execution_count": 6,
     "metadata": {},
     "output_type": "execute_result"
    }
   ],
   "source": [
    "A = np.hstack([np.ones([dis.shape[0], 1]), dis])\n",
    "A.shape"
   ]
  },
  {
   "cell_type": "code",
   "execution_count": 7,
   "id": "unsigned-motel",
   "metadata": {},
   "outputs": [],
   "source": [
    "y = medv"
   ]
  },
  {
   "cell_type": "code",
   "execution_count": 9,
   "id": "fifth-quarterly",
   "metadata": {
    "scrolled": true
   },
   "outputs": [
    {
     "name": "stdout",
     "output_type": "stream",
     "text": [
      "[[18.39008833]\n",
      " [ 1.09161302]]\n"
     ]
    }
   ],
   "source": [
    "c, _, _, _ = lstsq(A, y)\n",
    "print(c)"
   ]
  },
  {
   "cell_type": "code",
   "execution_count": 12,
   "id": "civil-effectiveness",
   "metadata": {},
   "outputs": [
    {
     "data": {
      "image/png": "[encoded data removed]",
      "text/plain": [
       "<Figure size 432x288 with 1 Axes>"
      ]
     },
     "metadata": {
      "needs_background": "light"
     },
     "output_type": "display_data"
    }
   ],
   "source": [
    "x = np.linspace(np.min(dis), np.max(dis))\n",
    "yLine = c[0] + c[1]*x\n",
    "\n",
    "plt.scatter(dis, medv)\n",
    "plt.plot(x, yLine, 'red')\n",
    "plt.xlabel('Distance to popular workplaces')\n",
    "plt.ylabel('Median home value')\n",
    "plt.show()"
   ]
  },
  {
   "cell_type": "markdown",
   "id": "inappropriate-narrow",
   "metadata": {},
   "source": [
    "## 2. Use polynomial regression to better fit the nonlinear data relationship"
   ]
  },
  {
   "cell_type": "markdown",
   "id": "perceived-primary",
   "metadata": {},
   "source": [
    "### Try Quadratic polynomial model:\n",
    "\n",
    "$$y = c_0 + c_1x_1 + c_2x_1^2$$\n",
    "\n",
    "where $x_1$ is what?"
   ]
  },
  {
   "cell_type": "code",
   "execution_count": 13,
   "id": "hairy-announcement",
   "metadata": {},
   "outputs": [
    {
     "data": {
      "text/plain": [
       "(506, 1)"
      ]
     },
     "execution_count": 13,
     "metadata": {},
     "output_type": "execute_result"
    }
   ],
   "source": [
    "dis.shape"
   ]
  },
  {
   "cell_type": "code",
   "execution_count": 17,
   "id": "bottom-bennett",
   "metadata": {},
   "outputs": [
    {
     "name": "stdout",
     "output_type": "stream",
     "text": [
      "[[ 1.          4.09       16.7281    ]\n",
      " [ 1.          4.9671     24.67208241]\n",
      " [ 1.          4.9671     24.67208241]\n",
      " ...\n",
      " [ 1.          2.1675      4.69805625]\n",
      " [ 1.          2.3889      5.70684321]\n",
      " [ 1.          2.505       6.275025  ]]\n",
      "(506, 3)\n"
     ]
    }
   ],
   "source": [
    "# Need to figure out appropriate A\n",
    "# y is unchanged. That is median home value data\n",
    "Ap = np.zeros([len(dis), 3])\n",
    "Ap[:, 0] = np.squeeze(np.ones([len(dis), 1]))\n",
    "Ap[:, 1] = np.squeeze(dis)\n",
    "Ap[:, 2] = np.squeeze(dis**2)\n",
    "print(Ap)\n",
    "print(Ap.shape)"
   ]
  },
  {
   "cell_type": "code",
   "execution_count": 19,
   "id": "buried-consistency",
   "metadata": {},
   "outputs": [
    {
     "name": "stdout",
     "output_type": "stream",
     "text": [
      "[[12.74347795]\n",
      " [ 4.13316926]\n",
      " [-0.31316923]]\n"
     ]
    }
   ],
   "source": [
    "c, _, _, _ = lstsq(Ap, y)\n",
    "print(c)"
   ]
  },
  {
   "cell_type": "code",
   "execution_count": 20,
   "id": "elect-brighton",
   "metadata": {},
   "outputs": [
    {
     "data": {
      "image/png": "[encoded data removed]",
      "text/plain": [
       "<Figure size 432x288 with 1 Axes>"
      ]
     },
     "metadata": {
      "needs_background": "light"
     },
     "output_type": "display_data"
    }
   ],
   "source": [
    "x = np.linspace(np.min(dis), np.max(dis))\n",
    "yCurve = c[0] + c[1]*x + c[2]*(x**2)\n",
    "\n",
    "plt.scatter(dis, medv)\n",
    "plt.plot(x, yCurve, 'red')\n",
    "plt.xlabel('Distance to popular workplaces')\n",
    "plt.ylabel('Median home value')\n",
    "plt.show()"
   ]
  },
  {
   "cell_type": "markdown",
   "id": "sized-fairy",
   "metadata": {},
   "source": [
    "### Now let's try a cubic model\n",
    "\n",
    "$$y = c_0 + c_1x_1 + c_2x_1^2 + c_3x_1^3$$"
   ]
  },
  {
   "cell_type": "code",
   "execution_count": 21,
   "id": "interpreted-bosnia",
   "metadata": {},
   "outputs": [
    {
     "name": "stdout",
     "output_type": "stream",
     "text": [
      "[[  1.           4.09        16.7281      68.417929  ]\n",
      " [  1.           4.9671      24.67208241 122.54870054]\n",
      " [  1.           4.9671      24.67208241 122.54870054]\n",
      " ...\n",
      " [  1.           2.1675       4.69805625  10.18303692]\n",
      " [  1.           2.3889       5.70684321  13.63307774]\n",
      " [  1.           2.505        6.275025    15.71893762]]\n",
      "(506, 4)\n"
     ]
    }
   ],
   "source": [
    "Ap = np.zeros([len(dis), 4])\n",
    "Ap[:, 0] = np.squeeze(np.ones([len(dis), 1]))\n",
    "Ap[:, 1] = np.squeeze(dis)\n",
    "Ap[:, 2] = np.squeeze(dis**2)\n",
    "Ap[:, 3] = np.squeeze(dis**3)\n",
    "print(Ap)\n",
    "print(Ap.shape)"
   ]
  },
  {
   "cell_type": "code",
   "execution_count": 22,
   "id": "representative-consent",
   "metadata": {},
   "outputs": [
    {
     "name": "stdout",
     "output_type": "stream",
     "text": [
      "[[ 7.03789409]\n",
      " [ 8.59284424]\n",
      " [-1.24952806]\n",
      " [ 0.05601936]]\n"
     ]
    }
   ],
   "source": [
    "c, _, _, _ = lstsq(Ap, y)\n",
    "print(c)"
   ]
  },
  {
   "cell_type": "code",
   "execution_count": 23,
   "id": "systematic-chorus",
   "metadata": {},
   "outputs": [
    {
     "data": {
      "image/png": "[encoded data removed]",
      "text/plain": [
       "<Figure size 432x288 with 1 Axes>"
      ]
     },
     "metadata": {
      "needs_background": "light"
     },
     "output_type": "display_data"
    }
   ],
   "source": [
    "x = np.linspace(np.min(dis), np.max(dis))\n",
    "yCurve = c[0] + c[1]*x + c[2]*(x**2) + c[3]*(x**3)\n",
    "\n",
    "plt.scatter(dis, medv)\n",
    "plt.plot(x, yCurve, 'red')\n",
    "plt.xlabel('Distance to popular workplaces')\n",
    "plt.ylabel('Median home value')\n",
    "plt.show()"
   ]
  },
  {
   "cell_type": "code",
   "execution_count": null,
   "id": "similar-malawi",
   "metadata": {},
   "outputs": [],
   "source": []
  },
  {
   "cell_type": "code",
   "execution_count": null,
   "id": "patient-dancing",
   "metadata": {},
   "outputs": [],
   "source": []
  }
 ],
 "metadata": {
  "kernelspec": {
   "display_name": "Python 3",
   "language": "python",
   "name": "python3"
  },
  "language_info": {
   "codemirror_mode": {
    "name": "ipython",
    "version": 3
   },
   "file_extension": ".py",
   "mimetype": "text/x-python",
   "name": "python",
   "nbconvert_exporter": "python",
   "pygments_lexer": "ipython3",
   "version": "3.9.1"
  }
 },
 "nbformat": 4,
 "nbformat_minor": 5
}
