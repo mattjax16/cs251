{
 "cells": [
  {
   "cell_type": "markdown",
   "id": "rural-demographic",
   "metadata": {},
   "source": [
    "# CS251/2: Data Analysis and Visualization\n",
    "\n",
    "## Multiple Linear Regression\n",
    "\n",
    "Spring 2021\n",
    "\n",
    "Oliver W. Layton"
   ]
  },
  {
   "cell_type": "code",
   "execution_count": null,
   "id": "imposed-lewis",
   "metadata": {},
   "outputs": [],
   "source": [
    "import numpy as np\n",
    "import matplotlib.pyplot as plt\n",
    "from scipy.linalg import lstsq"
   ]
  },
  {
   "cell_type": "code",
   "execution_count": null,
   "id": "promotional-house",
   "metadata": {},
   "outputs": [],
   "source": [
    "import data"
   ]
  },
  {
   "cell_type": "markdown",
   "id": "serial-sperm",
   "metadata": {},
   "source": [
    "## Load in Waffle House data\n",
    "\n",
    "CSV filename: `WaffleDivorce.csv`"
   ]
  },
  {
   "cell_type": "code",
   "execution_count": null,
   "id": "small-insider",
   "metadata": {},
   "outputs": [],
   "source": []
  },
  {
   "cell_type": "markdown",
   "id": "bottom-course",
   "metadata": {},
   "source": [
    "## 1. Warm-up: Simple linear regression\n",
    "\n",
    "Let's do a simple linear regression to quantify the association between:\n",
    "- Number of Waffle House diners per million people in a state\n",
    "- 2009 divorce rate in each state"
   ]
  },
  {
   "cell_type": "markdown",
   "id": "complex-wireless",
   "metadata": {},
   "source": [
    "Let's try and predict **divorce rate** from **number of Waffle Houses**.\n",
    "\n",
    "Linear regression model:\n",
    "\n",
    "$$y = c_0 + c_1x_1$$\n",
    "\n",
    "What is $x_1$?"
   ]
  },
  {
   "cell_type": "markdown",
   "id": "nearby-kitchen",
   "metadata": {},
   "source": [
    "We need to determine $A$ and $\\vec{y}$ to solve for $\\vec{c}$: $$\\vec{y} = A\\vec{c}$$"
   ]
  },
  {
   "cell_type": "code",
   "execution_count": null,
   "id": "prostate-federal",
   "metadata": {},
   "outputs": [],
   "source": []
  },
  {
   "cell_type": "code",
   "execution_count": null,
   "id": "asian-professor",
   "metadata": {},
   "outputs": [],
   "source": []
  },
  {
   "cell_type": "code",
   "execution_count": null,
   "id": "initial-killing",
   "metadata": {},
   "outputs": [],
   "source": []
  },
  {
   "cell_type": "markdown",
   "id": "historic-correlation",
   "metadata": {},
   "source": [
    "Let's draw the regression line!"
   ]
  },
  {
   "cell_type": "code",
   "execution_count": null,
   "id": "eight-telling",
   "metadata": {},
   "outputs": [],
   "source": []
  },
  {
   "cell_type": "code",
   "execution_count": null,
   "id": "organized-event",
   "metadata": {},
   "outputs": [],
   "source": []
  },
  {
   "cell_type": "markdown",
   "id": "utility-regulation",
   "metadata": {},
   "source": [
    "What do you make of the results?"
   ]
  },
  {
   "cell_type": "markdown",
   "id": "modular-substance",
   "metadata": {},
   "source": [
    "## 2. Predict number of divorce rate from two independent variables\n",
    "\n",
    "Let's fit a linear regression model (**multiple linear regression**) predict divorce rate from:\n",
    "\n",
    "- Population\n",
    "- MedianAgeMarriage\n",
    "\n",
    "Independent variables? Dependent variables?"
   ]
  },
  {
   "cell_type": "code",
   "execution_count": null,
   "id": "formal-candidate",
   "metadata": {},
   "outputs": [],
   "source": []
  },
  {
   "cell_type": "markdown",
   "id": "divided-planning",
   "metadata": {},
   "source": [
    "Let's follow the same steps to set this up, but for practice, let's reorder the linear regression model slope and intercept:\n",
    "\n",
    "$$y = c_0 + c_1x_1 + c_2x_2$$\n",
    "\n",
    "What variables do you want to define as $x_1$ and $x_2$?"
   ]
  },
  {
   "cell_type": "markdown",
   "id": "treated-mission",
   "metadata": {},
   "source": [
    "**Good news:** We don't need to change hardly anything when solving the least squares problem when adding more than 1 independent variable!"
   ]
  },
  {
   "cell_type": "code",
   "execution_count": null,
   "id": "supposed-effects",
   "metadata": {},
   "outputs": [],
   "source": []
  },
  {
   "cell_type": "markdown",
   "id": "talented-tooth",
   "metadata": {},
   "source": [
    "We can/should compute $R^2$ and MSSE for multiple linear regression, just like before, but we won't do that here.\n",
    "\n",
    "We can plot the residuals to get an intuitive sense of how well the regression model fits the data."
   ]
  },
  {
   "cell_type": "code",
   "execution_count": null,
   "id": "executive-fitness",
   "metadata": {},
   "outputs": [],
   "source": []
  },
  {
   "cell_type": "code",
   "execution_count": null,
   "id": "developing-benchmark",
   "metadata": {},
   "outputs": [],
   "source": []
  }
 ],
 "metadata": {
  "kernelspec": {
   "display_name": "Python 3",
   "language": "python",
   "name": "python3"
  },
  "language_info": {
   "codemirror_mode": {
    "name": "ipython",
    "version": 3
   },
   "file_extension": ".py",
   "mimetype": "text/x-python",
   "name": "python",
   "nbconvert_exporter": "python",
   "pygments_lexer": "ipython3",
   "version": "3.9.1"
  }
 },
 "nbformat": 4,
 "nbformat_minor": 5
}
