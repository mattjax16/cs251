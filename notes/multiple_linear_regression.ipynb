{
 "cells": [
  {
   "cell_type": "markdown",
   "id": "rural-demographic",
   "metadata": {},
   "source": [
    "# CS251/2: Data Analysis and Visualization\n",
    "\n",
    "## Multiple Linear Regression\n",
    "\n",
    "Spring 2021\n",
    "\n",
    "Oliver W. Layton"
   ]
  },
  {
   "cell_type": "code",
   "execution_count": 1,
   "id": "imposed-lewis",
   "metadata": {},
   "outputs": [],
   "source": [
    "import numpy as np\n",
    "import matplotlib.pyplot as plt\n",
    "from scipy.linalg import lstsq"
   ]
  },
  {
   "cell_type": "code",
   "execution_count": 2,
   "id": "promotional-house",
   "metadata": {},
   "outputs": [],
   "source": [
    "import data"
   ]
  },
  {
   "cell_type": "markdown",
   "id": "serial-sperm",
   "metadata": {},
   "source": [
    "## Load in Waffle House data\n",
    "\n",
    "CSV filename: `WaffleDivorce.csv`"
   ]
  },
  {
   "cell_type": "code",
   "execution_count": 3,
   "id": "small-insider",
   "metadata": {},
   "outputs": [
    {
     "name": "stdout",
     "output_type": "stream",
     "text": [
      "-------------------------------\n",
      "WaffleDivorce.csv (50x8)\n",
      "Headers:\n",
      "  Population\tMedianAgeMarriage\tMarriage\tMarriage SE\tDivorce\tDivorce SE\tWaffleHouses\tSouth\n",
      "-------------------------------\n",
      "Showing first 5/50 rows.\n",
      "4.78\t25.3\t20.2\t1.27\t12.7\t0.79\t128.0\t1.0\n",
      "0.71\t25.2\t26.0\t2.93\t12.5\t2.05\t0.0\t0.0\n",
      "6.33\t25.8\t20.3\t0.98\t10.8\t0.74\t18.0\t0.0\n",
      "2.92\t24.3\t26.4\t1.7\t13.5\t1.22\t41.0\t1.0\n",
      "37.25\t26.8\t19.1\t0.39\t8.0\t0.24\t0.0\t0.0\n",
      "\n",
      "-------------------------------\n"
     ]
    }
   ],
   "source": [
    "waffleData = data.Data('WaffleDivorce.csv')\n",
    "print(waffleData)"
   ]
  },
  {
   "cell_type": "markdown",
   "id": "bottom-course",
   "metadata": {},
   "source": [
    "## 1. Warm-up: Simple linear regression\n",
    "\n",
    "Let's do a simple linear regression to quantify the association between:\n",
    "- Number of Waffle House diners per million people in a state\n",
    "- 2009 divorce rate in each state"
   ]
  },
  {
   "cell_type": "markdown",
   "id": "complex-wireless",
   "metadata": {},
   "source": [
    "Let's try and predict **divorce rate** from **number of Waffle Houses**.\n",
    "\n",
    "Linear regression model:\n",
    "\n",
    "$$y = c_0 + c_1x_1$$\n",
    "\n",
    "What is $x_1$?"
   ]
  },
  {
   "cell_type": "code",
   "execution_count": null,
   "id": "computational-ranch",
   "metadata": {},
   "outputs": [],
   "source": [
    "# x1 = Number of Waffle Houses in a state = ind var"
   ]
  },
  {
   "cell_type": "markdown",
   "id": "nearby-kitchen",
   "metadata": {},
   "source": [
    "We need to determine $A$ and $\\vec{y}$ to solve for $\\vec{c}$: $$\\vec{y} = A\\vec{c}$$"
   ]
  },
  {
   "cell_type": "code",
   "execution_count": 4,
   "id": "prostate-federal",
   "metadata": {},
   "outputs": [],
   "source": [
    "x = waffleData.select_data(['WaffleHouses'])\n",
    "y = waffleData.select_data(['Divorce'])\n",
    "A = np.hstack([np.ones([x.shape[0], 1]), x])"
   ]
  },
  {
   "cell_type": "code",
   "execution_count": 5,
   "id": "asian-professor",
   "metadata": {},
   "outputs": [
    {
     "name": "stdout",
     "output_type": "stream",
     "text": [
      "[[9.46023124e+00]\n",
      " [7.04294245e-03]]\n"
     ]
    }
   ],
   "source": [
    "c, _, _, _ = lstsq(A, y)\n",
    "print(c)"
   ]
  },
  {
   "cell_type": "code",
   "execution_count": 6,
   "id": "initial-killing",
   "metadata": {},
   "outputs": [],
   "source": [
    "x = np.linspace(np.min(A[:, 1]), np.max(A[:, 1]))\n",
    "yLine = c[0] + c[1]*x"
   ]
  },
  {
   "cell_type": "markdown",
   "id": "historic-correlation",
   "metadata": {},
   "source": [
    "Let's draw the regression line!"
   ]
  },
  {
   "cell_type": "code",
   "execution_count": 7,
   "id": "eight-telling",
   "metadata": {},
   "outputs": [
    {
     "data": {
      "image/png": "[encoded data removed]",
      "text/plain": [
       "<Figure size 432x288 with 1 Axes>"
      ]
     },
     "metadata": {
      "needs_background": "light"
     },
     "output_type": "display_data"
    }
   ],
   "source": [
    "plt.scatter(A[:, 1], y)\n",
    "plt.plot(x, yLine, 'r')\n",
    "plt.xlabel('Number of Waffle houses')\n",
    "plt.ylabel('Divorce rate in 2009')\n",
    "plt.show()"
   ]
  },
  {
   "cell_type": "code",
   "execution_count": null,
   "id": "organized-event",
   "metadata": {},
   "outputs": [],
   "source": []
  },
  {
   "cell_type": "markdown",
   "id": "utility-regulation",
   "metadata": {},
   "source": [
    "What do you make of the results?"
   ]
  },
  {
   "cell_type": "markdown",
   "id": "modular-substance",
   "metadata": {},
   "source": [
    "## 2. Predict number of divorce rate from two independent variables\n",
    "\n",
    "Let's fit a linear regression model (**multiple linear regression**) predict divorce rate from:\n",
    "\n",
    "- Population\n",
    "- MedianAgeMarriage\n",
    "\n",
    "Independent variables? Dependent variables?"
   ]
  },
  {
   "cell_type": "code",
   "execution_count": 8,
   "id": "formal-candidate",
   "metadata": {},
   "outputs": [],
   "source": [
    "# ind vars: Population, MedianAgeMarriage\n",
    "# dep var: divorce rate"
   ]
  },
  {
   "cell_type": "markdown",
   "id": "divided-planning",
   "metadata": {},
   "source": [
    "Let's follow the same steps to set this up, but for practice, let's reorder the linear regression model slope and intercept:\n",
    "\n",
    "$$y = c_0 + c_1x_1 + c_2x_2$$\n",
    "\n",
    "What variables do you want to define as $x_1$ and $x_2$?"
   ]
  },
  {
   "cell_type": "markdown",
   "id": "treated-mission",
   "metadata": {},
   "source": [
    "**Good news:** We don't need to change hardly anything when solving the least squares problem when adding more than 1 independent variable!"
   ]
  },
  {
   "cell_type": "code",
   "execution_count": 9,
   "id": "supposed-effects",
   "metadata": {},
   "outputs": [],
   "source": [
    "x1 = waffleData.select_data(['Population'])\n",
    "x2 = waffleData.select_data(['MedianAgeMarriage'])\n",
    "y = waffleData.select_data(['Divorce'])"
   ]
  },
  {
   "cell_type": "code",
   "execution_count": 11,
   "id": "statewide-flower",
   "metadata": {},
   "outputs": [
    {
     "name": "stdout",
     "output_type": "stream",
     "text": [
      "[[ 1.    4.78 25.3 ]\n",
      " [ 1.    0.71 25.2 ]\n",
      " [ 1.    6.33 25.8 ]\n",
      " [ 1.    2.92 24.3 ]\n",
      " [ 1.   37.25 26.8 ]]\n"
     ]
    },
    {
     "data": {
      "text/plain": [
       "(50, 3)"
      ]
     },
     "execution_count": 11,
     "metadata": {},
     "output_type": "execute_result"
    }
   ],
   "source": [
    "A = np.hstack([np.ones([x1.shape[0], 1]), x1, x2])\n",
    "print(A[:5, :])\n",
    "A.shape"
   ]
  },
  {
   "cell_type": "code",
   "execution_count": 13,
   "id": "electronic-welding",
   "metadata": {},
   "outputs": [
    {
     "name": "stdout",
     "output_type": "stream",
     "text": [
      "[[31.59532513]\n",
      " [-0.03908454]\n",
      " [-0.83166283]]\n"
     ]
    }
   ],
   "source": [
    "c, _, _, _ = lstsq(A, y)\n",
    "print(c)"
   ]
  },
  {
   "cell_type": "code",
   "execution_count": 16,
   "id": "official-preparation",
   "metadata": {},
   "outputs": [],
   "source": [
    "# x = np.linspace(np.min(x1), np.max(x1))\n",
    "yPredsOnLine = c[0] + c[1]*x1 + c[2]*x2 # for my original data\n",
    "#yPredsOnLine"
   ]
  },
  {
   "cell_type": "markdown",
   "id": "talented-tooth",
   "metadata": {},
   "source": [
    "We can/should compute $R^2$ and MSSE for multiple linear regression, just like before, but we won't do that here.\n",
    "\n",
    "We can plot the residuals to get an intuitive sense of how well the regression model fits the data."
   ]
  },
  {
   "cell_type": "code",
   "execution_count": 18,
   "id": "identical-decimal",
   "metadata": {},
   "outputs": [
    {
     "data": {
      "text/plain": [
       "(50, 1)"
      ]
     },
     "execution_count": 18,
     "metadata": {},
     "output_type": "execute_result"
    }
   ],
   "source": [
    "yPredsOnLine.shape"
   ]
  },
  {
   "cell_type": "code",
   "execution_count": 19,
   "id": "characteristic-murray",
   "metadata": {},
   "outputs": [
    {
     "data": {
      "text/plain": [
       "(50, 1)"
      ]
     },
     "execution_count": 19,
     "metadata": {},
     "output_type": "execute_result"
    }
   ],
   "source": [
    "y.shape"
   ]
  },
  {
   "cell_type": "code",
   "execution_count": 22,
   "id": "executive-fitness",
   "metadata": {},
   "outputs": [
    {
     "data": {
      "image/png": "[encoded data removed]",
      "text/plain": [
       "<Figure size 432x288 with 1 Axes>"
      ]
     },
     "metadata": {
      "needs_background": "light"
     },
     "output_type": "display_data"
    }
   ],
   "source": [
    "plt.plot(yPredsOnLine - y, 'o')\n",
    "plt.xlabel('Sample number')\n",
    "plt.ylabel('Residual error')\n",
    "plt.show()"
   ]
  },
  {
   "cell_type": "code",
   "execution_count": null,
   "id": "developing-benchmark",
   "metadata": {},
   "outputs": [],
   "source": []
  }
 ],
 "metadata": {
  "kernelspec": {
   "display_name": "Python 3",
   "language": "python",
   "name": "python3"
  },
  "language_info": {
   "codemirror_mode": {
    "name": "ipython",
    "version": 3
   },
   "file_extension": ".py",
   "mimetype": "text/x-python",
   "name": "python",
   "nbconvert_exporter": "python",
   "pygments_lexer": "ipython3",
   "version": "3.9.1"
  }
 },
 "nbformat": 4,
 "nbformat_minor": 5
}
