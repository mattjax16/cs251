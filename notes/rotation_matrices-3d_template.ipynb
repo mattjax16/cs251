{
 "cells": [
  {
   "cell_type": "markdown",
   "id": "distant-karma",
   "metadata": {},
   "source": [
    "#  CS251: Data Analysis and Visualization\n",
    "\n",
    "## 3D Rotation matrices\n",
    "\n",
    "Spring 2021\n",
    "\n",
    "Oliver W. Layton"
   ]
  },
  {
   "cell_type": "code",
   "execution_count": null,
   "id": "naval-syndrome",
   "metadata": {},
   "outputs": [],
   "source": [
    "import numpy as np\n",
    "import matplotlib.pyplot as plt\n",
    "\n",
    "plt.style.use(['seaborn-colorblind', 'seaborn-darkgrid'])\n",
    "plt.rcParams.update({'font.size': 20})\n",
    "\n",
    "np.set_printoptions(suppress=True, precision=5)"
   ]
  },
  {
   "cell_type": "code",
   "execution_count": null,
   "id": "peaceful-degree",
   "metadata": {},
   "outputs": [],
   "source": [
    "import data\n",
    "import analysis"
   ]
  },
  {
   "cell_type": "markdown",
   "id": "physical-senegal",
   "metadata": {},
   "source": [
    "### 3D Rotation of \"Robot\" data"
   ]
  },
  {
   "cell_type": "code",
   "execution_count": null,
   "id": "exceptional-basic",
   "metadata": {},
   "outputs": [],
   "source": [
    "import transformation"
   ]
  },
  {
   "cell_type": "markdown",
   "id": "adverse-literacy",
   "metadata": {},
   "source": [
    "Let's practice the workflow from the project to make a pair plot of the 3 variable (X, Y, Z) robot dataset."
   ]
  },
  {
   "cell_type": "code",
   "execution_count": null,
   "id": "caroline-battery",
   "metadata": {},
   "outputs": [],
   "source": []
  },
  {
   "cell_type": "code",
   "execution_count": null,
   "id": "encouraging-vertical",
   "metadata": {},
   "outputs": [],
   "source": []
  },
  {
   "cell_type": "markdown",
   "id": "sensitive-default",
   "metadata": {},
   "source": [
    "#### a) Rotate data so (X, Y) view shows the \"upright robot face\".\n",
    "\n",
    "In other words, looking at the robot face head-on.\n",
    "\n",
    "Let's use the project 3D scatterplot tool to help us figure out the correct rotation axis and angle to get the job done. \n",
    "\n",
    "Remember the right-hand rule:\n",
    "- **Positive (+)** rotation means the data will move in the direction of our curled fingers when we align our right-hand thumb with the positive (+) axis we wish to rotate about."
   ]
  },
  {
   "cell_type": "code",
   "execution_count": null,
   "id": "finite-calendar",
   "metadata": {},
   "outputs": [],
   "source": []
  },
  {
   "cell_type": "code",
   "execution_count": null,
   "id": "legitimate-nebraska",
   "metadata": {},
   "outputs": [],
   "source": []
  },
  {
   "cell_type": "markdown",
   "id": "recent-prophet",
   "metadata": {},
   "source": [
    "#### b) Rotate data so (X, Y) view shows the (Y, Z) view from the pair plot.\n",
    "\n",
    "In other words, we see the elongated blob on the left, the sphere on the right (i.e. looking at robot face from bird-eye view)."
   ]
  },
  {
   "cell_type": "code",
   "execution_count": null,
   "id": "functional-affect",
   "metadata": {},
   "outputs": [],
   "source": []
  },
  {
   "cell_type": "markdown",
   "id": "compressed-railway",
   "metadata": {},
   "source": [
    "#### c) Rotate data so (X, Y) view shows the (Z, Y) view from the pair plot.\n",
    "\n",
    "In other words, we see the elongated blob on the left, the sphere on the right (i.e. looking at robot face from bird-eye view)."
   ]
  },
  {
   "cell_type": "code",
   "execution_count": null,
   "id": "monthly-electricity",
   "metadata": {},
   "outputs": [],
   "source": []
  },
  {
   "cell_type": "code",
   "execution_count": null,
   "id": "painful-syndrome",
   "metadata": {},
   "outputs": [],
   "source": []
  }
 ],
 "metadata": {
  "kernelspec": {
   "display_name": "Python 3",
   "language": "python",
   "name": "python3"
  },
  "language_info": {
   "codemirror_mode": {
    "name": "ipython",
    "version": 3
   },
   "file_extension": ".py",
   "mimetype": "text/x-python",
   "name": "python",
   "nbconvert_exporter": "python",
   "pygments_lexer": "ipython3",
   "version": "3.9.1"
  }
 },
 "nbformat": 4,
 "nbformat_minor": 5
}
