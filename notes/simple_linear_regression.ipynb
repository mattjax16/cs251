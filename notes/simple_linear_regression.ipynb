{
 "cells": [
  {
   "cell_type": "markdown",
   "id": "rural-demographic",
   "metadata": {},
   "source": [
    "# CS251: Data Analysis and Visualization\n",
    "\n",
    "## Using SciPy's Least Squares Solver to perform Linear Regression\n",
    "\n",
    "Spring 2021\n",
    "\n",
    "Oliver W. Layton"
   ]
  },
  {
   "cell_type": "code",
   "execution_count": 1,
   "id": "imposed-lewis",
   "metadata": {},
   "outputs": [],
   "source": [
    "import numpy as np\n",
    "import matplotlib.pyplot as plt\n",
    "from scipy.linalg import lstsq"
   ]
  },
  {
   "cell_type": "code",
   "execution_count": 2,
   "id": "promotional-house",
   "metadata": {},
   "outputs": [
    {
     "ename": "ModuleNotFoundError",
     "evalue": "No module named 'data'",
     "output_type": "error",
     "traceback": [
      "\u001b[0;31m---------------------------------------------------------------------------\u001b[0m",
      "\u001b[0;31mModuleNotFoundError\u001b[0m                       Traceback (most recent call last)",
      "\u001b[0;32m<ipython-input-2-341be17fdccc>\u001b[0m in \u001b[0;36m<module>\u001b[0;34m\u001b[0m\n\u001b[0;32m----> 1\u001b[0;31m \u001b[0;32mimport\u001b[0m \u001b[0mdata\u001b[0m\u001b[0;34m\u001b[0m\u001b[0;34m\u001b[0m\u001b[0m\n\u001b[0m",
      "\u001b[0;31mModuleNotFoundError\u001b[0m: No module named 'data'"
     ]
    }
   ],
   "source": [
    "import data"
   ]
  },
  {
   "cell_type": "markdown",
   "id": "serial-sperm",
   "metadata": {},
   "source": [
    "## Load in Maine COVID-19 case data\n",
    "\n",
    "CSV filename: `maine_covid.csv`"
   ]
  },
  {
   "cell_type": "code",
   "execution_count": 3,
   "id": "small-insider",
   "metadata": {},
   "outputs": [
    {
     "name": "stdout",
     "output_type": "stream",
     "text": [
      "-------------------------------\n",
      "maine_covid.csv (290x8)\n",
      "Headers:\n",
      "  deathIncrease\thospitalizedCurrently\thospitalizedIncrease\tinIcuCurrently\tonVentilatorCurrently\tpositiveIncrease\ttotalTestResultsIncrease\ttotalTestsViralIncrease\n",
      "-------------------------------\n",
      "Showing first 5/290 rows.\n",
      "3.0\t91.0\t3.0\t25.0\t9.0\t104.0\t37661.0\t37964.0\n",
      "2.0\t92.0\t3.0\t24.0\t11.0\t91.0\t91.0\t0.0\n",
      "0.0\t94.0\t0.0\t25.0\t10.0\t148.0\t148.0\t0.0\n",
      "2.0\t101.0\t8.0\t28.0\t10.0\t110.0\t110.0\t0.0\n",
      "4.0\t100.0\t7.0\t27.0\t9.0\t160.0\t160.0\t0.0\n",
      "\n",
      "-------------------------------\n"
     ]
    }
   ],
   "source": [
    "covidData = data.Data('maine_covid.csv')\n",
    "print(covidData)"
   ]
  },
  {
   "cell_type": "markdown",
   "id": "bottom-course",
   "metadata": {},
   "source": [
    "## 1. Predict number of people on ventilators from number of people in the ICU\n",
    "\n",
    "Given how many number of people in the ICU, can we predict the number on ventilators?"
   ]
  },
  {
   "cell_type": "markdown",
   "id": "chubby-contrast",
   "metadata": {},
   "source": [
    "What is our independent variable?"
   ]
  },
  {
   "cell_type": "code",
   "execution_count": null,
   "id": "bound-value",
   "metadata": {},
   "outputs": [],
   "source": [
    "# x var? = inIcuCurrently "
   ]
  },
  {
   "cell_type": "markdown",
   "id": "timely-offense",
   "metadata": {},
   "source": [
    "What is our dependent variable?"
   ]
  },
  {
   "cell_type": "code",
   "execution_count": null,
   "id": "promotional-mumbai",
   "metadata": {},
   "outputs": [],
   "source": [
    "# y var? = onVentilatorCurrently"
   ]
  },
  {
   "cell_type": "markdown",
   "id": "complex-wireless",
   "metadata": {},
   "source": [
    "The linear regression equation is: $$A\\vec{c} = \\vec{y}$$\n",
    "\n",
    "Let's setup:\n",
    "- `A` data matrix.\n",
    "- `y` dependent variable column vector"
   ]
  },
  {
   "cell_type": "code",
   "execution_count": 4,
   "id": "prostate-federal",
   "metadata": {},
   "outputs": [],
   "source": [
    "x = covidData.select_data(['inIcuCurrently'])\n",
    "y = covidData.select_data(['onVentilatorCurrently'])"
   ]
  },
  {
   "cell_type": "markdown",
   "id": "laden-submission",
   "metadata": {},
   "source": [
    "Let's add an intercept to the data matrix, consistent with the linear regression model:\n",
    "\n",
    "$$y = c_0 + c_1x_1$$\n",
    "\n",
    "where $x_1$ is number of people in the ICU."
   ]
  },
  {
   "cell_type": "code",
   "execution_count": 6,
   "id": "asian-professor",
   "metadata": {},
   "outputs": [
    {
     "data": {
      "text/plain": [
       "(290, 2)"
      ]
     },
     "execution_count": 6,
     "metadata": {},
     "output_type": "execute_result"
    }
   ],
   "source": [
    "A = np.hstack([np.ones([x.shape[0], 1]), x])\n",
    "A.shape  "
   ]
  },
  {
   "cell_type": "markdown",
   "id": "multiple-easter",
   "metadata": {},
   "source": [
    "Let's use SciPy's least squares solver to determine the unknown intercept $c_0$ and slope $c_1$ coefficient for us."
   ]
  },
  {
   "cell_type": "code",
   "execution_count": 7,
   "id": "initial-killing",
   "metadata": {},
   "outputs": [
    {
     "data": {
      "text/plain": [
       "array([[0.16237239],\n",
       "       [0.39510366]])"
      ]
     },
     "execution_count": 7,
     "metadata": {},
     "output_type": "execute_result"
    }
   ],
   "source": [
    "c, _, _, _ = lstsq(A, y)\n",
    "c # 1st thing is c0, second thing is c1"
   ]
  },
  {
   "cell_type": "markdown",
   "id": "historic-correlation",
   "metadata": {},
   "source": [
    "Let's draw the regression line! We need:\n",
    "- Evenly spaced sample points between the min and max independent variable values in the dataset (\"x\")\n",
    "- **Predicted** dependent variable values according to the fitted regression model (using the coefficients we solved for with SciPy)."
   ]
  },
  {
   "cell_type": "code",
   "execution_count": null,
   "id": "eight-telling",
   "metadata": {},
   "outputs": [],
   "source": []
  },
  {
   "cell_type": "code",
   "execution_count": null,
   "id": "organized-event",
   "metadata": {},
   "outputs": [],
   "source": []
  },
  {
   "cell_type": "markdown",
   "id": "utility-regulation",
   "metadata": {},
   "source": [
    "Here is the mean sum-of-square error (MSSE) and quality of fit measure (R^2) values:\n",
    "\n",
    "MSSE: 128.73\n",
    "\n",
    "R^2: 0.89"
   ]
  },
  {
   "cell_type": "markdown",
   "id": "modular-substance",
   "metadata": {},
   "source": [
    "## 2. Predict number of deaths from number of positive cases\n",
    "\n",
    "Independent and dependent variables?"
   ]
  },
  {
   "cell_type": "code",
   "execution_count": null,
   "id": "worst-symphony",
   "metadata": {},
   "outputs": [],
   "source": [
    "# ind var: \n",
    "# dep var: "
   ]
  },
  {
   "cell_type": "markdown",
   "id": "divided-planning",
   "metadata": {},
   "source": [
    "Let's follow the same steps to set this up, but for practice, let's reorder the linear regression model slope and intercept:\n",
    "\n",
    "$$y = c_0x_0 + c_1$$\n",
    "\n",
    "What is $x_0$ now?"
   ]
  },
  {
   "cell_type": "code",
   "execution_count": null,
   "id": "supposed-effects",
   "metadata": {},
   "outputs": [],
   "source": []
  },
  {
   "cell_type": "markdown",
   "id": "internal-strap",
   "metadata": {},
   "source": [
    "Here is the mean sum-of-square error (MSSE) and quality of fit measure (R^2) values:\n",
    "\n",
    "MSSE: 27.26\n",
    "\n",
    "R^2: 0.41"
   ]
  },
  {
   "cell_type": "markdown",
   "id": "detailed-victorian",
   "metadata": {},
   "source": [
    "## 3. What association between variables are you interested in exploring?\n",
    "\n",
    "Which variable are you trying to predict from another?\n",
    "\n",
    "Independent and dependent variables?"
   ]
  },
  {
   "cell_type": "code",
   "execution_count": null,
   "id": "saved-layout",
   "metadata": {},
   "outputs": [],
   "source": []
  },
  {
   "cell_type": "code",
   "execution_count": null,
   "id": "literary-sleeve",
   "metadata": {},
   "outputs": [],
   "source": [
    "# ind var: \n",
    "# dep var: "
   ]
  },
  {
   "cell_type": "markdown",
   "id": "super-intermediate",
   "metadata": {},
   "source": [
    "Let's follow the same steps to set this up, but let's return to our usual form for the linear regression model slope and intercept:\n",
    "\n",
    "$$y = c_0 + c_1x_1$$\n",
    "\n",
    "What is $x_1$ now?"
   ]
  },
  {
   "cell_type": "code",
   "execution_count": null,
   "id": "ideal-desktop",
   "metadata": {},
   "outputs": [],
   "source": [
    "s"
   ]
  }
 ],
 "metadata": {
  "kernelspec": {
   "display_name": "Python 3",
   "language": "python",
   "name": "python3"
  },
  "language_info": {
   "codemirror_mode": {
    "name": "ipython",
    "version": 3
   },
   "file_extension": ".py",
   "mimetype": "text/x-python",
   "name": "python",
   "nbconvert_exporter": "python",
   "pygments_lexer": "ipython3",
   "version": "3.8.5"
  }
 },
 "nbformat": 4,
 "nbformat_minor": 5
}
