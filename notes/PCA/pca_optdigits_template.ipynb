{
 "cells": [
  {
   "cell_type": "markdown",
   "id": "rural-demographic",
   "metadata": {},
   "source": [
    "# CS251/2: Data Analysis and Visualization\n",
    "\n",
    "## PCA Applications: Optdigits Numeric Digit Dataset\n",
    "\n",
    "Spring 2021\n",
    "\n",
    "Oliver W. Layton"
   ]
  },
  {
   "cell_type": "code",
   "execution_count": null,
   "id": "imposed-lewis",
   "metadata": {},
   "outputs": [],
   "source": [
    "import numpy as np\n",
    "import matplotlib.pyplot as plt\n",
    "import pandas as pd\n",
    "import palettable\n",
    "from plots import plotGrid, show_digit\n",
    "\n",
    "# Automatically reload external modules\n",
    "%load_ext autoreload\n",
    "%autoreload 2"
   ]
  },
  {
   "cell_type": "markdown",
   "id": "serial-sperm",
   "metadata": {},
   "source": [
    "## Load in Optdigits\n",
    "\n",
    "CSV filename: `optdigits.csv`\n",
    "\n",
    "### Format\n",
    "\n",
    "- 3823 samples\n",
    "- 64 variables (each image sample is a 8x8 images with one variable per pixel value)\n",
    "- 65 columns in `optdigits.csv` : last column is the label for the digit in the image (0-9)"
   ]
  },
  {
   "cell_type": "code",
   "execution_count": null,
   "id": "nominated-entry",
   "metadata": {},
   "outputs": [],
   "source": [
    "\n",
    "print(digits1D.shape)\n",
    "print(labels.shape)"
   ]
  },
  {
   "cell_type": "markdown",
   "id": "random-atlantic",
   "metadata": {},
   "source": [
    "Let's convert each 1D image representation into 2D (reshape) and plot some individual digits"
   ]
  },
  {
   "cell_type": "code",
   "execution_count": null,
   "id": "naval-machine",
   "metadata": {},
   "outputs": [],
   "source": []
  },
  {
   "cell_type": "code",
   "execution_count": null,
   "id": "tough-master",
   "metadata": {},
   "outputs": [],
   "source": [
    "ind = 1\n"
   ]
  },
  {
   "cell_type": "markdown",
   "id": "spread-alfred",
   "metadata": {},
   "source": [
    "Let's plot the 1st 100 digits in a 10x10 grid to get a sense of the data more holistically"
   ]
  },
  {
   "cell_type": "code",
   "execution_count": null,
   "id": "traditional-pavilion",
   "metadata": {},
   "outputs": [],
   "source": []
  },
  {
   "cell_type": "markdown",
   "id": "mineral-stress",
   "metadata": {},
   "source": [
    "## Run PCA on digit data\n",
    "\n",
    "#### Let's run PCA on one digit (e.g. 6). How many principal components to we need to accurately represent and reconstruct the handwritten digits?"
   ]
  },
  {
   "cell_type": "code",
   "execution_count": null,
   "id": "studied-voltage",
   "metadata": {},
   "outputs": [],
   "source": [
    "from pca_cov import PCA_COV"
   ]
  },
  {
   "cell_type": "markdown",
   "id": "further-grain",
   "metadata": {},
   "source": [
    "Use **logical indexing** to select image samples whose label is the digit we care about (e.g. 6)"
   ]
  },
  {
   "cell_type": "code",
   "execution_count": null,
   "id": "detailed-discrimination",
   "metadata": {},
   "outputs": [],
   "source": []
  },
  {
   "cell_type": "markdown",
   "id": "dutch-shopping",
   "metadata": {},
   "source": [
    "Create a DataFrame to hold the digit data, create a PCA object"
   ]
  },
  {
   "cell_type": "code",
   "execution_count": null,
   "id": "alpine-speech",
   "metadata": {},
   "outputs": [],
   "source": []
  },
  {
   "cell_type": "code",
   "execution_count": null,
   "id": "sonic-classic",
   "metadata": {},
   "outputs": [],
   "source": []
  },
  {
   "cell_type": "markdown",
   "id": "everyday-eligibility",
   "metadata": {},
   "source": [
    "Do we need to normalize? Let's check the global range of the digits"
   ]
  },
  {
   "cell_type": "code",
   "execution_count": null,
   "id": "inclusive-finish",
   "metadata": {},
   "outputs": [],
   "source": [
    "print(np.min(oneDigit1D))\n",
    "print(np.max(oneDigit1D))"
   ]
  },
  {
   "cell_type": "code",
   "execution_count": null,
   "id": "collect-bankruptcy",
   "metadata": {},
   "outputs": [],
   "source": []
  },
  {
   "cell_type": "markdown",
   "id": "natural-borough",
   "metadata": {},
   "source": [
    "Let's run PCA on the digit image vectors then project back from pca space to the data space using the top $k$ PCs so that we can visualize how well those $k$ capture the digit's shape.\n",
    "\n",
    "Then let's plot and compare the following:\n",
    "- the image of the mean of all the images of 6s in the dataset\n",
    "- some reconstructions of the first bunch of samples in the grid\n",
    "- original images of the 6s in the dataset"
   ]
  },
  {
   "cell_type": "code",
   "execution_count": null,
   "id": "dirty-event",
   "metadata": {},
   "outputs": [],
   "source": []
  },
  {
   "cell_type": "code",
   "execution_count": null,
   "id": "actual-tennessee",
   "metadata": {},
   "outputs": [],
   "source": []
  },
  {
   "cell_type": "code",
   "execution_count": null,
   "id": "patient-cream",
   "metadata": {},
   "outputs": [],
   "source": []
  },
  {
   "cell_type": "markdown",
   "id": "environmental-spread",
   "metadata": {},
   "source": [
    "#### Let's visualize the top k PCs themselves (eigenvectors): \n",
    "\n",
    "*Remember to transpose e_vecs when plotting as image with imshow*"
   ]
  },
  {
   "cell_type": "code",
   "execution_count": null,
   "id": "religious-database",
   "metadata": {},
   "outputs": [],
   "source": []
  },
  {
   "cell_type": "code",
   "execution_count": null,
   "id": "serial-launch",
   "metadata": {},
   "outputs": [],
   "source": [
    "cmap = palettable.cartocolors.diverging.Earth_3.get_mpl_colormap()\n"
   ]
  },
  {
   "cell_type": "markdown",
   "id": "round-excuse",
   "metadata": {},
   "source": [
    "- orange means values > the mean.\n",
    "- blue means values < the mean\n",
    "\n",
    "Each PC shows us a **basis vector**: one key component/part of the digit derived from the data. \n",
    "\n",
    "The larger the PC (smaller the PC number; closer to the top left), the more important this component is in accounting for/recreating the 6 digits in the dataset.\n",
    "\n",
    "**Together, the PCs tell us in a computational sense what it means to be a \"6\".**\n"
   ]
  },
  {
   "cell_type": "code",
   "execution_count": null,
   "id": "focal-villa",
   "metadata": {},
   "outputs": [],
   "source": []
  }
 ],
 "metadata": {
  "kernelspec": {
   "display_name": "Python 3",
   "language": "python",
   "name": "python3"
  },
  "language_info": {
   "codemirror_mode": {
    "name": "ipython",
    "version": 3
   },
   "file_extension": ".py",
   "mimetype": "text/x-python",
   "name": "python",
   "nbconvert_exporter": "python",
   "pygments_lexer": "ipython3",
   "version": "3.9.1"
  }
 },
 "nbformat": 4,
 "nbformat_minor": 5
}
