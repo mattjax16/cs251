{
 "cells": [
  {
   "cell_type": "code",
   "execution_count": 4,
   "id": "forbidden-southwest",
   "metadata": {},
   "outputs": [],
   "source": [
    "import numpy as np"
   ]
  },
  {
   "cell_type": "code",
   "execution_count": 10,
   "id": "metallic-relative",
   "metadata": {},
   "outputs": [
    {
     "name": "stdout",
     "output_type": "stream",
     "text": [
      "[[1 2 3]\n",
      " [4 5 6]]\n",
      "[[1 2 3 4]\n",
      " [4 5 6 9]]\n"
     ]
    }
   ],
   "source": [
    "#Q2\n",
    "\n",
    "#a\n",
    "c = np.arange(6).reshape(2,3)+1\n",
    "d = np.arange(8).reshape(2,4)+1\n",
    "d[1,:]=np.array([4,5,6,9])\n",
    "print(c)\n",
    "print(d)"
   ]
  },
  {
   "cell_type": "code",
   "execution_count": 12,
   "id": "entitled-turkish",
   "metadata": {},
   "outputs": [
    {
     "data": {
      "text/plain": [
       "array([[17, 22, 27, 40],\n",
       "       [22, 29, 36, 53],\n",
       "       [27, 36, 45, 66]])"
      ]
     },
     "execution_count": 12,
     "metadata": {},
     "output_type": "execute_result"
    }
   ],
   "source": [
    "c.T@d"
   ]
  },
  {
   "cell_type": "code",
   "execution_count": 15,
   "id": "frank-minutes",
   "metadata": {},
   "outputs": [
    {
     "name": "stdout",
     "output_type": "stream",
     "text": [
      "[[1 2 3]\n",
      " [4 5 6]\n",
      " [7 8 9]]\n",
      "[[ 1  2  3]\n",
      " [ 4  5  6]\n",
      " [ 7  8  9]\n",
      " [10 11 12]]\n"
     ]
    }
   ],
   "source": [
    "#Q2\n",
    "\n",
    "#b\n",
    "c = np.arange(9).reshape(3,3)+1\n",
    "d = np.arange(12).reshape(4,3)+1\n",
    "print(c)\n",
    "print(d)"
   ]
  },
  {
   "cell_type": "code",
   "execution_count": 17,
   "id": "resident-fellow",
   "metadata": {},
   "outputs": [
    {
     "data": {
      "text/plain": [
       "array([[ 30,  36,  42],\n",
       "       [ 66,  81,  96],\n",
       "       [102, 126, 150],\n",
       "       [138, 171, 204]])"
      ]
     },
     "execution_count": 17,
     "metadata": {},
     "output_type": "execute_result"
    }
   ],
   "source": [
    "d@c"
   ]
  },
  {
   "cell_type": "code",
   "execution_count": 19,
   "id": "floral-productivity",
   "metadata": {},
   "outputs": [
    {
     "data": {
      "text/plain": [
       "array([[ 14,  32,  50,  68],\n",
       "       [ 32,  77, 122, 167],\n",
       "       [ 50, 122, 194, 266]])"
      ]
     },
     "execution_count": 19,
     "metadata": {},
     "output_type": "execute_result"
    }
   ],
   "source": [
    "#or \n",
    "c@d.T"
   ]
  },
  {
   "cell_type": "code",
   "execution_count": null,
   "id": "piano-divorce",
   "metadata": {},
   "outputs": [],
   "source": []
  },
  {
   "cell_type": "code",
   "execution_count": null,
   "id": "angry-aspect",
   "metadata": {},
   "outputs": [],
   "source": []
  },
  {
   "cell_type": "code",
   "execution_count": 24,
   "id": "systematic-native",
   "metadata": {},
   "outputs": [
    {
     "name": "stdout",
     "output_type": "stream",
     "text": [
      "[[1 2]\n",
      " [3 4]]\n"
     ]
    }
   ],
   "source": [
    "#Q3\n",
    "a = np.arange(4).reshape(2,2)+1\n",
    "print(a)"
   ]
  },
  {
   "cell_type": "code",
   "execution_count": 25,
   "id": "middle-toddler",
   "metadata": {},
   "outputs": [
    {
     "data": {
      "text/plain": [
       "array([[1, 2, 1],\n",
       "       [3, 4, 1]])"
      ]
     },
     "execution_count": 25,
     "metadata": {},
     "output_type": "execute_result"
    }
   ],
   "source": [
    "np.insert(a,a.shape[1],np.ones(a.shape[0]), axis=1)"
   ]
  },
  {
   "cell_type": "code",
   "execution_count": null,
   "id": "genuine-chuck",
   "metadata": {},
   "outputs": [],
   "source": []
  },
  {
   "cell_type": "code",
   "execution_count": null,
   "id": "preceding-fabric",
   "metadata": {},
   "outputs": [],
   "source": []
  },
  {
   "cell_type": "code",
   "execution_count": 54,
   "id": "third-niagara",
   "metadata": {},
   "outputs": [
    {
     "name": "stdout",
     "output_type": "stream",
     "text": [
      "[[ 1  5 -1]\n",
      " [ 2  6 -4]\n",
      " [ 3  7 -2]\n",
      " [ 4  8 -5]\n",
      " [ 2  3  4]]\n"
     ]
    }
   ],
   "source": [
    "#q c\n",
    "a = np.array([[1,2,3,4,2],[5,6,7,8,3],[-1,-4,-2,-5,4]]).T\n",
    "print(a)"
   ]
  },
  {
   "cell_type": "markdown",
   "id": "nasty-perth",
   "metadata": {},
   "source": [
    "a. has 3 variables\n",
    "b. 5 samples\n",
    "c. (5,4)"
   ]
  },
  {
   "cell_type": "code",
   "execution_count": 55,
   "id": "devoted-whole",
   "metadata": {},
   "outputs": [],
   "source": [
    " a = np.insert(a,a.shape[1],np.ones(a.shape[0]), axis=1)"
   ]
  },
  {
   "cell_type": "code",
   "execution_count": null,
   "id": "productive-government",
   "metadata": {},
   "outputs": [],
   "source": []
  },
  {
   "cell_type": "code",
   "execution_count": 56,
   "id": "associate-router",
   "metadata": {},
   "outputs": [
    {
     "name": "stdout",
     "output_type": "stream",
     "text": [
      "[[ 1.  0.  0.  5.]\n",
      " [ 0.  1.  0. -2.]\n",
      " [ 0.  0.  1.  0.]\n",
      " [ 0.  0.  0.  1.]]\n"
     ]
    }
   ],
   "source": [
    "#d \n",
    "dar = np.identity(4)\n",
    "dar[0,3] = 5\n",
    "dar[1,3] = -2\n",
    "dar[2,3] = 0\n",
    "print(dar)"
   ]
  },
  {
   "cell_type": "code",
   "execution_count": 61,
   "id": "breeding-agent",
   "metadata": {},
   "outputs": [
    {
     "data": {
      "text/plain": [
       "array([[ 6.,  3., -1.,  1.],\n",
       "       [ 7.,  4., -4.,  1.],\n",
       "       [ 8.,  5., -2.,  1.],\n",
       "       [ 9.,  6., -5.,  1.],\n",
       "       [ 7.,  1.,  4.,  1.]])"
      ]
     },
     "execution_count": 61,
     "metadata": {},
     "output_type": "execute_result"
    }
   ],
   "source": [
    "#e.\n",
    "a@dar.T"
   ]
  },
  {
   "cell_type": "code",
   "execution_count": 64,
   "id": "ranging-insulin",
   "metadata": {},
   "outputs": [
    {
     "name": "stdout",
     "output_type": "stream",
     "text": [
      "[[0.5 0.  0.  0. ]\n",
      " [0.  2.  0.  0. ]\n",
      " [0.  0.  1.  0. ]\n",
      " [0.  0.  0.  1. ]]\n"
     ]
    }
   ],
   "source": [
    "#f\n",
    "s = np.array([[0.5,0,0,0],[0,2,0,0],[0,0,1,0],[0,0,0,1]])\n",
    "print(s)"
   ]
  },
  {
   "cell_type": "code",
   "execution_count": 65,
   "id": "experimental-classics",
   "metadata": {},
   "outputs": [
    {
     "data": {
      "text/plain": [
       "array([[ 0.5, 10. , -1. ,  1. ],\n",
       "       [ 1. , 12. , -4. ,  1. ],\n",
       "       [ 1.5, 14. , -2. ,  1. ],\n",
       "       [ 2. , 16. , -5. ,  1. ],\n",
       "       [ 1. ,  6. ,  4. ,  1. ]])"
      ]
     },
     "execution_count": 65,
     "metadata": {},
     "output_type": "execute_result"
    }
   ],
   "source": [
    "(s@a.T).T"
   ]
  },
  {
   "cell_type": "code",
   "execution_count": null,
   "id": "freelance-flexibility",
   "metadata": {},
   "outputs": [],
   "source": []
  }
 ],
 "metadata": {
  "kernelspec": {
   "display_name": "Python 3",
   "language": "python",
   "name": "python3"
  },
  "language_info": {
   "codemirror_mode": {
    "name": "ipython",
    "version": 3
   },
   "file_extension": ".py",
   "mimetype": "text/x-python",
   "name": "python",
   "nbconvert_exporter": "python",
   "pygments_lexer": "ipython3",
   "version": "3.8.5"
  }
 },
 "nbformat": 4,
 "nbformat_minor": 5
}
