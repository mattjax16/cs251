{
 "cells": [
  {
   "cell_type": "code",
   "execution_count": 1,
   "id": "subject-tongue",
   "metadata": {},
   "outputs": [],
   "source": [
    "import numpy as np\n",
    "import pandas as pd\n",
    "import matplotlib.pyplot as plt\n",
    "\n",
    "from sklearn.cluster import KMeans\n",
    "\n",
    "from scipy.spatial import distance\n",
    "import scipy.linalg"
   ]
  },
  {
   "cell_type": "markdown",
   "id": "combined-brake",
   "metadata": {},
   "source": [
    "## Task 1: Load dataset and Initialize variables\n",
    "\n",
    "### 1a) Import Data\n",
    "- Below, using numpy [genfromtxt](https://numpy.org/doc/stable/reference/generated/numpy.genfromtxt.html) load in the datasets (`file_train.csv`). the training set has 800 samples.\n",
    "\n",
    "#### Format of data\n",
    "- Column 0: x coordinate of a 2D point.\n",
    "- Column 1: y coordinate of a 2D point.\n",
    "- Column 2: class. Which spiral arm does the point belong to? Labels: [0, 1]"
   ]
  },
  {
   "cell_type": "code",
   "execution_count": 497,
   "id": "minimal-luther",
   "metadata": {},
   "outputs": [],
   "source": []
  },
  {
   "cell_type": "markdown",
   "id": "judicial-assets",
   "metadata": {},
   "source": [
    "### 1b) Create Clusters\n",
    "\n",
    "1. The number of nodes in the hidden layer will be 8.\n",
    "2. Because the dataset has 2 classes, the number of output units will be 2.  \n",
    "3. Create an instance of the [KMeans clustering algorithm class](https://scikit-learn.org/stable/modules/generated/sklearn.cluster.KMeans.html), with the number of clusters as the number of nodes in the hidden layer.\n",
    "    1. Calculate the `cluster_assignments` by fitting the KMeans clustering algorithm to the X_train data (column 0 & 1) with the classes (column 2), and predicting which clusters X_train would be assigned to.\n",
    "    2. Assign the cluster centroids to the variable `prototypes`.  \n",
    "4. Calcuate the `sigmas` for each cluster, the sigma is the mean distance between the points assigned to a prototype and the prototype.\n",
    "    1. The shape of sigmas should be an array with the length of the number of hidden nodes.\n",
    "    2. In the lab you can use [cdist](https://docs.scipy.org/doc/scipy/reference/generated/scipy.spatial.distance.cdist.html) to compute distance between the centroid and the datapoints assigned to it.  `cdist` expects two 2D arrays, so you will need to make your prototype a 2D array."
   ]
  },
  {
   "cell_type": "code",
   "execution_count": 498,
   "id": "satellite-chorus",
   "metadata": {},
   "outputs": [],
   "source": [
    "np.random.seed(10)\n"
   ]
  },
  {
   "cell_type": "markdown",
   "id": "centered-andrew",
   "metadata": {},
   "source": [
    "### 1c) Visualize Clusters\n",
    "\n",
    "1. Create a scatterplot of the training data with the x coordinates, y coordinates, coloring the points using the class\n",
    "2. On the same plot as the scatterplot. Draw the clusters\n",
    "    1. For each cluster, draw a [circle](https://matplotlib.org/stable/api/_as_gen/matplotlib.patches.Circle.html) with the center at the prototype coordinates, using the sigma as the radius.  \n",
    "    2. Add the circle to the axis. [add_patch](https://matplotlib.org/stable/api/_as_gen/matplotlib.axes.Axes.add_patch.html)\n",
    "    3. Set the alpha of the circles to be partially transparent and the color to something easily differentiated from the data.\n",
    "3. Title the plot."
   ]
  },
  {
   "cell_type": "code",
   "execution_count": null,
   "id": "latin-klein",
   "metadata": {},
   "outputs": [],
   "source": []
  },
  {
   "cell_type": "markdown",
   "id": "offshore-venue",
   "metadata": {},
   "source": [
    "## Train Network\n",
    "\n",
    "### 2a) Write Hidden Activation Method\n",
    "\n",
    "1. The hidden activation method should take in 4 parameters: X data, number of hidden nodes, sigmas and prototypes.\n",
    "2. The hidden activation method should return an hidden activation matrix with the shape `[number of datapoints, number of nodes]`\n",
    "3. For each hidden node\n",
    "    1. Calculate $\\gamma_j = \\frac{1}{2*(\\sigma_j^2)+1^{-8}}$, with sigma ($\\sigma$) representing the mean distance associated with the node\n",
    "    2. The activation of hidden unit $j$ is computed according to $H_{j} = e^{ \\left (-\\gamma_j * (\\text{dist} \\left (x, \\vec{c}_j \\right )^2\\right )}$  \n",
    "where $x$ are the data samples, $\\vec{c_j}$ is the prototype (center) of the hidden node and $dist(\\cdot, \\cdot)^2$ is the **squared** Euclidean distance.\n",
    "    3. Assign the column of the hidden activation matrix associated with the hidden node to the result of $H_{j}$"
   ]
  },
  {
   "cell_type": "code",
   "execution_count": 500,
   "id": "historical-sculpture",
   "metadata": {},
   "outputs": [],
   "source": []
  },
  {
   "cell_type": "markdown",
   "id": "connected-portuguese",
   "metadata": {},
   "source": [
    "### 2b) Create Matrices\n",
    "\n",
    "1. Create a hidden activation layer matrix with the X training data, number of hidden nodes, sigmas and prototypes\n",
    "2. Append column of 1s to the hidden activation layer matrix for bias using [hstack](https://numpy.org/doc/stable/reference/generated/numpy.hstack.html)\n",
    "3. Create a weights matrix with the shape of `[number of hidden nodes + 1, number of output nodes]`\n",
    "4. For each output node\n",
    "    1. Calculate the least-squares solution using scipy's Least Squares method (https://docs.scipy.org/doc/scipy/reference/generated/scipy.linalg.lstsq.html) with the hidden activation layer matrix as the left-hand side array and whether each data point is associated with that output node as the right hand side array (boolean array of length number of datapoints).\n",
    "    2. Assign the column associated with the output node of the weights matrix to the least-squares solution\n",
    "5. Print the resulting weights matrix"
   ]
  },
  {
   "cell_type": "code",
   "execution_count": null,
   "id": "rough-sunglasses",
   "metadata": {},
   "outputs": [],
   "source": []
  },
  {
   "cell_type": "markdown",
   "id": "tutorial-cassette",
   "metadata": {},
   "source": [
    "### 2c) Visualize Model\n",
    "\n",
    "1. Create a scatterplot of the training data with the x coordinates, y coordinates, coloring the points using the class\n",
    "2. On the same plot as the scatterplot. Draw the circles to represent the clusters and color them based on the resulting weights.\n",
    "    1. For each cluster, draw a circle with the center at the prototype coordinates, using the sigma as the radius. \n",
    "    2. Set the alpha of the circles to be semi-transparent\n",
    "    3. Using the weights, determine whether that node represents the first class or the second.  Color the classes different colors.\n",
    "3. Title the plot."
   ]
  },
  {
   "cell_type": "code",
   "execution_count": null,
   "id": "fluid-aberdeen",
   "metadata": {},
   "outputs": [],
   "source": []
  }
 ],
 "metadata": {
  "kernelspec": {
   "display_name": "Python 3",
   "language": "python",
   "name": "python3"
  },
  "language_info": {
   "codemirror_mode": {
    "name": "ipython",
    "version": 3
   },
   "file_extension": ".py",
   "mimetype": "text/x-python",
   "name": "python",
   "nbconvert_exporter": "python",
   "pygments_lexer": "ipython3",
   "version": "3.9.4"
  }
 },
 "nbformat": 4,
 "nbformat_minor": 5
}
