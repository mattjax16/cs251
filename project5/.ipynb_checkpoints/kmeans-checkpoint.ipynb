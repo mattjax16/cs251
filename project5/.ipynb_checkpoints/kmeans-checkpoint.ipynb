{
 "cells": [
  {
   "cell_type": "markdown",
   "metadata": {},
   "source": [
    "**YOUR NAMES HERE**\n",
    "\n",
    "Spring 2021\n",
    "\n",
    "CS 251: Data Analysis and Visualization\n",
    "\n",
    "Project 5: Clustering"
   ]
  },
  {
   "cell_type": "code",
   "execution_count": 1,
   "metadata": {},
   "outputs": [],
   "source": [
    "import os\n",
    "import random\n",
    "import numpy as np\n",
    "import matplotlib.pyplot as plt\n",
    "from scipy.spatial import distance\n",
    "\n",
    "import kmeans\n",
    "\n",
    "plt.style.use(['seaborn-colorblind', 'seaborn-darkgrid'])\n",
    "plt.rcParams.update({'font.size': 20})\n",
    "\n",
    "np.set_printoptions(suppress=True, precision=5)\n",
    "\n",
    "# Automatically reload external modules\n",
    "%load_ext autoreload\n",
    "%autoreload 2"
   ]
  },
  {
   "cell_type": "markdown",
   "metadata": {},
   "source": [
    "## Task 1: K-means clustering\n",
    "\n",
    "In this task, you will implement the K-means clustering algorithm and test your code on simple test data."
   ]
  },
  {
   "cell_type": "markdown",
   "metadata": {},
   "source": [
    "### 1a) Import `super_simple` data\n",
    "\n",
    "- In the cell below, use pandas to load in `super_simple.csv` (30 x,y values), convert the Dataframe to a ndarray.\n",
    "- Create a scatter plot below to see what the data look like."
   ]
  },
  {
   "cell_type": "code",
   "execution_count": 2,
   "metadata": {},
   "outputs": [],
   "source": [
    "import pandas as pd"
   ]
  },
  {
   "cell_type": "code",
   "execution_count": 3,
   "metadata": {
    "pycharm": {
     "name": "#%%\n"
    }
   },
   "outputs": [],
   "source": [
    "super_simple = pd.read_csv('data/super_simple.csv')\n",
    "super_simple = super_simple.values"
   ]
  },
  {
   "cell_type": "code",
   "execution_count": 4,
   "metadata": {
    "pycharm": {
     "name": "#%%\n"
    }
   },
   "outputs": [
    {
     "data": {
      "image/png": "[encoded data removed]",
      "text/plain": [
       "<Figure size 432x288 with 1 Axes>"
      ]
     },
     "metadata": {},
     "output_type": "display_data"
    }
   ],
   "source": [
    "plt.scatter(super_simple[:,0],super_simple[:,1])\n",
    "plt.xlabel('x')\n",
    "plt.ylabel('y')\n",
    "plt.show()"
   ]
  },
  {
   "cell_type": "markdown",
   "metadata": {},
   "source": [
    "### 1b) Implement and test core K-means methods\n",
    "\n",
    "In this task, you will implement the methods needed to cluster a dataset using K-means. The goal of this subtask is to create a scatterplot with each data sample color-coded based on the cluster it belongs to. You will be testing on the `super_simple` data.\n",
    "\n",
    "In `kmeans.py` implement the following methods, using the following test code to help you out along the way:\n",
    "- `set_data`: Update the data stored by the k-means clustering object.\n",
    "- `get_data`: Return a copy of the data.\n",
    "- `dist_pt_to_pt`: Compute the Euclidean distance from one data sample to one other. See below for formula.\n",
    "- `dist_pt_to_centroids`: Compute the distance from one data sample to all the cluster centroids.\n",
    "- `initialize`: Initalize K-means by setting the initial centroids\n",
    "- `update_labels`: Assign each data sample to the nearest centroid\n",
    "- `update_centroids`: Calculate each cluster's centroid, given the data samples that are assigned to it.\n",
    "- `inertia`: Calculate the mean squared distance between each data sample and its (nearest) centroid. This is a 'quality of clustering' performance metric for analysis\n",
    "- `cluster`: Run K-means to cluster the data. This is the actual method you call to do the clustering (above methods are helper methods).\n",
    "- `plot_clusters`: Creates a scatterplot of the data (2D only) with data assigned to each cluster sharing the same color.\n",
    "\n",
    "**Formula for Euclidean distance:**\n",
    "$$dist \\left (\\vec{p_0}, \\vec{p_1} \\right ) = \\sqrt{\\left (d_{0} - e_{0} \\right )^2 + \\left (d_{1} - e_{1} \\right )^2  + \\ldots}$$ for data samples $\\vec{p_0} = \\left (d_{0}, d_{1}, \\ldots \\right )$ and $\\vec{p_1} = \\left (e_{0}, e_{1}, \\ldots \\right )$"
   ]
  },
  {
   "cell_type": "markdown",
   "metadata": {},
   "source": [
    "#### Test constructor"
   ]
  },
  {
   "cell_type": "code",
   "execution_count": 5,
   "metadata": {},
   "outputs": [
    {
     "name": "stdout",
     "output_type": "stream",
     "text": [
      "Data isnt none? True\n",
      "Data num samples isnt none? True\n",
      "Data num samples is 30 and should be 30.\n",
      "Data num features isnt none? True\n",
      "Data num features is 2 and should be 2.\n"
     ]
    }
   ],
   "source": [
    "cluster = kmeans.KMeans(super_simple)\n",
    "print(f'Data isnt none? {np.all(cluster.data != None)}')\n",
    "print(f'Data num samples isnt none? {np.all(cluster.num_samps != None)}')\n",
    "print(f'Data num samples is {cluster.num_samps} and should be 30.')\n",
    "print(f'Data num features isnt none? {np.all(cluster.num_features != None)}')\n",
    "print(f'Data num features is {cluster.num_features} and should be 2.')\n",
    "\n"
   ]
  },
  {
   "cell_type": "markdown",
   "metadata": {},
   "source": [
    "#### Test `get_data`"
   ]
  },
  {
   "cell_type": "code",
   "execution_count": 6,
   "metadata": {},
   "outputs": [
    {
     "name": "stdout",
     "output_type": "stream",
     "text": [
      "All good!\n"
     ]
    }
   ],
   "source": [
    "super_simple_cpy = cluster.get_data()\n",
    "super_simple_cpy[0,:] = -99\n",
    "if np.all(cluster.data[0 , :] == -99):\n",
    "    print('You didnt return a copy of the data! Re-import the super_simple data and try again...')\n",
    "else:\n",
    "    print('All good!')"
   ]
  },
  {
   "cell_type": "markdown",
   "metadata": {},
   "source": [
    "#### Test `dist_pt_to_pt`"
   ]
  },
  {
   "cell_type": "code",
   "execution_count": 7,
   "metadata": {},
   "outputs": [
    {
     "name": "stdout",
     "output_type": "stream",
     "text": [
      "Your pt-to-pt distance is 16.431676725154983\n",
      "Correct pt-to-pt distance is 16.431676725154983\n"
     ]
    }
   ],
   "source": [
    "a = np.array([1, 2, 3, 4])\n",
    "b = 4*a\n",
    "print(f'Your pt-to-pt distance is {cluster.dist_pt_to_pt(a, b)}')\n",
    "print(f'Correct pt-to-pt distance is {np.linalg.norm(a-b)}')"
   ]
  },
  {
   "cell_type": "markdown",
   "metadata": {},
   "source": [
    "#### Test `dist_pt_to_centroids`"
   ]
  },
  {
   "cell_type": "code",
   "execution_count": 8,
   "metadata": {},
   "outputs": [
    {
     "name": "stdout",
     "output_type": "stream",
     "text": [
      "Your pt-to-centroids distance is [10.63015 13.45362  2.23607]\n",
      "Correct pt-to-centroids distance is [10.63015 13.45362  2.23607]\n"
     ]
    }
   ],
   "source": [
    "test_pt = np.array([[1, 2]])\n",
    "test_centroids = np.array([[9, 9], [11, 11], [0, 0]])\n",
    "print(f'Your pt-to-centroids distance is {cluster.dist_pt_to_centroids(test_pt.flatten(), test_centroids)}')\n",
    "print(f'Correct pt-to-centroids distance is {distance.cdist(test_pt, test_centroids)[0]}')"
   ]
  },
  {
   "cell_type": "markdown",
   "metadata": {},
   "source": [
    "#### Test `initialize`"
   ]
  },
  {
   "cell_type": "code",
   "execution_count": 9,
   "metadata": {},
   "outputs": [
    {
     "name": "stdout",
     "output_type": "stream",
     "text": [
      "Initial cluster centroids shape is:\n",
      "(3, 2) and should be (3, 2)\n"
     ]
    }
   ],
   "source": [
    "test_k = 3\n",
    "init_centroids = cluster.initialize(test_k)\n",
    "print(f'Initial cluster centroids shape is:\\n{init_centroids.shape} and should be (3, 2)')"
   ]
  },
  {
   "cell_type": "markdown",
   "metadata": {},
   "source": [
    "#### Test `update_labels`"
   ]
  },
  {
   "cell_type": "code",
   "execution_count": 10,
   "metadata": {},
   "outputs": [
    {
     "name": "stdout",
     "output_type": "stream",
     "text": [
      "After the first update data label step, 1st 10 of your cluster assignments are:\n",
      "[0 1 1 1 2 0 2 1 2 1]\n",
      "Your 1st 10 cluster assignments should be:\n",
      "[0 1 1 1 2 0 2 1 2 1]\n"
     ]
    }
   ],
   "source": [
    "# Consistently set initial centroids for test\n",
    "init_centroids = np.array([[ 0.338, 4.4672], [-1.8401, 3.1123], [1.7931, 0.5427]])\n",
    "\n",
    "new_labels = cluster.update_labels(init_centroids)\n",
    "print(f'After the first update data label step, 1st 10 of your cluster assignments are:\\n{new_labels[:10]}')\n",
    "print('Your 1st 10 cluster assignments should be:\\n[0 1 1 1 2 0 2 1 2 1]')"
   ]
  },
  {
   "cell_type": "markdown",
   "metadata": {},
   "source": [
    "#### Test `update_centroids`"
   ]
  },
  {
   "cell_type": "code",
   "execution_count": 11,
   "metadata": {},
   "outputs": [
    {
     "name": "stdout",
     "output_type": "stream",
     "text": [
      "After the first centroid update, your cluster assignments are:\n",
      "[[ 1.09087  4.29295]\n",
      " [-1.68133  2.85917]\n",
      " [ 2.00717  0.9184 ]]\n",
      "Your difference from previous centroids:\n",
      "[[0.75287 0.17425]\n",
      " [0.15877 0.25313]\n",
      " [0.21407 0.3757 ]]\n"
     ]
    }
   ],
   "source": [
    "new_centroids, diff_from_prev_centroids = cluster.update_centroids(test_k, new_labels, init_centroids)\n",
    "print(f'After the first centroid update, your cluster assignments are:\\n{new_centroids}')\n",
    "print(f'Your difference from previous centroids:\\n{diff_from_prev_centroids}')"
   ]
  },
  {
   "cell_type": "markdown",
   "metadata": {},
   "source": [
    "You should see:\n",
    "\n",
    "    After the first centroid update, your cluster assignments are:\n",
    "        [[ 1.09087  4.29295]\n",
    "         [-1.68133  2.85917]\n",
    "         [ 2.00717  0.9184 ]]\n",
    "    Your difference from previous centroids:\n",
    "        [[ 0.75287 -0.17425]\n",
    "         [ 0.15877 -0.25313]\n",
    "         [ 0.21407  0.3757 ]]"
   ]
  },
  {
   "cell_type": "markdown",
   "metadata": {},
   "source": [
    "#### Test `inertia`"
   ]
  },
  {
   "cell_type": "code",
   "execution_count": 12,
   "metadata": {},
   "outputs": [
    {
     "name": "stdout",
     "output_type": "stream",
     "text": [
      "After the first test k-means update, your inertia is:\n",
      "0.10738760429999998\n",
      "It should be\n",
      "0.10738760429999998\n"
     ]
    }
   ],
   "source": [
    "cluster.centroids = new_centroids\n",
    "cluster.data_centroid_labels = new_labels\n",
    "print(f'After the first test k-means update, your inertia is:\\n{cluster.compute_inertia()}\\nIt should be\\n0.10738760429999998')"
   ]
  },
  {
   "attachments": {
    "kmeans_simple_sm.png": {
     "image/png": "[encoded data removed]"
    }
   },
   "cell_type": "markdown",
   "metadata": {},
   "source": [
    "#### Test `plot_clusters` and `cluster`\n",
    "\n",
    "In the cell below:\n",
    "\n",
    "- Run K-means on the `super_simple` dataset, picking $k$ that makes sense.\n",
    "- Run `plot_clusters` to generate a scatterplot. Make sure that the cluster assignment looks like the following image:\n",
    "\n",
    "![kmeans_simple_sm.png](attachment:kmeans_simple_sm.png)"
   ]
  },
  {
   "cell_type": "code",
   "execution_count": 13,
   "metadata": {},
   "outputs": [
    {
     "data": {
      "image/png": "[encoded data removed]",
      "text/plain": [
       "<Figure size 576x576 with 1 Axes>"
      ]
     },
     "metadata": {},
     "output_type": "display_data"
    }
   ],
   "source": [
    "np.random.seed(0)\n",
    "cluster.cluster(k = 3)\n",
    "cluster.plot_clusters()\n",
    "plt.show()"
   ]
  },
  {
   "attachments": {
    "elbow_sm.png": {
     "image/png": "[encoded data removed]"
    }
   },
   "cell_type": "markdown",
   "metadata": {},
   "source": [
    "#1## 1c) Determining the number of clusters $k$\n",
    "\n",
    "In this task, you will explore how to determine the number of clusters in a dataset.\n",
    "\n",
    "- Implement `elbow_plot` in `kmeans.py`.\n",
    "- Create an elbow plot below for the `super_simple` dataset. It should look like the below image.\n",
    "\n",
    "**NOTE:** Make sure to include a meaningful x label, y label, and x tick marks.\n",
    "\n",
    "![elbow_sm.png](attachment:elbow_sm.png)"
   ]
  },
  {
   "cell_type": "code",
   "execution_count": 16,
   "metadata": {},
   "outputs": [
    {
     "data": {
      "image/png": "[encoded data removed]",
      "text/plain": [
       "<Figure size 576x576 with 1 Axes>"
      ]
     },
     "metadata": {},
     "output_type": "display_data"
    }
   ],
   "source": [
    "cluster.elbow_plot(30,title = f'Number of Ks for Simple Data\\nEffect on Inertia')\n",
    "plt.show()"
   ]
  },
  {
   "cell_type": "code",
   "execution_count": 14,
   "metadata": {
    "pycharm": {
     "name": "#%%\n"
    }
   },
   "outputs": [
    {
     "data": {
      "image/png": "[encoded data removed]",
      "text/plain": [
       "<Figure size 576x576 with 1 Axes>"
      ]
     },
     "metadata": {},
     "output_type": "display_data"
    }
   ],
   "source": [
    "cluster.elbow_plot(8,title = f'Number of Ks for Simple Data\\nEffect on Inertia')\n",
    "plt.show()"
   ]
  },
  {
   "cell_type": "markdown",
   "metadata": {},
   "source": [
    "**Question:** How many clusters are there in the `super_simple` data, based on the elbow plot that you made? Briefly explain how you determined this."
   ]
  },
  {
   "cell_type": "markdown",
   "metadata": {},
   "source": [
    "**Answer:** "
   ]
  },
  {
   "cell_type": "markdown",
   "metadata": {},
   "source": [
    "#### Determine number of clusters in `five_blobs` dataset\n",
    "\n",
    "- Load in the `five_blobs` dataset.\n",
    "- Run K-means on it.\n",
    "- Create a scatterplot to visualize the clustering.\n",
    "- Create an elbow plot showing the inertia with different $k$ values\n",
    "\n",
    "**NOTE:** Keep the random seed line below."
   ]
  },
  {
   "cell_type": "code",
   "execution_count": null,
   "metadata": {},
   "outputs": [],
   "source": [
    "np.random.seed(3)\n"
   ]
  },
  {
   "cell_type": "markdown",
   "metadata": {},
   "source": [
    "**Question:** What's wrong with clusters shown in the scatterplot? Why does it happen?"
   ]
  },
  {
   "cell_type": "markdown",
   "metadata": {},
   "source": [
    "**Answer:** "
   ]
  },
  {
   "cell_type": "markdown",
   "metadata": {},
   "source": [
    "**Question:** Based on the elbow plot, how many clusters are there? Is it easy or hard to determine? Does it make sense?"
   ]
  },
  {
   "cell_type": "markdown",
   "metadata": {},
   "source": [
    "**Answer:** "
   ]
  },
  {
   "cell_type": "markdown",
   "metadata": {},
   "source": [
    "#### Run K-means multiple times, save the best clustering\n",
    "\n",
    "To address the problems faced above, we can run K-means multiple times and take the best results for our clustering.\n",
    "\n",
    "- Implement `cluster_batch` to run K-means multiple times with a sensible $k$ value.\n",
    "- Run `plot_clusters` again.\n",
    "\n",
    "**NOTE:** Keep the random seed line below."
   ]
  },
  {
   "cell_type": "code",
   "execution_count": 68,
   "metadata": {},
   "outputs": [],
   "source": [
    "np.random.seed(3)\n"
   ]
  },
  {
   "cell_type": "markdown",
   "metadata": {},
   "source": [
    "**Question:** Did the clustering improve? Why?"
   ]
  },
  {
   "cell_type": "markdown",
   "metadata": {},
   "source": [
    "**Answer:** "
   ]
  },
  {
   "cell_type": "markdown",
   "metadata": {},
   "source": [
    "## Task 2: Image Segmentation and compression\n",
    "\n",
    "In this task, you will apply K-means to one image and to compress it (*image compression*). The idea is that you will find $k$ RGB color centroids in the image, then replace each pixel in the image with the nearest centroid. This will compress an image, by only using $k$ colors to represent it. You can also think of this as doing a simple image region segmentation: regions with similar colors will belong to the same cluster. It also makes some cool retro effects!"
   ]
  },
  {
   "cell_type": "markdown",
   "metadata": {},
   "source": [
    "### 2a) Load in baby bird image\n",
    "\n",
    "- Use the imported `imread` method below to load in the `baby_bird.jpg` image.\n",
    "- Use `plt.imshow` to display it in the notebook below. Turn off plot ticks!"
   ]
  },
  {
   "cell_type": "code",
   "execution_count": null,
   "metadata": {},
   "outputs": [],
   "source": [
    "from matplotlib.image import imread"
   ]
  },
  {
   "cell_type": "code",
   "execution_count": null,
   "metadata": {},
   "outputs": [],
   "source": []
  },
  {
   "cell_type": "markdown",
   "metadata": {},
   "source": [
    "### 2b) Preprocess image\n",
    "\n",
    "- Fill in the function below to collapse (flatten) the 2D image into a big 1D vector of RGB values. For example, for the bird image, your function should take the shape `(num_rows, num_cols, rgb)` and convert it to `(num_rows*num_cols, rgb)`.\n",
    "- Reshape the bird image from `(num_rows, num_cols, rgb)` and convert it to `(num_rows*num_cols, rgb)`. Final shape for baby bird image should be: `(61206, 3)`"
   ]
  },
  {
   "cell_type": "code",
   "execution_count": null,
   "metadata": {},
   "outputs": [],
   "source": [
    "def flatten(img):\n",
    "    '''Flattens `img` to N 1D vectors.\n",
    "    For example, for an RGB image, `(num_rows, num_cols, rgb)` -> `(num_rows*num_cols, rgb)`.\n",
    "    \n",
    "    Parameters:\n",
    "    -----------\n",
    "    img: ndarray. shape=(num_rows, num_cols, rgb)\n",
    "    \n",
    "    Returns:\n",
    "    -----------\n",
    "    Flattened `img`. ndarray. shape=(num_rows*num_cols, rgb)\n",
    "    '''\n",
    "    pass"
   ]
  },
  {
   "cell_type": "code",
   "execution_count": null,
   "metadata": {},
   "outputs": [],
   "source": []
  },
  {
   "cell_type": "markdown",
   "metadata": {},
   "source": [
    "### 2c) Cluster RGB values in image\n",
    "\n",
    "- Run K-means on the bird data vector.\n",
    "- Implement `replace_color_with_centroid`: replace every pixel in the image with the nearest centroid RGB value.\n",
    "- Compress the image by running `replace_color_with_centroid`."
   ]
  },
  {
   "cell_type": "code",
   "execution_count": null,
   "metadata": {},
   "outputs": [],
   "source": []
  },
  {
   "cell_type": "markdown",
   "metadata": {},
   "source": [
    "### 2d) Postprocessing and visualization\n",
    "\n",
    "- Rehape the compressed image data back to its original dimensions.\n",
    "- Plot it below."
   ]
  },
  {
   "cell_type": "code",
   "execution_count": null,
   "metadata": {},
   "outputs": [],
   "source": []
  },
  {
   "cell_type": "markdown",
   "metadata": {},
   "source": [
    "### 2e) Run K-means and compress an image of your choice\n",
    "\n",
    "Smaller images run a lot faster."
   ]
  },
  {
   "cell_type": "code",
   "execution_count": null,
   "metadata": {},
   "outputs": [],
   "source": []
  },
  {
   "cell_type": "markdown",
   "metadata": {},
   "source": [
    "## Extensions\n",
    "\n",
    "To receive credit for any extension, you must:\n",
    "- Not modify / prevent any code from the core project from working (e.g. make a copy before changing). In other words, **the notebook test code should still work!**\n",
    "- **You must describe what you did and what you found in detail**. This includes a summary of parameter values used in your simulations.\n",
    "- Include (*labeled!*) plots and/or numbers to present your results.\n",
    "- Write up your extensions below or in a separate notebook.\n",
    "\n",
    "**Rule of thumb: one deep, thorough extension is worth more than several quick, shallow extensions!**"
   ]
  },
  {
   "cell_type": "markdown",
   "metadata": {},
   "source": [
    "### 1) Image compression\n",
    "\n",
    "- Run K-means on other images and quantify the reduction in space required to store each image (with different values of k)."
   ]
  },
  {
   "cell_type": "markdown",
   "metadata": {},
   "source": [
    "### 2) Detect number of clusters in other datasets\n",
    "\n",
    "- Cluster other datasets and create elbow plots to detect the number of clusters."
   ]
  },
  {
   "cell_type": "markdown",
   "metadata": {},
   "source": [
    "### 3) Cluster additional datasets"
   ]
  },
  {
   "cell_type": "markdown",
   "metadata": {},
   "source": [
    "### 4) Other cluster detection metrics\n",
    "\n",
    "- Research number-of-clusters detection metrics (e.g. siloutte score) and compare them to inertia on a dataset of your choice. Which does a better job at detecting number of clusters?"
   ]
  },
  {
   "cell_type": "markdown",
   "metadata": {},
   "source": [
    "### 5) Animate the clustering process\n",
    "\n",
    "- Make an animation showing K-means clustering unfolding across iterations until the algorithm converges. "
   ]
  }
 ],
 "metadata": {
  "kernelspec": {
   "display_name": "Python 3",
   "language": "python",
   "name": "python3"
  },
  "language_info": {
   "codemirror_mode": {
    "name": "ipython",
    "version": 3
   },
   "file_extension": ".py",
   "mimetype": "text/x-python",
   "name": "python",
   "nbconvert_exporter": "python",
   "pygments_lexer": "ipython3",
   "version": "3.8.5"
  }
 },
 "nbformat": 4,
 "nbformat_minor": 2
}
