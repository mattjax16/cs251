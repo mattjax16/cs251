{
 "cells": [
  {
   "cell_type": "markdown",
   "metadata": {},
   "source": [
    "# Lab 5: K-Means"
   ]
  },
  {
   "cell_type": "code",
   "execution_count": 56,
   "metadata": {},
   "outputs": [
    {
     "name": "stdout",
     "output_type": "stream",
     "text": [
      "The autoreload extension is already loaded. To reload it, use:\n",
      "  %reload_ext autoreload\n"
     ]
    }
   ],
   "source": [
    "import os\n",
    "import random\n",
    "import numpy as np\n",
    "import matplotlib.pyplot as plt\n",
    "import pandas as pd\n",
    "from mpl_toolkits.mplot3d import Axes3D\n",
    "from scipy.cluster.vq import kmeans2\n",
    "\n",
    "plt.style.use(['seaborn-colorblind', 'seaborn-darkgrid'])\n",
    "plt.rcParams.update({'font.size': 10})\n",
    "plt.rcParams.update({'figure.figsize': [12,5]})\n",
    "\n",
    "np.set_printoptions(suppress=True, precision=5)\n",
    "\n",
    "# Automatically reload external modules\n",
    "%load_ext autoreload\n",
    "%autoreload 2"
   ]
  },
  {
   "cell_type": "markdown",
   "metadata": {},
   "source": [
    " \n",
    "\n",
    "## Task 1:  Import and explore the data\n",
    "\n",
    "We are going to be using K-Means to explore the flea beetle dataset which contains measurements of three different types of beetles.\n",
    "\n",
    "**Dataset Variables**      \n",
    "**species:** Ch. concinna, Ch. heptapotamica, and Ch. heikertingeri     \n",
    "**tars1:** width of the first joint of the first tarsus in microns    \n",
    "**tars2:** width of the second joint of the first tarsus in microns    \n",
    "**head:** the maximal width of the head between the external edges of the eyes in 0.01 mm    \n",
    "**aede1:** the maximal width of the aedeagus in the fore-part in microns     \n",
    "**aede2:** the front angle of the aedeagus (1 unit = 7.5 degrees)    \n",
    "**aede3:** the aedeagus width from the side in microns    \n",
    " \n",
    "1. Import dataset using pandas [read_csv](https://pandas.pydata.org/pandas-docs/stable/reference/api/pandas.read_csv.html) to create a Dataframe from `data/flea.csv`.\n",
    "2. Using the [Dataframe](https://pandas.pydata.org/pandas-docs/stable/reference/frame.html) documentation, Check the data\n",
    "    1. Print the shape of the data\n",
    "    2. Print first 5 rows of the data using head.\n",
    "3. Use [Dataframe.replace](https://pandas.pydata.org/pandas-docs/stable/reference/api/pandas.DataFrame.replace.html) to replace the values in the species column with integers values and assign the result to a new dataframe.\n",
    "    1. Use the dictionary: `species_dict = {'Concinna ': 0, 'Heptapot. ': 1, 'Heikert. ':2}`\n",
    "    2. Use the inplace parameter to replace the values in the dataframe.\n",
    "    4. Print the first 5 items of the updated dataframe to make sure that the replace worked correctly\n",
    "2. Graph a scatterplot of the `tars1` and `aede3` columns using plt.scatter\n",
    "    1. Scatter Parameters\n",
    "        1. Graph `tars1` on the x axis and `aede3` on the y axis\n",
    "        3. Use the `species` column of your data for the color with a black edgecolor\n",
    "        4. Use an perceptually uniform sequential [colormap](https://matplotlib.org/tutorials/colors/colormaps.html). \n",
    "    3. Have a title, and axis labels."
   ]
  },
  {
   "cell_type": "code",
   "execution_count": 1,
   "metadata": {},
   "outputs": [],
   "source": [
    "\n",
    "species_dict = {'Concinna ': 0, 'Heptapot. ': 1, 'Heikert. ':2}"
   ]
  },
  {
   "cell_type": "markdown",
   "metadata": {},
   "source": [
    "## Task 2: K-Means\n",
    "\n",
    "### Part 1\n",
    "\n",
    "1. Use the [SciPy](https://docs.scipy.org/doc/scipy/reference/generated/scipy.cluster.vq.kmeans2.html) documentation to find out how to calculate K-Means on for the columns `tars1` and `aede3` using  kmeans2 \n",
    "    1. Use 3 clusters and set the method of initialization to random. \n",
    "    1. Make sure to convert the data to floats, with `.astype('float')` before running the analysis.\n",
    "2. Calculate how well a data series is fitted to the clusters and print the result\n",
    "    1. For each datapoint calculate the euclidean distance between that datapoint and its cluster\n",
    "    2. Sum the euclidean distances\n",
    "3. Graph the results of the clustering next in a plot next to the actual data. (2 subplots)\n",
    "    1. Graph 'tars1' on the x axis and 'aede3' on the y axis\n",
    "    3. Have a title for each subplot, and axis labels.\n",
    "    1. Graph the original data following the instructions from Part 1 in the first subplot. \n",
    "        1. Use the `species` column of your data for the color with a black edgecolor\n",
    "    1. Graph the results of K-means in the second subplot. [See example](https://docs.scipy.org/doc/scipy/reference/generated/scipy.cluster.vq.kmeans2.html)\n",
    "        1. Graph the data colored by the clusters with the centroids labeled.  "
   ]
  },
  {
   "cell_type": "code",
   "execution_count": null,
   "metadata": {},
   "outputs": [],
   "source": []
  },
  {
   "cell_type": "markdown",
   "metadata": {},
   "source": [
    "## Task 3: Analysis\n",
    "\n",
    "1. Write code that calculates the kmeans2 50 times\n",
    "2. Save the centroids, labels and how well a data series is fitted to the clusters for each test.  "
   ]
  },
  {
   "cell_type": "code",
   "execution_count": null,
   "metadata": {},
   "outputs": [],
   "source": []
  },
  {
   "cell_type": "markdown",
   "metadata": {},
   "source": [
    "3. Graph a plot with 3 subplots\n",
    "    1. The first plot should graph Graph 'tars1' on the x axis and 'aede3' on the y axis with the original labels\n",
    "    2. Using your above analysis the second plot should graph the results with the best kmeans fit using the saved labels and centroids from the above analysis.\n",
    "    2. Using your above analysis the third plot should graph the results with the worst kmeans fit using the saved labels and centroids from the above analysis.\n",
    "    4. For formatting, follow the instructions in Task 2."
   ]
  },
  {
   "cell_type": "code",
   "execution_count": null,
   "metadata": {},
   "outputs": [],
   "source": []
  },
  {
   "cell_type": "markdown",
   "metadata": {},
   "source": [
    "#### Question 1: Why does kmeans produce different solutions?\n",
    "\n",
    "#### Answer 1:"
   ]
  },
  {
   "cell_type": "code",
   "execution_count": null,
   "metadata": {},
   "outputs": [],
   "source": []
  }
 ],
 "metadata": {
  "kernelspec": {
   "display_name": "Python 3",
   "language": "python",
   "name": "python3"
  },
  "language_info": {
   "codemirror_mode": {
    "name": "ipython",
    "version": 3
   },
   "file_extension": ".py",
   "mimetype": "text/x-python",
   "name": "python",
   "nbconvert_exporter": "python",
   "pygments_lexer": "ipython3",
   "version": "3.9.2"
  }
 },
 "nbformat": 4,
 "nbformat_minor": 4
}
