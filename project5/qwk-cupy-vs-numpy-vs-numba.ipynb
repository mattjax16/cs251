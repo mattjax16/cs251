{
 "cells": [
  {
   "cell_type": "code",
   "execution_count": 1,
   "metadata": {},
   "outputs": [],
   "source": [
    "import os\n",
    "GPU_id = 0\n",
    "os.environ['CUDA_VISIBLE_DEVICES'] = str(GPU_id)"
   ]
  },
  {
   "cell_type": "code",
   "execution_count": 2,
   "metadata": {},
   "outputs": [],
   "source": [
    "import warnings\n",
    "warnings.filterwarnings(\"ignore\")\n",
    "\n",
    "from numba import jit \n",
    "import numpy as np\n",
    "from sklearn.metrics import cohen_kappa_score, confusion_matrix\n",
    "import cupy as cp\n",
    "import time\n",
    "import matplotlib.pyplot as plt"
   ]
  },
  {
   "cell_type": "markdown",
   "metadata": {},
   "source": [
    "### cupy implementation\n",
    "CuPy is an open-source matrix library accelerated with NVIDIA CUDA. https://cupy.chainer.org/\n",
    "\n",
    "In this notebook, we show how simple it is to drop-in replace numpy functions with cupy and deliver 100x speedup."
   ]
  },
  {
   "cell_type": "code",
   "execution_count": 3,
   "metadata": {},
   "outputs": [],
   "source": [
    "def cupy_hist_int(x,n):\n",
    "    bins = cp.arange(n+1)-0.5\n",
    "    hist,_ = cp.histogram(x,bins=bins)\n",
    "    return hist\n",
    "\n",
    "def cupy_confusion_matrix(true,pred,n):\n",
    "    cf = true*n+pred\n",
    "    cf = cupy_hist_int(cf,n*n)\n",
    "    return cf.reshape([n,n])\n",
    "\n",
    "def cupy_quadKappa(act,pred,n=4,hist_range=(0,3)):\n",
    "    act = cp.asarray(act,dtype=cp.int32)\n",
    "    pred = cp.asarray(pred,dtype=cp.int32)\n",
    "    O = cupy_confusion_matrix(act,pred,n)\n",
    "    O = cp.divide(O,cp.sum(O))\n",
    "    \n",
    "    W = cp.zeros((n,n))\n",
    "    for i in range(n):\n",
    "        for j in range(n):\n",
    "            W[i][j] = ((i-j)**2)/((n-1)**2)\n",
    "            \n",
    "    act_hist = cupy_hist_int(act,n)\n",
    "    prd_hist = cupy_hist_int(pred,n)\n",
    "    \n",
    "    E = cp.outer(act_hist,prd_hist)\n",
    "    E = cp.divide(E,cp.sum(E))\n",
    "    \n",
    "    num = cp.sum(cp.multiply(W,O))\n",
    "    den = cp.sum(cp.multiply(W,E))\n",
    "        \n",
    "    return 1-np.divide(num,den)"
   ]
  },
  {
   "cell_type": "markdown",
   "metadata": {},
   "source": [
    "### @afajohn Method¶\n",
    "https://www.kaggle.com/afajohn/quadratic-weighted-kappa-with-numpy-flavor"
   ]
  },
  {
   "cell_type": "code",
   "execution_count": 4,
   "metadata": {},
   "outputs": [],
   "source": [
    "def quadKappa(act,pred,n=4,hist_range=(0,3)):\n",
    "    \n",
    "    O = confusion_matrix(act,pred)\n",
    "    O = np.divide(O,np.sum(O))\n",
    "    \n",
    "    W = np.zeros((n,n))\n",
    "    for i in range(n):\n",
    "        for j in range(n):\n",
    "            W[i][j] = ((i-j)**2)/((n-1)**2)\n",
    "            \n",
    "    act_hist = np.histogram(act,bins=n,range=hist_range)[0]\n",
    "    prd_hist = np.histogram(pred,bins=n,range=hist_range)[0]\n",
    "    \n",
    "    E = np.outer(act_hist,prd_hist)\n",
    "    E = np.divide(E,np.sum(E))\n",
    "    \n",
    "    num = np.sum(np.multiply(W,O))\n",
    "    den = np.sum(np.multiply(W,E))\n",
    "        \n",
    "    return 1-np.divide(num,den)"
   ]
  },
  {
   "cell_type": "markdown",
   "metadata": {},
   "source": [
    "### @cpmpml\n",
    "https://www.kaggle.com/cpmpml/ultra-fast-qwk-calc-method"
   ]
  },
  {
   "cell_type": "code",
   "execution_count": 5,
   "metadata": {},
   "outputs": [],
   "source": [
    "@jit\n",
    "def qwk3(a1, a2, max_rat=3):\n",
    "    assert(len(a1) == len(a2))\n",
    "    a1 = np.asarray(a1, dtype=np.int32)\n",
    "    a2 = np.asarray(a2, dtype=np.int32)\n",
    "\n",
    "    hist1 = np.zeros((max_rat + 1, ))\n",
    "    hist2 = np.zeros((max_rat + 1, ))\n",
    "\n",
    "    o = 0\n",
    "    for k in range(a1.shape[0]):\n",
    "        i, j = a1[k], a2[k]\n",
    "        hist1[i] += 1\n",
    "        hist2[j] += 1\n",
    "        o +=  (i - j) * (i - j)\n",
    "\n",
    "    e = 0\n",
    "    for i in range(max_rat + 1):\n",
    "        for j in range(max_rat + 1):\n",
    "            e += hist1[i] * hist2[j] * (i - j) * (i - j)\n",
    "\n",
    "    e = e / a1.shape[0]\n",
    "\n",
    "    return 1 - o / e"
   ]
  },
  {
   "cell_type": "code",
   "execution_count": 6,
   "metadata": {},
   "outputs": [
    {
     "data": {
      "text/plain": "(1000000, 1000000)"
     },
     "execution_count": 6,
     "metadata": {},
     "output_type": "execute_result"
    }
   ],
   "source": [
    "size = 1000000\n",
    "a = np.random.randint(0, 4, size)\n",
    "p = np.random.randint(0, 4, size)\n",
    "a.size, p.size"
   ]
  },
  {
   "cell_type": "code",
   "execution_count": 7,
   "metadata": {},
   "outputs": [
    {
     "name": "stdout",
     "output_type": "stream",
     "text": [
      "CPU times: user 619 ms, sys: 16.3 ms, total: 635 ms\n",
      "Wall time: 636 ms\n"
     ]
    },
    {
     "data": {
      "text/plain": "-0.0018242445183236367"
     },
     "execution_count": 7,
     "metadata": {},
     "output_type": "execute_result"
    }
   ],
   "source": [
    "%%time\n",
    "quadKappa(a,p)"
   ]
  },
  {
   "cell_type": "markdown",
   "metadata": {},
   "source": [
    "### numba relies on just in time compiler so the running time for the first execution will be slower."
   ]
  },
  {
   "cell_type": "code",
   "execution_count": 8,
   "metadata": {},
   "outputs": [
    {
     "name": "stdout",
     "output_type": "stream",
     "text": [
      "CPU times: user 367 ms, sys: 3.8 ms, total: 371 ms\n",
      "Wall time: 374 ms\n"
     ]
    },
    {
     "data": {
      "text/plain": "-0.0018242445183234146"
     },
     "execution_count": 8,
     "metadata": {},
     "output_type": "execute_result"
    }
   ],
   "source": [
    "%%time\n",
    "qwk3(a,p)"
   ]
  },
  {
   "cell_type": "code",
   "execution_count": 9,
   "metadata": {},
   "outputs": [
    {
     "name": "stdout",
     "output_type": "stream",
     "text": [
      "CPU times: user 4 ms, sys: 4 ms, total: 8 ms\n",
      "Wall time: 9.53 ms\n"
     ]
    },
    {
     "data": {
      "text/plain": [
       "-0.0005037798242659708"
      ]
     },
     "execution_count": 9,
     "metadata": {},
     "output_type": "execute_result"
    }
   ],
   "source": [
    "%%time\n",
    "qwk3(a,p)"
   ]
  },
  {
   "cell_type": "markdown",
   "metadata": {},
   "source": [
    "### cupy uses on-the-fly kernel synthesis so the running time for the first execution will also be slower."
   ]
  },
  {
   "cell_type": "code",
   "execution_count": 10,
   "metadata": {},
   "outputs": [
    {
     "name": "stdout",
     "output_type": "stream",
     "text": [
      "CPU times: user 4.72 s, sys: 232 ms, total: 4.95 s\n",
      "Wall time: 5.21 s\n"
     ]
    },
    {
     "data": {
      "text/plain": [
       "array(-0.00050378)"
      ]
     },
     "execution_count": 10,
     "metadata": {},
     "output_type": "execute_result"
    }
   ],
   "source": [
    "%%time\n",
    "cupy_quadKappa(a,p)"
   ]
  },
  {
   "cell_type": "code",
   "execution_count": 11,
   "metadata": {},
   "outputs": [
    {
     "name": "stdout",
     "output_type": "stream",
     "text": [
      "CPU times: user 8 ms, sys: 4 ms, total: 12 ms\n",
      "Wall time: 8.11 ms\n"
     ]
    },
    {
     "data": {
      "text/plain": [
       "array(-0.00050378)"
      ]
     },
     "execution_count": 11,
     "metadata": {},
     "output_type": "execute_result"
    }
   ],
   "source": [
    "%%time\n",
    "cupy_quadKappa(a,p)"
   ]
  },
  {
   "cell_type": "code",
   "execution_count": 9,
   "metadata": {},
   "outputs": [],
   "source": [
    "cupy_time = []\n",
    "numpy_time = []\n",
    "numba_time = []\n",
    "for i in range(5,9):\n",
    "    size = 10**i\n",
    "    a = np.random.randint(0, 4, size)\n",
    "    p = np.random.randint(0, 4, size)\n",
    "    \n",
    "    start = time.time()\n",
    "    quadKappa(a,p)\n",
    "    numpy_time.append(time.time()-start)\n",
    "    \n",
    "    start = time.time()\n",
    "    cupy_quadKappa(a,p)\n",
    "    cupy_time.append(time.time()-start)\n",
    "    \n",
    "    start = time.time()\n",
    "    qwk3(a,p)\n",
    "    numba_time.append(time.time()-start)"
   ]
  },
  {
   "cell_type": "code",
   "execution_count": 10,
   "metadata": {},
   "outputs": [
    {
     "data": {
      "text/plain": "Text(0.5, 1.0, 'qwk: cupy vs numpy vs numba')"
     },
     "execution_count": 10,
     "metadata": {},
     "output_type": "execute_result"
    },
    {
     "data": {
      "text/plain": "<Figure size 1080x360 with 1 Axes>",
      "image/png": "[encoded data removed]"
     },
     "metadata": {
      "needs_background": "light"
     },
     "output_type": "display_data"
    }
   ],
   "source": [
    "plt.figure(figsize=(15,5))\n",
    "colors = ['b','g','r']\n",
    "xs = [10**i for i in range(5,9)]\n",
    "plt.yscale('log')\n",
    "plt.xlim(5*10**4,5*10**8)\n",
    "plt.ylim(10**(-5),10**3)\n",
    "plt.xscale('log')\n",
    "plt.xlabel('number of sample')\n",
    "plt.ylabel('run time: seconds')\n",
    "plt.grid()\n",
    "\n",
    "plt.scatter(xs,numpy_time,c='b',label='numpy')  \n",
    "plt.scatter(xs,cupy_time,c='g',label='cupy') \n",
    "plt.scatter(xs,numba_time,c='r',label='numba') \n",
    "\n",
    "plt.plot(xs,numpy_time,c='b')  \n",
    "plt.plot(xs,cupy_time,c='g') \n",
    "plt.plot(xs,numba_time,c='r') \n",
    "plt.legend(loc='upper left')\n",
    "plt.title('qwk: cupy vs numpy vs numba')"
   ]
  },
  {
   "cell_type": "markdown",
   "metadata": {},
   "source": [
    "### It is amazing that numba is slightly faster than cupy despite it's on cpu. Both are about 100x faster than numpy. Cupy is still convenient without much code change if your baseline code is in numpy."
   ]
  },
  {
   "cell_type": "code",
   "execution_count": null,
   "outputs": [],
   "source": [],
   "metadata": {
    "collapsed": false,
    "pycharm": {
     "name": "#%%\n"
    }
   }
  }
 ],
 "metadata": {
  "kernelspec": {
   "display_name": "Python 3",
   "language": "python",
   "name": "python3"
  },
  "language_info": {
   "codemirror_mode": {
    "name": "ipython",
    "version": 3
   },
   "file_extension": ".py",
   "mimetype": "text/x-python",
   "name": "python",
   "nbconvert_exporter": "python",
   "pygments_lexer": "ipython3",
   "version": "3.6.6"
  }
 },
 "nbformat": 4,
 "nbformat_minor": 1
}