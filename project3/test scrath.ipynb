{
 "cells": [
  {
   "cell_type": "code",
   "execution_count": 34,
   "id": "aware-current",
   "metadata": {},
   "outputs": [],
   "source": [
    "\n",
    "import transformation\n",
    "import os\n",
    "import random\n",
    "import numpy as np\n",
    "import matplotlib.pyplot as plt\n",
    "import data\n",
    "import scipy\n",
    "import linear_regression\n",
    "\n",
    "plt.style.use(['seaborn-colorblind', 'seaborn-darkgrid'])\n",
    "plt.rcParams.update({'font.size': 20})\n",
    "\n",
    "np.set_printoptions(suppress=True, precision=5)"
   ]
  },
  {
   "cell_type": "code",
   "execution_count": 35,
   "id": "charming-armenia",
   "metadata": {},
   "outputs": [],
   "source": [
    "def qr_factorization(A):\n",
    "    m, n = A.shape\n",
    "    Q = np.zeros((m, n))\n",
    "    R = np.zeros((n, n))\n",
    "\n",
    "    for j in range(n):\n",
    "        v = A[:, j]\n",
    "\n",
    "        for i in range(j):\n",
    "            q = Q[:, i]\n",
    "            R[i, j] = q.dot(v)\n",
    "            v = v - R[i, j] * q\n",
    "\n",
    "        norm = np.linalg.norm(v)\n",
    "        Q[:, j] = v / norm\n",
    "        R[j, j] = norm\n",
    "    return Q, R\n",
    "\n",
    "\n",
    "def qr_factorization_final(A):\n",
    "    m, n = A.shape\n",
    "    Q = np.zeros((m, n))\n",
    "    for j in range(n):\n",
    "        u = A[:, j]\n",
    "        for i in range(j):\n",
    "            u = u - (Q[:, i]@u) * Q[:, i]\n",
    "        Q[:, j] = u/np.linalg.norm(u)\n",
    "\n",
    "    R = Q.T@A\n",
    "    return Q, R\n",
    "\n",
    "def gram_schmidt_process(A):\n",
    "    \"\"\"Perform QR decomposition of matrix A using Gram-Schmidt process.\"\"\"\n",
    "    (num_rows, num_cols) = np.shape(A)\n",
    "\n",
    "    # Initialize empty orthogonal matrix Q.\n",
    "    Q = np.empty([num_rows, num_rows])\n",
    "    cnt = 0\n",
    "\n",
    "    # Compute orthogonal matrix Q.\n",
    "    for a in A.T:\n",
    "        u = np.copy(a)\n",
    "        for i in range(0, cnt):\n",
    "            proj = np.dot(np.dot(Q[:, i].T, a), Q[:, i])\n",
    "            u = u - proj\n",
    "\n",
    "        e = u / np.linalg.norm(u)\n",
    "        Q[:, cnt] = e\n",
    "\n",
    "        cnt += 1  # Increase columns counter.\n",
    "\n",
    "    # Compute upper triangular matrix R.\n",
    "    R = np.dot(Q.T, A)\n",
    "\n",
    "    return (Q, R)\n",
    "\n",
    "\n",
    "import time"
   ]
  },
  {
   "cell_type": "code",
   "execution_count": 36,
   "id": "south-mathematics",
   "metadata": {},
   "outputs": [],
   "source": [
    "iris_filename = 'data/iris.csv'\n",
    "iris_data = data.Data(iris_filename)\n",
    "\n",
    "A = iris_data.select_data(['sepal_length', 'petal_width'])\n",
    "A1 = np.hstack([A, np.ones([len(A), 1])])\n",
    "\n",
    "\n"
   ]
  },
  {
   "cell_type": "code",
   "execution_count": null,
   "id": "martial-sheep",
   "metadata": {},
   "outputs": [],
   "source": []
  },
  {
   "cell_type": "code",
   "execution_count": null,
   "id": "intelligent-intensity",
   "metadata": {},
   "outputs": [],
   "source": []
  },
  {
   "cell_type": "code",
   "execution_count": null,
   "id": "brown-attendance",
   "metadata": {},
   "outputs": [],
   "source": []
  },
  {
   "cell_type": "code",
   "execution_count": 30,
   "id": "copyrighted-humanitarian",
   "metadata": {},
   "outputs": [
    {
     "name": "stdout",
     "output_type": "stream",
     "text": [
      "----0.000251770020----\n",
      "----0.000219106674----\n"
     ]
    }
   ],
   "source": [
    "st = time.time()\n",
    "t1 ,t2  = qr_factorization(A1)\n",
    "print(\"----%.12f----\"%(time.time()-st))\n",
    "\n",
    "\n",
    "st = time.time()\n",
    "t3, t4 = qr_factorization_final(A1)\n",
    "print(\"----%.12f----\"%(time.time()-st))"
   ]
  },
  {
   "cell_type": "code",
   "execution_count": 37,
   "id": "color-salmon",
   "metadata": {},
   "outputs": [
    {
     "name": "stdout",
     "output_type": "stream",
     "text": [
      "46.8 µs ± 231 ns per loop (mean ± std. dev. of 7 runs, 10000 loops each)\n"
     ]
    }
   ],
   "source": [
    "%timeit qr_factorization(A1)\n"
   ]
  },
  {
   "cell_type": "code",
   "execution_count": 38,
   "id": "numerical-modification",
   "metadata": {},
   "outputs": [
    {
     "name": "stdout",
     "output_type": "stream",
     "text": [
      "53 µs ± 340 ns per loop (mean ± std. dev. of 7 runs, 10000 loops each)\n"
     ]
    }
   ],
   "source": [
    "%timeit qr_factorization_final(A1)"
   ]
  },
  {
   "cell_type": "code",
   "execution_count": 33,
   "id": "promising-bermuda",
   "metadata": {},
   "outputs": [
    {
     "ename": "NameError",
     "evalue": "name 'Q' is not defined",
     "output_type": "error",
     "traceback": [
      "\u001b[0;31m---------------------------------------------------------------------------\u001b[0m",
      "\u001b[0;31mNameError\u001b[0m                                 Traceback (most recent call last)",
      "\u001b[0;32m<ipython-input-33-cbf1bd89097d>\u001b[0m in \u001b[0;36m<module>\u001b[0;34m\u001b[0m\n\u001b[0;32m----> 1\u001b[0;31m \u001b[0mprint\u001b[0m\u001b[0;34m(\u001b[0m\u001b[0mQ\u001b[0m\u001b[0;34m)\u001b[0m\u001b[0;34m\u001b[0m\u001b[0;34m\u001b[0m\u001b[0m\n\u001b[0m",
      "\u001b[0;31mNameError\u001b[0m: name 'Q' is not defined"
     ]
    }
   ],
   "source": [
    "print(Q)"
   ]
  },
  {
   "cell_type": "code",
   "execution_count": null,
   "id": "attached-comedy",
   "metadata": {},
   "outputs": [],
   "source": []
  },
  {
   "cell_type": "code",
   "execution_count": null,
   "id": "leading-minute",
   "metadata": {},
   "outputs": [],
   "source": []
  },
  {
   "cell_type": "code",
   "execution_count": null,
   "id": "amino-grenada",
   "metadata": {},
   "outputs": [],
   "source": []
  }
 ],
 "metadata": {
  "kernelspec": {
   "display_name": "Python 3",
   "language": "python",
   "name": "python3"
  },
  "language_info": {
   "codemirror_mode": {
    "name": "ipython",
    "version": 3
   },
   "file_extension": ".py",
   "mimetype": "text/x-python",
   "name": "python",
   "nbconvert_exporter": "python",
   "pygments_lexer": "ipython3",
   "version": "3.8.2"
  }
 },
 "nbformat": 4,
 "nbformat_minor": 5
}
