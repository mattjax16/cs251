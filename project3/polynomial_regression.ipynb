{
 "cells": [
  {
   "cell_type": "markdown",
   "metadata": {},
   "source": [
    "**YOUR NAME HERE**\n",
    "\n",
    "Spring 2021\n",
    "\n",
    "CS 251: Data Analysis and Visualization\n",
    "\n",
    "Project 3: Linear regression\n",
    "\n",
    "Polynomial regression"
   ]
  },
  {
   "cell_type": "code",
   "execution_count": 1,
   "metadata": {},
   "outputs": [],
   "source": [
    "import os\n",
    "import random\n",
    "import numpy as np\n",
    "import matplotlib.pyplot as plt\n",
    "\n",
    "from data import *\n",
    "import linear_regression\n",
    "\n",
    "plt.style.use(['seaborn-colorblind', 'seaborn-darkgrid'])\n",
    "plt.rcParams.update({'font.size': 20})\n",
    "\n",
    "np.set_printoptions(suppress=True, precision=5)\n",
    "\n",
    "# Automatically reload external modules\n",
    "%load_ext autoreload\n",
    "%autoreload 2"
   ]
  },
  {
   "cell_type": "markdown",
   "metadata": {},
   "source": [
    "## Task 3: Polynomial Regression"
   ]
  },
  {
   "cell_type": "markdown",
   "metadata": {},
   "source": [
    "We have been creating linear regression fits of form $y =c_0 + c_1x_1 + c_2x_2 + \\ldots$, where $x_i$ are independent variables (columns of $A$) and $c_i$ are corresponding coefficients in $c$. However, this equation only allows us to fit data with a line/plane. This may not be the best choice for all datasets.\n",
    "\n",
    "In this task, you will generalize the linear regression model form to include higher-degree (>1) polynomial terms and explore how this may improve fits to complex data. For example, assume we're doing a simple linear regression with independent variable $x_1$ and dependent variable $y$. A linear regression that fits data with a quadratic shape has the form$$y = c_0 + c_1x_1 + c_2x_1^2$$\n",
    "\n",
    "Complete the following steps to add support for polynomial regression in your `LinearRegression` class."
   ]
  },
  {
   "cell_type": "markdown",
   "metadata": {},
   "source": [
    "### 3a) Build the polynomial matrix of the independent variable\n",
    "\n",
    "The polynomial matrix contains the independent variable raised to a different power in each column. For example, if $A$ originally has a column vector for the independent variable $\\vec{x_1}$ ($A = [\\vec{x_1}]$) and we wanted to make the above quadratic model, we would append $x_1^2$ ($A = [\\vec{x_1}, \\vec{x_1^2}]$).\n",
    "\n",
    "**TODO:**\n",
    "Implement and test `LinearRegression::make_polynomial_matrix` (*helper method*) that takes care of raising the independent variable samples to different powers.\n",
    "\n",
    "##### Test `make_polynomial_matrix`"
   ]
  },
  {
   "cell_type": "code",
   "execution_count": 6,
   "metadata": {},
   "outputs": [
    {
     "name": "stdout",
     "output_type": "stream",
     "text": [
      "Your polynomial matrix:\n",
      "[[  1.   1.   1.]\n",
      " [  2.   4.   8.]\n",
      " [  3.   9.  27.]\n",
      " [  4.  16.  64.]\n",
      " [  5.  25. 125.]\n",
      " [  6.  36. 216.]\n",
      " [  7.  49. 343.]\n",
      " [  8.  64. 512.]\n",
      " [  9.  81. 729.]]\n",
      "It should look like:\n",
      " \n",
      "[[  1.   1.   1.]\n",
      " [  2.   4.   8.]\n",
      " [  3.   9.  27.]\n",
      " [  4.  16.  64.]\n",
      " [  5.  25. 125.]\n",
      " [  6.  36. 216.]\n",
      " [  7.  49. 343.]\n",
      " [  8.  64. 512.]\n",
      " [  9.  81. 729.]]\n",
      "\n"
     ]
    }
   ],
   "source": [
    "test_A = np.r_[1:10].reshape((9, 1))\n",
    "test_p = 3\n",
    "\n",
    "# Test cubic\n",
    "lin_reg = linear_regression.LinearRegression(data.Data())\n",
    "print(f'Your polynomial matrix:\\n{lin_reg.make_polynomial_matrix(test_A, 3)}')\n",
    "\n",
    "true_mat = '''\n",
    "[[  1.   1.   1.]\n",
    " [  2.   4.   8.]\n",
    " [  3.   9.  27.]\n",
    " [  4.  16.  64.]\n",
    " [  5.  25. 125.]\n",
    " [  6.  36. 216.]\n",
    " [  7.  49. 343.]\n",
    " [  8.  64. 512.]\n",
    " [  9.  81. 729.]]\n",
    "'''\n",
    "print('It should look like:\\n', true_mat)"
   ]
  },
  {
   "cell_type": "markdown",
   "metadata": {},
   "source": [
    "### 3b) Add support for polynomial regression\n",
    "\n",
    "This can be performed in 3 steps:\n",
    "\n",
    "\n",
    "1. Implement the `LinearRegression::polynomial_regression` method to perform the polynomial regression (*alternate option: you may instead update your `linear_regression` method. If you decide to go this route, add a keyword argument for the polynomial degree with a default value of 1 to preserve compatability with regular linear regression.*).\n",
    "2. Update `LinearRegression::predict`: Run `make_polynomial_matrix` on the \"A\" matrix that enters into the computation $y = Ac$ if `self.p > 1`.\n",
    "3. Add support for plotting polynomials in `LinearRegression::scatter` by generalizing the plotted regression line to a regression polynomial if `self.p > 1`:\n",
    "    - Getting your polynomial \"x\" values: Run `make_polynomial_matrix` on your evenly-spaced line sample points. To get the shapes to work out, you may need to add a trailing singleton dimension to your \"x\" sample points. For example, if you have 1000 \"x\" sample points, make the shape `(1000, 1)` rather than `(1000,)`.\n",
    "    - Getting your polynomial \"y\" values: Use matrix multiplication with your polynomial regression model slopes and/or intercepts.\n",
    "\n",
    "*There is no explicit test code here — visualizing the fit in the next subtask will help you debug!*"
   ]
  },
  {
   "cell_type": "markdown",
   "metadata": {},
   "source": [
    "### 3c) Run a polynomial regression\n",
    "\n",
    "In this subtask, you will debug your polynomial regression implementation and experiment fitting some data with it.\n",
    "\n",
    "#### Test: Polynomial regression with linear model ($p = 1$)\n",
    "\n",
    "- In the cell below, fit the `poly_data.csv` dataset using polynomial regression where the polynomial degree $p = 1$.\n",
    "- Use `scatter` to plot the results.\n",
    "- Print out the mean sum of squares error.\n",
    "\n",
    "The plot created by running the below cell should \"look right\" to you."
   ]
  },
  {
   "cell_type": "code",
   "execution_count": 7,
   "metadata": {},
   "outputs": [
    {
     "data": {
      "image/png": "[encoded data removed]",
      "text/plain": [
       "<Figure size 576x396 with 1 Axes>"
      ]
     },
     "metadata": {},
     "output_type": "display_data"
    },
    {
     "name": "stdout",
     "output_type": "stream",
     "text": [
      "MSSE: 71.81095284569933\n"
     ]
    }
   ],
   "source": [
    "poly_filename = 'data/poly_data.csv'\n",
    "poly_data = data.Data(poly_filename)\n",
    "poly_lin_reg = linear_regression.LinearRegression(poly_data)\n",
    "poly_lin_reg.linear_regression(['X'], 'Y')\n",
    "poly_lin_reg.scatter('X','Y')\n",
    "poly_lin_reg.show()\n",
    "print(f'MSSE: {poly_lin_reg.m_sse}')"
   ]
  },
  {
   "cell_type": "code",
   "execution_count": null,
   "metadata": {},
   "outputs": [],
   "source": []
  },
  {
   "cell_type": "markdown",
   "metadata": {},
   "source": [
    "#### Test: polynomial regression with high degree polynomials\n",
    "\n",
    "Repeat the steps from the $p = 1$ test above in the cell below, but this time try $p = 7$. \n",
    "\n",
    "*Your regression fit should not be a line!*"
   ]
  },
  {
   "cell_type": "code",
   "execution_count": 12,
   "metadata": {},
   "outputs": [
    {
     "data": {
      "image/png": "[encoded data removed]",
      "text/plain": [
       "<Figure size 576x396 with 1 Axes>"
      ]
     },
     "metadata": {},
     "output_type": "display_data"
    },
    {
     "name": "stdout",
     "output_type": "stream",
     "text": [
      "MSSE: 55.030880732781014\n"
     ]
    }
   ],
   "source": [
    "poly_filename = 'data/poly_data.csv'\n",
    "poly_data = data.Data(poly_filename)\n",
    "poly_lin_reg = linear_regression.LinearRegression(poly_data)\n",
    "poly_lin_reg.linear_regression(['X'], 'Y', p = 7)\n",
    "poly_lin_reg.scatter('X','Y')\n",
    "poly_lin_reg.show()\n",
    "print(f'MSSE: {poly_lin_reg.m_sse}')"
   ]
  },
  {
   "cell_type": "markdown",
   "metadata": {},
   "source": [
    "**Question 5:** Describe the fit compared to `p=1` — is it better or worse? Why?\n",
    "\n",
    "**Question 6:** Describe what happens visually and in terms of the $R^2$ and MSE values as you experiment with the polynomial degree between 1 and 7."
   ]
  },
  {
   "cell_type": "markdown",
   "metadata": {},
   "source": [
    "**Answer 5:** \n",
    "\n",
    "**Answer 6:** "
   ]
  },
  {
   "cell_type": "markdown",
   "metadata": {},
   "source": [
    "## Task 4: Overfitting\n",
    "\n",
    "In this subtask, you will experiment with how polynomial regression generalize to data not used to fit the regression model."
   ]
  },
  {
   "cell_type": "markdown",
   "metadata": {},
   "source": [
    "### 4a) Create fit and validation sets\n",
    "\n",
    "The `poly_data.csv` dataset has 100 samples ($N=100$). In the cell below, split these samples into two separate \"datasets\" and create 2 `Data` objects representing:\n",
    "- The first 50% of samples will be used to fit the regression model (i.e. run linear regression on these samples). We will call this the **fit set** (data used to fit the regression).\n",
    "- The second 50% of samples will be set aside and only used to check how well the fitted regression generalizes to new data. We will call this the **validation set**.\n",
    "\n",
    "*Hint: There is a helpful `Data` method for paring down a dataset into a certain range of samples.*"
   ]
  },
  {
   "cell_type": "code",
   "execution_count": null,
   "metadata": {},
   "outputs": [],
   "source": []
  },
  {
   "cell_type": "markdown",
   "metadata": {},
   "source": [
    "Printing the `Data` object storing the fit set should yield:\n",
    "\n",
    "    -------------------------------\n",
    "    data/polydata.csv (50x2)\n",
    "    Headers:\n",
    "    X\tY\n",
    "    Types:\n",
    "    numeric\tnumeric\n",
    "    -------------------------------\n",
    "    Showing first 5/50 rows.\n",
    "    2.147\t11.382\n",
    "    9.465\t1.034\n",
    "    4.52\t20.251\n",
    "    1.974\t2.89\n",
    "    -3.358\t-6.809\n",
    "\n",
    "    -------------------------------\n",
    "\n",
    "Printing the `Data` object storing the validation set should yield:\n",
    "\n",
    "    -------------------------------\n",
    "    data/polydata.csv (50x2)\n",
    "    Headers:\n",
    "    X\tY\n",
    "    Types:\n",
    "    numeric\tnumeric\n",
    "    -------------------------------\n",
    "    Showing first 5/50 rows.\n",
    "    -3.65\t-4.658\n",
    "    9.69\t-6.107\n",
    "    -21.986\t-17.271\n",
    "    -8.694\t-2.22\n",
    "    -15.536\t-25.608\n",
    "\n",
    "    -------------------------------"
   ]
  },
  {
   "cell_type": "markdown",
   "metadata": {},
   "source": [
    "### 4b) Check fit generalization on validation set\n",
    "\n",
    "Here is the process for checking how well your fitted linear regression model generalizes to the validation data:\n",
    "1. Create `Data` objects for both the fit and validation data sets (*as you have already done*).\n",
    "2. Run linear regression on the fit set.\n",
    "3. Create a new `LinearRegression` object associated with the validation data.\n",
    "4. Copy over the fitted slope and intercept coefficients associated with the fit set to the validation set `LinearRegression` object.\n",
    "5. Create a scatterplot by calling `scatter` to show the validation data and the regression curve that uses the coefficients fitted on the fit dataset (copied over in Step 4).\n",
    "6. Calculate and report fit statistics (e.g. MSSE, $R^2$).\n",
    "\n",
    "Before doing this, implement the following methods to help you copy over the fitted slope, intercept and other data from your fit set `LinearRegression` object:\n",
    "\n",
    "- `get_fitted_slope`: return the fitted regression slopes.\n",
    "- `get_fitted_intercept`: return the fitted regression intercept.\n",
    "- `initialize(ind_vars, dep_var, slope, intercept, p)`: set fields based on passed in parameter values."
   ]
  },
  {
   "cell_type": "markdown",
   "metadata": {},
   "source": [
    "#### Check overfitting with $p = 7$ polynomial regression model\n",
    "\n",
    "In the cell below:\n",
    "\n",
    "1. Fit a polynomial regression model with $p = 7$ on the fit set.\n",
    "2. Create 2 scatter plots:\n",
    "    - Showing the fit set and regression curve fitted to it.\n",
    "    - Showing the validation set and regression curve that uses the fitted coefficients to the **fit set**.\n",
    "3. Compute and print the MSSE for both the fit and validation sets.\n",
    "\n",
    "Use the 6 step process above to guide you through the setup."
   ]
  },
  {
   "cell_type": "code",
   "execution_count": null,
   "metadata": {},
   "outputs": [],
   "source": []
  },
  {
   "cell_type": "markdown",
   "metadata": {},
   "source": [
    "**Question 7:** Describe how the fitted coefficients obtained for the fit set generalize to the validation set. Do they do a good or bad job? Why?\n",
    "\n",
    "**Question 8:** Does the generalization improve or worsen for polynomial degrees < 7? Are Back up your observations with numbers (e.g. MSSE, $R^2$).\n",
    "\n",
    "**Question 9:** Are there any values/ranges of polynomial degrees that generalize acceptably to the validation set? Why do you think so?\n",
    "\n",
    "**Question 10:** What happens when you increase the polynomial degree above 7, in the range $7-13$? Why do you think this happens? Back up your observations with numbers (e.g. MSSE, $R^2$)."
   ]
  },
  {
   "cell_type": "markdown",
   "metadata": {},
   "source": [
    "**Answer 7:**\n",
    "\n",
    "**Answer 8:** \n",
    "\n",
    "**Answer 9:** \n",
    "\n",
    "**Answer 10:**"
   ]
  },
  {
   "cell_type": "code",
   "execution_count": null,
   "metadata": {},
   "outputs": [],
   "source": []
  },
  {
   "cell_type": "markdown",
   "metadata": {},
   "source": [
    "## Extensions\n",
    "\n",
    "To receive credit for any extension, you must:\n",
    "- Not modify / prevent any code from the core project from working (e.g. make a copy before changing). In other words, **the notebook test code should still work!**\n",
    "- **You must describe what you did and what you found in detail**. This includes a summary of parameter values used in your simulations.\n",
    "- Include (*labeled!*) plots and/or numbers to present your results.\n",
    "- Write up your extensions below or in a separate notebook.\n",
    "\n",
    "**Rule of thumb: one deep, thorough extension is worth more than several quick, shallow extensions!**\n",
    "\n",
    "**Reminder:** Give credit to all sources, including anyone that you consulted."
   ]
  },
  {
   "cell_type": "markdown",
   "metadata": {},
   "source": [
    "### 1. Your own data\n",
    "\n",
    "- Run linear regression on datasets that interest you. Identify your hypotheses about the association between variables and test them out. Make plots and report all relevant metrics fit."
   ]
  },
  {
   "cell_type": "markdown",
   "metadata": {},
   "source": [
    "### 2. Linear regression algorithm comparison\n",
    "\n",
    "- Research and implement other the linear regression solver methods (e.g. normal equations).\n",
    "- Run and compare how well they do on a dataset of your choice.\n",
    "- Research and implement matrix condition number. Find a dataset with a poor matrix condition number and then compare the regression methods. Which does best and why?"
   ]
  },
  {
   "cell_type": "markdown",
   "metadata": {},
   "source": [
    "### 3. Confidence intervals or other kinds of error bars on linear regression plots\n",
    "\n",
    "- Add the option to plot 95% confidence intervals on the linear regression predictions in your plot functions (e.g. `scatter`)."
   ]
  },
  {
   "cell_type": "markdown",
   "metadata": {},
   "source": [
    "### 4. Overfitting\n",
    "\n",
    "- Run polynomial regression on other datasets. What degree polynomial works well? When do you overfit?"
   ]
  },
  {
   "cell_type": "markdown",
   "metadata": {},
   "source": [
    "### 5. Stepwise linear regression\n",
    "\n",
    "- Implement the stepwise linear regression discussed in class where you add variables to the regression model one-by-one in a greedy fashion: each variable added out of the available ones not already entered in the regression should result in the largest increase in the adjusted $R^2$ value on the validation data."
   ]
  }
 ],
 "metadata": {
  "kernelspec": {
   "display_name": "Python 3",
   "language": "python",
   "name": "python3"
  },
  "language_info": {
   "codemirror_mode": {
    "name": "ipython",
    "version": 3
   },
   "file_extension": ".py",
   "mimetype": "text/x-python",
   "name": "python",
   "nbconvert_exporter": "python",
   "pygments_lexer": "ipython3",
   "version": "3.8.5"
  }
 },
 "nbformat": 4,
 "nbformat_minor": 2
}
