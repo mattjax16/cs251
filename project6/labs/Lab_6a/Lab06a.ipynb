{
 "cells": [
  {
   "cell_type": "markdown",
   "metadata": {},
   "source": [
    "# Lab 6A: K-Nearest Neighbor\n",
    "\n",
    "In this lab we will be using the library scikit-learn to train a K-Nearest Neighbor classifier and graph the results."
   ]
  },
  {
   "cell_type": "code",
   "execution_count": 4,
   "metadata": {},
   "outputs": [
    {
     "name": "stdout",
     "output_type": "stream",
     "text": [
      "The autoreload extension is already loaded. To reload it, use:\n",
      "  %reload_ext autoreload\n"
     ]
    }
   ],
   "source": [
    "import numpy as np\n",
    "import matplotlib.pyplot as plt\n",
    "import pandas as pd\n",
    "from sklearn import neighbors, datasets\n",
    "from matplotlib.colors import ListedColormap\n",
    "\n",
    "plt.style.use(['seaborn-colorblind', 'seaborn-darkgrid'])\n",
    "plt.rcParams.update({'font.size': 20})\n",
    "\n",
    "np.set_printoptions(suppress=True, precision=5)\n",
    "\n",
    "# Automatically reload external modules\n",
    "%load_ext autoreload\n",
    "%autoreload 2"
   ]
  },
  {
   "cell_type": "markdown",
   "metadata": {},
   "source": [
    "## Task 1: Load and visualize dataset\n",
    "\n",
    "- Below, load in the datasets (`file_train.csv`, `file_test.csv`). the training set has 800 samples and the test set has 200 samples.\n",
    "- Create a figure with two subplots showing the train and test data side-by-side.\n",
    "    - Be sure to label your subplots with informative titles (which datset are we looking at?).\n",
    "    - Color-code the points based on their class.\n",
    "    - Set the figure size to make everything clearly legible (not microscopic).\n",
    "\n",
    "#### Format of data\n",
    "- Column 1: x coordinate of a 2D point.\n",
    "- Column 2: y coordinate of a 2D point.\n",
    "- Column 3: class. Which spiral arm does the point belong to? Labels: [0, 1]"
   ]
  },
  {
   "cell_type": "code",
   "execution_count": 117,
   "metadata": {},
   "outputs": [],
   "source": []
  },
  {
   "cell_type": "markdown",
   "metadata": {},
   "source": [
    "## Task 2: Predict dataset and graph results\n",
    "\n",
    "1. Create a [K-Nearest Neighbors Classifier](https://scikit-learn.org/stable/modules/generated/sklearn.neighbors.KNeighborsClassifier.html) [(More Info)](https://scikit-learn.org/stable/modules/neighbors.html#classification).  Set `n_neighbors` equal to 10.\n",
    "2. Use the fit method with the coordinate columns of the training dataset as X and the class column as the target.\n",
    "3. Calculate the accuracy of the classifier with the test data using the score method.\n",
    "4. Print the accuracy of the classifier.\n",
    "    "
   ]
  },
  {
   "cell_type": "code",
   "execution_count": 1,
   "metadata": {},
   "outputs": [
    {
     "name": "stdout",
     "output_type": "stream",
     "text": [
      "Your accuracy should be 0.92\n"
     ]
    }
   ],
   "source": [
    "\n",
    "print(\"Your accuracy should be 0.92\")"
   ]
  },
  {
   "cell_type": "markdown",
   "metadata": {},
   "source": [
    "## Task 3: Visualize class boundaries\n",
    "\n",
    "Visualize how different regions of the (2D) dataspace would be classified based on the results of the trained KNN Classifier from Task 2.\n",
    "\n",
    "1. Create a meshgrid for predicting values\n",
    "    1. Create a [linspace](https://numpy.org/doc/stable/reference/generated/numpy.linspace.html) for your x-axis and your y-axis\n",
    "        2. Set the start argument to the min value of your column -.5\n",
    "        3. Set the end argument to the max value of your column +.5\n",
    "        4. Set the number of samples to 300\n",
    "    2. Assign `x_samples` and `y_samples` to a [meshgrid](https://docs.scipy.org/doc/numpy/reference/generated/numpy.meshgrid.html) with the linspace as the arguments for x1 and x2.\n",
    "    3. [Flatten](https://docs.scipy.org/doc/numpy/reference/generated/numpy.matrix.flatten.html)`x_samples` and `y_samples` and save into new variables.\n",
    "    3. Create a list of x and y sample coordinate pairs, by [column stacking](https://docs.scipy.org/doc/numpy/reference/generated/numpy.column_stack.html) the flattened x_samples and y_samples\n",
    "2. Use your coordinate pairs as predict inputs for the knn classifier you created in Task 2. \n",
    "3. Reshape the results to the same shape as `x_samples`.\n",
    "1. In 1 plot, graph your results\n",
    "    1. Create two [ListedColormap](https://matplotlib.org/3.2.1/api/_as_gen/matplotlib.colors.ListedColormap.html) [(example)](https://matplotlib.org/3.2.1/tutorials/colors/colormap-manipulation.html)\n",
    "        1. One should have dark values of 2 colors\n",
    "        1. One should have light values of the same 2 colors\n",
    "    1. Use [pcolormesh](https://matplotlib.org/3.2.1/api/_as_gen/matplotlib.pyplot.pcolormesh.html) to plot your predicted values grid.\n",
    "        1. Plot x_samples, y_samples and your reshaped predicted results and the light value colormap.\n",
    "    2. Plot the training points with using a scatter plot with the dark value colormap.\n",
    "    3. Title your plot and label the axis."
   ]
  },
  {
   "cell_type": "code",
   "execution_count": null,
   "metadata": {},
   "outputs": [],
   "source": []
  }
 ],
 "metadata": {
  "kernelspec": {
   "display_name": "Python 3",
   "language": "python",
   "name": "python3"
  },
  "language_info": {
   "codemirror_mode": {
    "name": "ipython",
    "version": 3
   },
   "file_extension": ".py",
   "mimetype": "text/x-python",
   "name": "python",
   "nbconvert_exporter": "python",
   "pygments_lexer": "ipython3",
   "version": "3.9.4"
  }
 },
 "nbformat": 4,
 "nbformat_minor": 4
}
